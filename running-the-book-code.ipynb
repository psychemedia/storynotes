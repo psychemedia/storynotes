{
 "cells": [
  {
   "cell_type": "markdown",
   "id": "b5474e2d",
   "metadata": {},
   "source": [
    "(running-code)=\n",
    "# Invoking the Incantations Contained in This Book\n",
    "\n",
    "The role the code incantations play in this book takes various forms.\n",
    "\n",
    "Firstly, the incantations are used to produce various treasures, assets and databases used in other parts of the book. Secondly, the incantations demonstrate how to work with the magical things we have created. Thirdly, the incantations itself form part of the story, explaining how we can come to create our own tools as we construct them, much like a blacksmith creates their own tools.\n",
    "\n",
    "As suggested in the previous chapter, some of the incantations are made up and constructed anew, whilst others, often very powerful, third party spells and incantations, are shamelessly borrowed and reused. (As in the world of story, so in the world of code...)\n",
    "\n",
    "At times, gaining access to some of these third party packages can be...*somewhat complicated*.\n",
    "\n",
    "Not because the scripts aren't readily available. Far from it... But rather because they sometimes take a quite a lot of setting up...\n",
    "\n",
    "Just like the challenges that keep getting set by a King who really doesn't want the tinker to marry his daughter, no matter how resourceful or capable the tinker appears to be: just when you think you've done everything you've needed, there's always just \"one more thing\" to do..."
   ]
  },
  {
   "cell_type": "markdown",
   "id": "1f889793",
   "metadata": {},
   "source": [
    "```{warning}\n",
    "Rituals are often performed in very particular order. Get the order wrong, and *bad things may happen*, if anything happens at all.\n",
    "\n",
    "So click the *Run* buttons in the order they appear in the page. And click every one, just to be safe.\n",
    "\n",
    "If you break the order, or miss a step out, on your own head be it. \n",
    "\n",
    "If you get in a pickle, there are a couple of ways out:\n",
    "\n",
    "- click _\"restart\"_ to push the genie back into their bottle and then summon them again for a fresh start. \n",
    "\n",
    "- click _\"restart and run all\"_ to to push the genie back into their bottle, summon them again for a fresh start, then make all the wishes in all the code cells in turn. \n",
    "\n",
    "\n",
    "*If you changed any of the incantation words, reload the page to reset them to how they work, and perform the genie summoning \"click _Live Code_ button ritual again.*\n",
    "```"
   ]
  },
  {
   "cell_type": "markdown",
   "id": "6090e402",
   "metadata": {},
   "source": [
    "## Running the Code *Inside* the Book\n",
    "\n",
    "If you've read the previous chapter ({ref}`how-to-read-book`), you'll know that the rocket themed *launch menu* in the toolbar at the top of the book page can be used to activate the code cells via a wish granting genie that exists somewhere on the internet.\n",
    "\n",
    "And that by *running* the code cells you can execute the code within them, *including* any changes or additions you may have made to the incantations."
   ]
  },
  {
   "cell_type": "markdown",
   "id": "a6aa306c",
   "metadata": {},
   "source": [
    "## Running the Code Inside a Magical Grimoire Notebook\n",
    "\n",
    "As well as running our code invocations *inside* the online book, we can also open the pages in a magical grimoire that has its own genie attached.\n",
    "\n",
    "Cells are selected inside the grimoire by clicking on them. The genie is asked to grant the wish by clicking on the grimoire play button when the wish cell is selected.\n",
    "\n",
    "There are two ways to do this..."
   ]
  },
  {
   "cell_type": "markdown",
   "id": "e2c4f663",
   "metadata": {},
   "source": [
    "### Take Me To the Binder\n",
    "\n",
    "One is to open the grimoire with an all powerful genie attached: from the *rocket* signed *launch menu* select the *Binder* option. This will summon a magical fairy wind that will carry you off to the far off lands of Jupyter and drop you inside a living notebook, within which you can edit all the text and change all the words of incantation.\n",
    "\n",
    "Two little cloud icons with up arrows and down arrows let you save any changes you make (*down cloud arrow*) into a treasure chest buried in a dark dungeon buried deep within your web browser, or recover them from the treasure chest (*up cloud arrow*).\n",
    "\n",
    "If you want to revert to the original version of a page after making changes, reload the page and *don't reload the notebook* from the browser storage treasure chest."
   ]
  },
  {
   "cell_type": "markdown",
   "id": "2be91e15",
   "metadata": {},
   "source": [
    "### Grant Me JupyterLite\n",
    "\n",
    "The other way is to select the *RetroLite* option from the *rocket* signed *launch menu*. For some pages, this will open a magic room inside your browser powered by a slightly less powerful genie who has been smuggled inside. Some of the more powerful commands, particular ones summoned from elsewhere, may not work inside this room.\n",
    "\n",
    "One advantage of this second approach is that once the page is loaded in your browser, *and until such as a time as you close the tab it resides in*, you can take your computer to far off lands where the internet does not reach and, the little genie snuggled inside will still be able to grant some of your wishes.\n",
    "\n",
    "If you make a mess of the spell page, click the *jupyterlite* button to take you to the waiting room, double clicj on the name of the notebook page you were editing, __AND DELETE IT__.\n",
    "\n",
    "The changes will be gone, but if you double click on the link to reopen it, you find it has reverted to its original state, as if by magic...\n",
    "\n",
    "```{seealso}\n",
    "At the current time, the {ref}`how-to-read-book` page is the best page to try the lightweight genie approach on.\n",
    "```"
   ]
  }
 ],
 "metadata": {
  "kernelspec": {
   "display_name": "Python 3",
   "language": "python",
   "name": "python3"
  },
  "language_info": {
   "codemirror_mode": {
    "name": "ipython",
    "version": 3
   },
   "file_extension": ".py",
   "mimetype": "text/x-python",
   "name": "python",
   "nbconvert_exporter": "python",
   "pygments_lexer": "ipython3",
   "version": "3.9.8"
  }
 },
 "nbformat": 4,
 "nbformat_minor": 5
}
