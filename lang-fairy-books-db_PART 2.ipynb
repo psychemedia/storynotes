{
 "cells": [
  {
   "cell_type": "code",
   "execution_count": 1,
   "id": "0374c73f",
   "metadata": {},
   "outputs": [],
   "source": [
    "from sqlite_utils import Database\n",
    "\n",
    "db_name = \"lang_fairy_tale.db\"\n",
    "db = Database(db_name)\n",
    "\n",
    "# Load in the \n",
    "%load_ext sql\n",
    "%sql sqlite:///$db_name"
   ]
  },
  {
   "cell_type": "code",
   "execution_count": 2,
   "id": "a0a20ab0",
   "metadata": {},
   "outputs": [
    {
     "name": "stdout",
     "output_type": "stream",
     "text": [
      " * sqlite:///lang_fairy_tale.db\n",
      "Done.\n"
     ]
    },
    {
     "data": {
      "text/html": [
       "<table>\n",
       "    <tr>\n",
       "        <th>book</th>\n",
       "        <th>title</th>\n",
       "        <th>text</th>\n",
       "        <th>last_para</th>\n",
       "        <th>first_line</th>\n",
       "        <th>provenance</th>\n",
       "        <th>chapter_order</th>\n",
       "    </tr>\n",
       "    <tr>\n",
       "        <td>The Blue Fairy Book</td>\n",
       "        <td>The Bronze Ring</td>\n",
       "        <td>Once upon a time in a certain country there lived a king whose palace was surrounded by a spacious garden. But, though the gardeners were many and the soil was good, this garden yielded neither flowers nor fruits, not even grass or shady trees.<br><br>The King was in despair about it, when a wise old man said to him:<br><br>&quot;Your gardeners do not understand their business: but what can you expect of men whose fathers were cobblers and carpenters? How should they have learned to cultivate your garden?&quot;<br><br>&quot;You are quite right,&quot; cried the King.<br><br>&quot;Therefore,&quot; continued the old man, &quot;you should send for a gardener whose father and grandfather have been gardeners before him, and very soon your garden will be full of green grass and gay flowers, and you will enjoy its delicious fruit.&quot;<br><br>So the King sent messengers to every town, village, and hamlet in his dominions, to look for a gardener whose forefathers had been gardeners also, and after forty days one was found.<br><br>&quot;Come with us and be gardener to the King,&quot; they said to him.<br><br>&quot;How can I go to the King,&quot; said the gardener, &quot;a poor wretch like me?&quot;<br><br>&quot;That is of no consequence,&quot; they answered. &quot;Here are new clothes for you and your family.&quot;<br><br>&quot;But I owe money to several people.&quot;<br><br>&quot;We will pay your debts,&quot; they said.<br><br>So the gardener allowed himself to be persuaded, and went away with the messengers, taking his wife and his son with him; and the King, delighted to have found a real gardener, entrusted him with the care of his garden. The man found no difficulty in making the royal garden produce flowers and fruit, and at the end of a year the park was not like the same place, and the King showered gifts upon his new servant.<br><br>The gardener, as you have heard already, had a son, who was a very handsome young man, with most agreeable manners, and every day he carried the best fruit of the garden to the King, and all the prettiest flowers to his daughter. Now this princess was wonderfully pretty and was just sixteen years old, and the King was beginning to think it was time that she should be married.<br><br>&quot;My dear child,&quot; said he, &quot;you are of an age to take a husband, therefore I am thinking of marrying you to the son of my prime minister.<br><br>&quot;Father,&quot; replied the Princess, &quot;I will never marry the son of the minister.&quot;<br><br>&quot;Why not?&quot; asked the King.<br><br>&quot;Because I love the gardener&#x27;s son,&quot; answered the Princess.<br><br>On hearing this the King was at first very angry, and then he wept and sighed, and declared that such a husband was not worthy of his daughter; but the young Princess was not to be turned from her resolution to marry the gardener&#x27;s son.<br><br>Then the King consulted his ministers. &quot;This is what you must do,&quot; they said. &quot;To get rid of the gardener you must send both suitors to a very distant country, and the one who returns first shall marry your daughter.&quot;<br><br>The King followed this advice, and the minister&#x27;s son was presented with a splendid horse and a purse full of gold pieces, while the gardener&#x27;s son had only an old lame horse and a purse full of copper money, and every one thought he would never come back from his journey.<br><br>The day before they started the Princess met her lover and said to him:<br><br>&quot;Be brave, and remember always that I love you. Take this purse full of jewels and make the best use you can of them for love of me, and come back quickly and demand my hand.&quot;<br><br>The two suitors left the town together, but the minister&#x27;s son went off at a gallop on his good horse, and very soon was lost to sight behind the most distant hills. He traveled on for some days, and presently reached a fountain beside which an old woman all in rags sat upon a stone.<br><br>&quot;Good-day to you, young traveler,&quot; said she.<br><br>But the minister&#x27;s son made no reply.<br><br>&quot;Have pity upon me, traveler,&quot; she said again. &quot;I am dying of hunger, as you see, and three days have I been here and no one has given me anything.&quot;<br><br>&quot;Let me alone, old witch,&quot; cried the young man; &quot;I can do nothing for you,&quot; and so saying he went on his way.<br><br>That same evening the gardener&#x27;s son rode up to the fountain upon his lame gray horse.<br><br>&quot;Good-day to you, young traveler,&quot; said the beggar-woman.<br><br>&quot;Good-day, good woman,&quot; answered he.<br><br>&quot;Young traveler, have pity upon me.&quot;<br><br>&quot;Take my purse, good woman,&quot; said he, &quot;and mount behind me, for your legs can&#x27;t be very strong.&quot;<br><br>The old woman didn&#x27;t wait to be asked twice, but mounted behind him, and in this style they reached the chief city of a powerful kingdom. The minister&#x27;s son was lodged in a grand inn, the gardener&#x27;s son and the old woman dismounted at the inn for beggars.<br><br>The next day the gardener&#x27;s son heard a great noise in the street, and the King&#x27;s heralds passed, blowing all kinds of instruments, and crying:<br><br>&quot;The King, our master, is old and infirm. He will give a great reward to whoever will cure him and give him back the strength of his youth.&quot;<br><br>Then the old beggar-woman said to her benefactor:<br><br>&quot;This is what you must do to obtain the reward which the King promises. Go out of the town by the south gate, and there you will find three little dogs of different colors; the first will be white, the second black, the third red. You must kill them and then burn them separately, and gather up the ashes. Put the ashes of each dog into a bag of its own color, then go before the door of the palace and cry out, &#x27;A celebrated physician has come from Janina in Albania. He alone can cure the King and give him back the strength of his youth.&#x27; The King&#x27;s physicians will say, This is an impostor, and not a learned man,&#x27; and they will make all sorts of difficulties, but you will overcome them all at last, and will present yourself before the sick King. You must then demand as much wood as three mules can carry, and a great cauldron, and must shut yourself up in a room with the Sultan, and when the cauldron boils you must throw him into it, and there leave him until his flesh is completely separated from his bones. Then arrange the bones in their proper places, and throw over them the ashes out of the three bags. The King will come back to life, and will be just as he was when he was twenty years old. For your reward you must demand the bronze ring which has the power to grant you everything you desire. Go, my son, and do not forget any of my instructions.&quot;<br><br>The young man followed the old beggar-woman&#x27;s directions. On going out of the town he found the white, red, and black dogs, and killed and burnt them, gathering the ashes in three bags. Then he ran to the palace and cried:<br><br>&quot;A celebrated physician has just come from Janina in Albania. He alone can cure the King and give him back the strength of his youth.&quot;<br><br>The King&#x27;s physicians at first laughed at the unknown wayfarer, but the Sultan ordered that the stranger should be admitted. They brought the cauldron and the loads of wood, and very soon the King was boiling away. Toward mid-day the gardener&#x27;s son arranged the bones in their places, and he had hardly scattered the ashes over them before the old King revived, to find himself once more young and hearty.<br><br>&quot;How can I reward you, my benefactor?&quot; he cried. &quot;Will you take half my treasures?&quot;<br><br>&quot;No,&quot; said the gardener&#x27;s son.<br><br>&quot;My daughter&#x27;s hand?&quot;<br><br>&quot;_No_.&quot;<br><br>&quot;Take half my kingdom.&quot;<br><br>&quot;No. Give me only the bronze ring which can instantly grant me anything I wish for.&quot;<br><br>&quot;Alas!&quot; said the King, &quot;I set great store by that marvelous ring; nevertheless, you shall have it.&quot; And he gave it to him.<br><br>The gardener&#x27;s son went back to say good-by to the old beggar-woman; then he said to the bronze ring:<br><br>&quot;Prepare a splendid ship in which I may continue my journey. Let the hull be of fine gold, the masts of silver, the sails of brocade; let the crew consist of twelve young men of noble appearance, dressed like kings. St. Nicholas will be at the helm. As to the cargo, let it be diamonds, rubies, emeralds, and carbuncles.&quot;<br><br>And immediately a ship appeared upon the sea which resembled in every particular _the description given by the gardener&#x27;s son_, and, stepping on board, he continued his journey. Presently he arrived at a great town and established himself in a wonderful palace. After several days he met his rival, the minister&#x27;s son, who had spent all his money and was reduced to the disagreeable employment of a carrier of dust and rubbish. The gardener&#x27;s son said to him:<br><br>&quot;What is your name, what is your family, and from what country do you come?&quot;<br><br>&quot;I am the son of the prime minister of a great nation, and yet see what a degrading occupation I am reduced to.&quot;<br><br>&quot;Listen to me; though I don&#x27;t know anything more about you, I am willing to help you. I will give you a ship to take you back to your own country upon one condition.&quot;<br><br>&quot;Whatever it may be, I accept it willingly.&quot;  &quot;Follow me to my palace.&quot;<br><br>The minister&#x27;s son followed the rich stranger, whom he had not recognized. When they reached the palace the gardener&#x27;s son made a sign to his slaves, who completely undressed the new-comer.<br><br>&quot;Make this ring red-hot,&quot; commanded the master, &quot;and mark the man with it upon his back.&quot;<br><br>The slaves obeyed him.<br><br>&quot;Now, young man,&quot; said the rich stranger, &quot;I am going to give you a vessel which will take you back to your own country.&quot;<br><br>And, going out, he took the bronze ring and said:<br><br>&quot;Bronze ring, obey thy master. Prepare me a ship of which the half-rotten timbers shall be painted black, let the sails be in rags, and the sailors infirm and sickly. One shall have lost a leg, another an arm, the third shall be a hunchback, another lame or club-footed or blind, and most of them shall be ugly and covered with scars. Go, and let my orders be executed.&quot;<br><br>The minister&#x27;s son embarked in this old vessel, and thanks to favorable winds, at length reached his own country. In spite of the pitiable condition in which he returned they received him joyfully.<br><br>&quot;I am the first to come back,&quot; said he to the King; now fulfil your promise, and give me the princess in marriage.<br><br>So they at once began to prepare for the wedding festivities. As to the poor princess, she was sorrowful and angry enough about it.<br><br>The next morning, at daybreak, a wonderful ship with every sail set came to anchor before the town. The King happened at that moment to be at the palace window.<br><br>&quot;What strange ship is this,&quot; he cried, &quot;that has a golden hull, silver masts, and silken sails, and who are the young men like princes who man it? And do I not see St. Nicholas at the helm? Go at once and invite the captain of the ship to come to the palace.&quot;<br><br>His servants obeyed him, and very soon in came an enchantingly handsome young prince, dressed in rich silk, ornamented with pearls and diamonds.<br><br>&quot;Young man,&quot; said the King, &quot;you are welcome, whoever you may be. Do me the favor to be my guest as long as you remain in my capital.&quot;<br><br>&quot;Many thanks, sire,&quot; replied the captain, &quot;I accept your offer.&quot;<br><br>&quot;My daughter is about to be married,&quot; said the King; &quot;will you give her away?&quot;<br><br>&quot;I shall be charmed, sire.&quot;<br><br>Soon after came the Princess and her betrothed.<br><br>&quot;Why, how is this?&quot; cried the young captain; &quot;would you marry this charming princess to such a man as that?&quot;<br><br>&quot;But he is my prime minister&#x27;s son!&quot;<br><br>&quot;What does that matter? I cannot give your daughter away. The man she is betrothed to is one of my servants.&quot;<br><br>&quot;Your servant?&quot;<br><br>&quot;Without doubt. I met him in a distant town reduced to carrying away dust and rubbish from the houses. I had pity on him and engaged him as one of my servants.&quot;<br><br>&quot;It is impossible!&quot; cried the King.<br><br>&quot;Do you wish me to prove what I say? This young man returned in a vessel which I fitted out for him, an unseaworthy ship with a black battered hull, and the sailors were infirm and crippled.&quot;<br><br>&quot;It is quite true,&quot; said the King.<br><br>&quot;It is false,&quot; cried the minister&#x27;s son. &quot;I do not know this man!&quot;<br><br>&quot;Sire,&quot; said the young captain, &quot;order your daughter&#x27;s betrothed to be stripped, and see if the mark of my ring is not branded upon his back.&quot;<br><br>The King was about to give this order, when the minister&#x27;s son, to save himself from such an indignity, admitted that the story was true.<br><br>&quot;And now, sire,&quot; said the young captain, &quot;do you not recognize me?&quot;<br><br>&quot;I recognize you,&quot; said the Princess; &quot;you are the gardener&#x27;s son whom I have always loved, and it is you I wish to marry.&quot;<br><br>&quot;Young man, you shall be my son-in-law,&quot; cried the King. &quot;The marriage festivities are already begun, so you shall marry my daughter this very day.&quot;<br><br>And so that very day the gardener&#x27;s son married the beautiful Princess.<br><br>Several months passed. The young couple were as happy as the day was long, and the King was more and more pleased with himself for having secured such a son-in-law.<br><br>But, presently, the captain of the golden ship found it necessary to take a long voyage, and after embracing his wife tenderly he embarked.<br><br>Now in the outskirts of the capital there lived an old man, who had spent his life in studying black arts--alchemy, astrology, magic, and enchantment. This man found out that the gardener&#x27;s son had only succeeded in marrying the Princess by the help of the genii who obeyed the bronze ring.<br><br>&quot;I will have that ring,&quot; said he to himself. So he went down to the sea-shore and caught some little red fishes. Really, they were quite wonderfully pretty. Then he came back, and, passing before the Princess&#x27;s window, he began to cry out:<br><br>&quot;Who wants some pretty little red fishes?&quot;<br><br>The Princess heard him, and sent out one of her slaves, who said to the old peddler:<br><br>&quot;What will you take for your fish?&quot;<br><br>&quot;A bronze ring.&quot;<br><br>&quot;A bronze ring, old simpleton! And where shall I find one?&quot;<br><br>&quot;Under the cushion in the Princess&#x27;s room.&quot;<br><br>The slave went back to her mistress.<br><br>&quot;The old madman will take neither gold nor silver,&quot; said she.<br><br>&quot;What does he want then?&quot;<br><br>&quot;A bronze ring that is hidden under a cushion.&quot;<br><br>&quot;Find the ring and give it to him,&quot; said the Princess.<br><br>And at last the slave found the bronze ring, which the captain of the golden ship had accidentally left behind and carried it to the man, who made off with it instantly.<br><br>Hardly had he reached his own house when, taking the ring, he said, &quot;Bronze ring, obey thy master. I desire that the golden ship shall turn to black wood, and the crew to hideous negroes; that St. Nicholas shall leave the helm and that the only cargo shall be black cats.&quot;<br><br>And the genii of the bronze ring obeyed him.<br><br>Finding himself upon the sea in this miserable condition, the young captain understood that some one must have stolen the bronze ring from him, and he lamented his misfortune loudly; but that did him no good.<br><br>&quot;Alas!&quot; he said to himself, &quot;whoever has taken my ring has probably taken my dear wife also. What good will it do me to go back to my own country?&quot; And he sailed about from island to island, and from shore to shore, believing that wherever he went everybody was laughing at him, and very soon his poverty was so great that he and his crew and the poor black cats had nothing to eat but herbs and roots. After wandering about a long time he reached an island inhabited by mice. The captain landed upon the shore and began to explore the country. There were mice everywhere, and nothing but mice. Some of the black cats had followed him, and, not having been fed for several days, they were fearfully hungry, and made terrible havoc among the mice.<br><br>Then the queen of the mice held a council.<br><br>&quot;These cats will eat every one of us,&quot; she said, &quot;if the captain of the ship does not shut the ferocious animals up. Let us send a deputation to him of the bravest among us.&quot;<br><br>Several mice offered themselves for this mission and set out to find the young captain.<br><br>&quot;Captain,&quot; said they, &quot;go away quickly from our island, or we shall perish, every mouse of us.&quot;<br><br>&quot;Willingly,&quot; replied the young captain, &quot;upon one condition. That is that you shall first bring me back a bronze ring which some clever magician has stolen from me. If you do not do this I will land all my cats upon your island, and you shall be exterminated.&quot;<br><br>The mice withdrew in great dismay. &quot;What is to be done?&quot; said the Queen. &quot;How can we find this bronze ring?&quot; She held a new council, calling in mice from every quarter of the globe, but nobody knew where the bronze ring was. Suddenly three mice arrived from a very distant country. One was blind, the second lame, and the third had her ears cropped.<br><br>&quot;Ho, ho, ho!&quot; said the new-comers. &quot;We come from a far distant country.&quot;<br><br>&quot;Do you know where the bronze ring is which the genii obey?&quot;<br><br>&quot;Ho, ho, ho! we know; an old sorcerer has taken possession of it, and now he keeps it in his pocket by day and in his mouth by night.&quot;<br><br>&quot;Go and take it from him, and come back as soon as possible.&quot;<br><br>So the three mice made themselves a boat and set sail for the magician&#x27;s country. When they reached the capital they landed and ran to the palace, leaving only the blind mouse on the shore to take care of the boat. Then they waited till it was night. The wicked old man lay down in bed and put the bronze ring into his mouth, and very soon he was asleep.<br><br>&quot;Now, what shall we do?&quot; said the two little animals to each other.<br><br>The mouse with the cropped ears found a lamp full of oil and a bottle full of pepper. So she dipped her tail first in the oil and then in the pepper, and held it to the sorcerer&#x27;s nose.<br><br>&quot;Atisha! atisha!&quot; sneezed the old man, but he did not wake, and the shock made the bronze ring jump out of his mouth. Quick as thought the lame mouse snatched up the precious talisman and carried it off to the boat.<br><br>Imagine the despair of the magician when he awoke and the bronze ring was nowhere to be found!<br><br>But by that time our three mice had set sail with their prize. A favoring breeze was carrying them toward the island where the queen of the mice was awaiting them. Naturally they began to talk about the bronze ring.<br><br>&quot;Which of us deserves the most credit?&quot; they cried all at once.<br><br>&quot;I do,&quot; said the blind mouse, &quot;for without my watchfulness our boat would have drifted away to the open sea.&quot;<br><br>&quot;No, indeed,&quot; cried the mouse with the cropped ears; &quot;the credit is mine. Did I not cause the ring to jump out of the man&#x27;s mouth?&quot;<br><br>&quot;No, it is mine,&quot; cried the lame one, &quot;for I ran off with the ring.&quot;<br><br>And from high words they soon came to blows, and, alas! when the quarrel was fiercest the bronze ring fell into the sea.<br><br>&quot;How are we to face our queen,&quot; said the three mice &quot;when by our folly we have lost the talisman and condemned our people to be utterly exterminated? We cannot go back to our country; let us land on this desert island and there end our miserable lives.&quot; No sooner said than done. The boat reached the island, and the mice landed.<br><br>The blind mouse was speedily deserted by her two sisters, who went off to hunt flies, but as she wandered sadly along the shore she found a dead fish, and was eating it, when she felt something very hard. At her cries the other two mice ran up.<br><br>&quot;It is the bronze ring! It is the talisman!&quot; they cried joyfully, and, getting into their boat again, they soon reached the mouse island. It was time they did, for the captain was just going to land his cargo of cats, when a deputation of mice brought him the precious bronze ring.<br><br>&quot;Bronze ring,&quot; commanded the young man, &quot;obey thy master. Let my ship appear as it was before.&quot;<br><br>Immediately the genii of the ring set to work, and the old black vessel became once more the wonderful golden ship with sails of brocade; the handsome sailors ran to the silver masts and the silken ropes, and very soon they set sail for the capital.<br><br>Ah! how merrily the sailors sang as they flew over the glassy sea!<br><br>At last the port was reached.<br><br>The captain landed and ran to the palace, where he found the wicked old man asleep. The Princess clasped her husband in a long embrace. The magician tried to escape, but he was seized and bound with strong cords.<br><br>The next day the sorcerer, tied to the tail of a savage mule loaded with nuts, was broken into as many pieces as there were nuts upon the mule&#x27;s back.[1]<br><br>[1] Traditions Populaires de l&#x27;Asie Mineure. Carnoy et Nicolaides. Paris: Maisonneuve, 1889.</td>\n",
       "        <td>[1] Traditions Populaires de l&#x27;Asie Mineure. Carnoy et Nicolaides. Paris: Maisonneuve, 1889.</td>\n",
       "        <td>Once upon a time in a certain country there lived a king whose palace was surrounded by a spacious garden.</td>\n",
       "        <td>Traditions Populaires de l&#x27;Asie Mineure. Carnoy et Nicolaides. Paris: Maisonneuve, 1889.</td>\n",
       "        <td>0</td>\n",
       "    </tr>\n",
       "    <tr>\n",
       "        <td>The Blue Fairy Book</td>\n",
       "        <td>Prince Hyacinth And The Dear Little Princess</td>\n",
       "        <td>Once upon a time there lived a king who was deeply in love with a princess, but she could not marry anyone, because she was under an enchantment. So the King set out to seek a fairy, and asked what he could do to win the Princess&#x27;s love. The Fairy said to him:<br><br>&quot;You know that the Princess has a great cat which she is very fond of. Whoever is clever enough to tread on that cat&#x27;s tail is the man she is destined to marry.&quot;<br><br>The King said to himself that this would not be very difficult, and he left the Fairy, determined to grind the cat&#x27;s tail to powder rather than not tread on it at all.<br><br>You may imagine that it was not long before he went to see the Princess, and puss, as usual, marched in before him, arching his back. The King took a long step, and quite thought he had the tail under his foot, but the cat turned round so sharply that he only trod on air. And so it went on for eight days, till the King began to think that this fatal tail must be full of quicksilver--it was never still for a moment.<br><br>At last, however, he was lucky enough to come upon puss fast asleep and with his tail conveniently spread out. So the King, without losing a moment, set his foot upon it heavily.<br><br>With one terrific yell the cat sprang up and instantly changed into a tall man, who, fixing his angry eyes upon the King, said:<br><br>&quot;You shall marry the Princess because you have been able to break the enchantment, but I will have my revenge. You shall have a son, who will never be happy until he finds out that his nose is too long, and if you ever tell anyone what I have just said to you, you shall vanish away instantly, and no one shall ever see you or hear of you again.&quot;<br><br>Though the King was horribly afraid of the enchanter, he could not help laughing at this threat.<br><br>&quot;If my son has such a long nose as that,&quot; he said to himself, &quot;he must always see it or feel it; at least, if he is not blind or without hands.&quot;<br><br>But, as the enchanter had vanished, he did not waste any more time in thinking, but went to seek the Princess, who very soon consented to marry him. But after all, they had not been married very long when the King died, and the Queen had nothing left to care for but her little son, who was called Hyacinth. The little Prince had large blue eyes, the prettiest eyes in the world, and a sweet little mouth, but, alas! his nose was so enormous that it covered half his face. The Queen was inconsolable when she saw this great nose, but her ladies assured her that it was not really as large as it looked; that it was a Roman nose, and you had only to open any history to see that every hero has a large nose. The Queen, who was devoted to her baby, was pleased with what they told her, and when she looked at Hyacinth again, his nose certainly did not seem to her _quite_ so large.<br><br>The Prince was brought up with great care; and, as soon as he could speak, they told him all sorts of dreadful stories about people who had short noses. No one was allowed to come near him whose nose did not more or less resemble his own, and the courtiers, to get into favor with the Queen, took to pulling their babies&#x27; noses several times every day to make them grow long. But, do what they would, they were nothing by comparison with the Prince&#x27;s.<br><br>When he grew sensible he learned history; and whenever any great prince or beautiful princess was spoken of, his teachers took care to tell him that they had long noses.<br><br>His room was hung with pictures, all of people with very large noses; and the Prince grew up so convinced that a long nose was a great beauty, that he would not on any account have had his own a single inch shorter!<br><br>When his twentieth birthday was passed the Queen thought it was time that he should be married, so she commanded that the portraits of several princesses should be brought for him to see, and among the others was a picture of the Dear Little Princess!<br><br>Now, she was the daughter of a great king, and would some day possess several kingdoms herself; but Prince Hyacinth had not a thought to spare for anything of that sort, he was so much struck with her beauty. The Princess, whom he thought quite charming, had, however, a little saucy nose, which, in her face, was the prettiest thing possible, but it was a cause of great embarrassment to the courtiers, who had got into such a habit of laughing at little noses that they sometimes found themselves laughing at hers before they had time to think; but this did not do at all before the Prince, who quite failed to see the joke, and actually banished two of his courtiers who had dared to mention disrespectfully the Dear Little Princess&#x27;s tiny nose!<br><br>The others, taking warning from this, learned to think twice before they spoke, and one even went so far as to tell the Prince that, though it was quite true that no man could be worth anything unless he had a long nose, still, a woman&#x27;s beauty was a different thing; and he knew a learned man who understood Greek and had read in some old manuscripts that the beautiful Cleopatra herself had a &quot;tip-tilted&quot; nose!<br><br>The Prince made him a splendid present as a reward for this good news, and at once sent ambassadors to ask the Dear Little Princess in marriage. The King, her father, gave his consent; and Prince Hyacinth, who, in his anxiety to see the Princess, had gone three leagues to meet her was just advancing to kiss her hand when, to the horror of all who stood by, the enchanter appeared as suddenly as a flash of lightning, and, snatching up the Dear Little Princess, whirled her away out of their sight!<br><br>The Prince was left quite unconsolable, and declared that nothing should induce him to go back to his kingdom until he had found her again, and refusing to allow any of his courtiers to follow him, he mounted his horse and rode sadly away, letting the animal choose his own path.<br><br>So it happened that he came presently to a great plain, across which he rode all day long without seeing a single house, and horse and rider were terribly hungry, when, as the night fell, the Prince caught sight of a light, which seemed to shine from a cavern.<br><br>He rode up to it, and saw a little old woman, who appeared to be at least a hundred years old.<br><br>She put on her spectacles to look at Prince Hyacinth, but it was quite a long time before she could fix them securely because her nose was so very short.<br><br>The Prince and the Fairy (for that was who she was) had no sooner looked at one another than they went into fits of laughter, and cried at the same moment, &quot;Oh, what a funny nose!&quot;<br><br>&quot;Not so funny as your own,&quot; said Prince Hyacinth to the Fairy; &quot;but, madam, I beg you to leave the consideration of our noses--such as they are--and to be good enough to give me something to eat, for I am starving, and so is my poor horse.&quot;<br><br>&quot;With all my heart,&quot; said the Fairy. &quot;Though your nose is so ridiculous you are, nevertheless, the son of my best friend. I loved your father as if he had been my brother. Now _he_ had a very handsome nose!&quot;<br><br>&quot;And pray what does mine lack?&quot; said the Prince.<br><br>&quot;Oh! it doesn&#x27;t _lack_ anything,&quot; replied the Fairy. &quot;On the contrary quite, there is only too much of it. But never mind, one may be a very worthy man though his nose is too long. I was telling you that I was your father&#x27;s friend; he often came to see me in the old times, and you must know that I was very pretty in those days; at least, he used to say so. I should like to tell you of a conversation we had the last time I ever saw him.&quot;<br><br>&quot;Indeed,&quot; said the Prince, &quot;when I have supped it will give me the greatest pleasure to hear it; but consider, madam, I beg of you, that I have had nothing to eat to-day.&quot;<br><br>&quot;The poor boy is right,&quot; said the Fairy; &quot;I was forgetting. Come in, then, and I will give you some supper, and while you are eating I can tell you my story in a very few words--for I don&#x27;t like endless tales myself. Too long a tongue is worse than too long a nose, and I remember when I was young that I was so much admired for not being a great chatterer. They used to tell the Queen, my mother, that it was so. For though you see what I am now, I was the daughter of a great king. My father----&quot;<br><br>&quot;Your father, I dare say, got something to eat when he was hungry!&quot; interrupted the Prince.<br><br>&quot;Oh! certainly,&quot; answered the Fairy, &quot;and you also shall have supper directly. I only just wanted to tell you----&quot;<br><br>&quot;But I really cannot listen to anything until I have had something to eat,&quot; cried the Prince, who was getting quite angry; but then, remembering that he had better be polite as he much needed the Fairy&#x27;s help, he added:<br><br>&quot;I know that in the pleasure of listening to you I should quite forget my own hunger; but my horse, who cannot hear you, must really be fed!&quot;<br><br>The Fairy was very much flattered by this compliment, and said, calling to her servants:<br><br>&quot;You shall not wait another minute, you are so polite, and in spite of the enormous size of your nose you are really very agreeable.&quot;<br><br>&quot;Plague take the old lady! How she does go on about my nose!&quot; said the Prince to himself. &quot;One would almost think that mine had taken all the extra length that hers lacks! If I were not so hungry I would soon have done with this chatterpie who thinks she talks very little! How stupid people are not to see their own faults! That comes of being a princess: she has been spoiled by flatterers, who have made her believe that she is quite a moderate talker!&quot;<br><br>Meanwhile the servants were putting the supper on the table, and the prince was much amused to hear the Fairy who asked them a thousand questions simply for the pleasure of hearing herself speak; especially he noticed one maid who, no matter what was being said, always contrived to praise her mistress&#x27;s wisdom.<br><br>&quot;Well!&quot; he thought, as he ate his supper, &quot;I&#x27;m very glad I came here. This just shows me how sensible I have been in never listening to flatterers. People of that sort praise us to our faces without shame, and hide our faults or change them into virtues. For my part I never will be taken in by them. I know my own defects, I hope.&quot;<br><br>Poor Prince Hyacinth! He really believed what he said, and hadn&#x27;t an idea that the people who had praised his nose were laughing at him, just as the Fairy&#x27;s maid was laughing at her; for the Prince had seen her laugh slyly when she could do so without the Fairy&#x27;s noticing her.<br><br>However, he said nothing, and presently, when his hunger began to be appeased, the Fairy said:<br><br>&quot;My dear Prince, might I beg you to move a little more that way, for your nose casts such a shadow that I really cannot see what I have on my plate. Ah! thanks. Now let us speak of your father. When I went to his Court he was only a little boy, but that is forty years ago, and I have been in this desolate place ever since. Tell me what goes on nowadays; are the ladies as fond of amusement as ever? In my time one saw them at parties, theatres, balls, and promenades every day. Dear me! _what_ a long nose you have! I cannot get used to it!&quot;<br><br>&quot;Really, madam,&quot; said the Prince, &quot;I wish you would leave off mentioning my nose. It cannot matter to you what it is like. I am quite satisfied with it, and have no wish to have it shorter. One must take what is given one.&quot;<br><br>&quot;Now you are angry with me, my poor Hyacinth,&quot; said the Fairy, &quot;and I assure you that I didn&#x27;t mean to vex you; on the contrary, I wished to do you a service. However, though I really cannot help your nose being a shock to me, I will try not to say anything about it. I will even try to think that you have an ordinary nose. To tell the truth, it would make three reasonable ones.&quot;<br><br>The Prince, who was no longer hungry, grew so impatient at the Fairy&#x27;s continual remarks about his nose that at last he threw himself upon his horse and rode hastily away. But wherever he came in his journeyings he thought the people were mad, for they all talked of his nose, and yet he could not bring himself to admit that it was too long, he had been so used all his life to hear it called handsome.<br><br>The old Fairy, who wished to make him happy, at last hit upon a plan. She shut the Dear Little Princess up in a palace of crystal, and put this palace down where the Prince would not fail to find it. His joy at seeing the Princess again was extreme, and he set to work with all his might to try to break her prison; but in spite of all his efforts he failed utterly. In despair he thought at least that he would try to get near enough to speak to the Dear Little Princess, who, on her part, stretched out her hand that he might kiss it; but turn which way he might, he never could raise it to his lips, for his long nose always prevented it. For the first time he realized how long it really was, and exclaimed:<br><br>&quot;Well, it must be admitted that my nose _is_ too long!&quot;<br><br>In an instant the crystal prison flew into a thousand splinters, and the old Fairy, taking the Dear Little Princess by the hand, said to the Prince:<br><br>&quot;Now, say if you are not very much obliged to me. Much good it was for me to talk to you about your nose! You would never have found out how extraordinary it was if it hadn&#x27;t hindered you from doing what you wanted to. You see how self-love keeps us from knowing our own defects of mind and body. Our reason tries in vain to show them to us; we refuse to see them till we find them in the way of our interests.&quot;<br><br>Prince Hyacinth, whose nose was now just like anyone&#x27;s else, did not fail to profit by the lesson he had received. He married the Dear Little Princess, and they lived happily ever after.[1]<br><br>[1] Le Prince Desir et la Princesse Mignonne. Par Madame Leprince de Beaumont.</td>\n",
       "        <td>[1] Le Prince Desir et la Princesse Mignonne. Par Madame Leprince de Beaumont.</td>\n",
       "        <td>Once upon a time there lived a king who was deeply in love with a princess, but she could not marry anyone, because she was under an enchantment.</td>\n",
       "        <td>Le Prince Desir et la Princesse Mignonne. Par Madame Leprince de Beaumont.</td>\n",
       "        <td>1</td>\n",
       "    </tr>\n",
       "    <tr>\n",
       "        <td>The Blue Fairy Book</td>\n",
       "        <td>East Of The Sun And West Of The Moon</td>\n",
       "        <td>Once upon a time there was a poor husbandman who had many children and little to give them in the way either of food or clothing. They were all pretty, but the prettiest of all was the youngest daughter, who was so beautiful that there were no bounds to her beauty.<br><br>So once--it was late on a Thursday evening in autumn, and wild weather outside, terribly dark, and raining so heavily and blowing so hard that the walls of the cottage shook again--they were all sitting together by the fireside, each of them busy with something or other, when suddenly some one rapped three times against the window-pane. The man went out to see what could be the matter, and when he got out there stood a great big white bear.<br><br>&quot;Good-evening to you,&quot; said the White Bear.<br><br>&quot;Good-evening,&quot; said the man.<br><br>&quot;Will you give me your youngest daughter?&quot; said the White Bear; &quot;if you will, you shall be as rich as you are now poor.&quot;<br><br>Truly the man would have had no objection to be rich, but he thought to himself: &quot;I must first ask my daughter about this,&quot; so he went in and told them that there was a great white bear outside who had faithfully promised to make them all rich if he might but have the youngest daughter.<br><br>She said no, and would not hear of it; so the man went out again, and settled with the White Bear that he should come again next Thursday evening, and get her answer. Then the man persuaded her, and talked so much to her about the wealth that they would have, and what a good thing it would be for herself, that at last she made up her mind to go, and washed and mended all her rags, made herself as smart as she could, and held herself in readiness to set out. Little enough had she to take away with her.<br><br>Next Thursday evening the White Bear came to fetch her. She seated herself on his back with her bundle, and thus they departed. When they had gone a great part of the way, the White Bear said: &quot;Are you afraid?&quot;<br><br>&quot;No, that I am not,&quot; said she.<br><br>&quot;Keep tight hold of my fur, and then there is no danger,&quot; said he.<br><br>And thus she rode far, far away, until they came to a great mountain. Then the White Bear knocked on it, and a door opened, and they went into a castle where there were many brilliantly lighted rooms which shone with gold and silver, likewise a large hall in which there was a well-spread table, and it was so magnificent that it would be hard to make anyone understand how splendid it was. The White Bear gave her a silver bell, and told her that when she needed anything she had but to ring this bell, and what she wanted would appear. So after she had eaten, and night was drawing near, she grew sleepy after her journey, and thought she would like to go to bed. She rang the bell, and scarcely had she touched it before she found herself in a chamber where a bed stood ready made for her, which was as pretty as anyone could wish to sleep in. It had pillows of silk, and curtains of silk fringed with gold, and everything that was in the room was of gold or silver, but when she had lain down and put out the light a man came and lay down beside her, and behold it was the White Bear, who cast off the form of a beast during the night. She never saw him, however, for he always came after she had put out her light, and went away before daylight appeared.<br><br>So all went well and happily for a time, but then she began to be very sad and sorrowful, for all day long she had to go about alone; and she did so wish to go home to her father and mother and brothers and sisters. Then the White Bear asked what it was that she wanted, and she told him that it was so dull there in the mountain, and that she had to go about all alone, and that in her parents&#x27; house at home there were all her brothers and sisters, and it was because she could not go to them that she was so sorrowful.<br><br>&quot;There might be a cure for that,&quot; said the White Bear, &quot;if you would but promise me never to talk with your mother alone, but only when the others are there too; for she will take hold of your hand,&quot; he said, &quot;and will want to lead you into a room to talk with you alone; but that you must by no means do, or you will bring great misery on both of us.&quot;<br><br>So one Sunday the White Bear came and said that they could now set out to see her father and mother, and they journeyed thither, she sitting on his back, and they went a long, long way, and it took a long, long time; but at last they came to a large white farmhouse, and her brothers and sisters were running about outside it, playing, and it was so pretty that it was a pleasure to look at it.<br><br>&quot;Your parents dwell here now,&quot; said the White Bear; &quot;but do not forget what I said to you, or you will do much harm both to yourself and me.&quot;<br><br>&quot;No, indeed,&quot; said she, &quot;I shall never forget;&quot; and as soon as she was at home the White Bear turned round and went back again.<br><br>There were such rejoicings when she went in to her parents that it seemed as if they would never come to an end. Everyone thought that he could never be sufficiently grateful to her for all she had done for them all. Now they had everything that they wanted, and everything was as good as it could be. They all asked her how she was getting on where she was. All was well with her too, she said; and she had everything that she could want. What other answers she gave I cannot say, but I am pretty sure that they did not learn much from her. But in the afternoon, after they had dined at midday, all happened just as the White Bear had said. Her mother wanted to talk with her alone in her own chamber. But she remembered what the White Bear had said, and would on no account go. &quot;What we have to say can be said at any time,&quot; she answered. But somehow or other her mother at last persuaded her, and she was forced to tell the whole story. So she told how every night a man came and lay down beside her when the lights were all put out, and how she never saw him, because he always went away before it grew light in the morning, and how she continually went about in sadness, thinking how happy she would be if she could but see him, and how all day long she had to go about alone, and it was so dull and solitary. &quot;Oh!&quot; cried the mother, in horror, &quot;you are very likely sleeping with a troll! But I will teach you a way to see him. You shall have a bit of one of my candles, which you can take away with you hidden in your breast. Look at him with that when he is asleep, but take care not to let any tallow drop upon him.&quot;<br><br>So she took the candle, and hid it in her breast, and when evening drew near the White Bear came to fetch her away. When they had gone some distance on their way, the White Bear asked her if everything had not happened just as he had foretold, and she could not but own that it had. &quot;Then, if you have done what your mother wished,&quot; said he, &quot;you have brought great misery on both of us.&quot; &quot;No,&quot; she said, &quot;I have not done anything at all.&quot; So when she had reached home and had gone to bed it was just the same as it had been before, and a man came and lay down beside her, and late at night, when she could hear that he was sleeping, she got up and kindled a light, lit her candle, let her light shine on him, and saw him, and he was the handsomest prince that eyes had ever beheld, and she loved him so much that it seemed to her that she must die if she did not kiss him that very moment. So she did kiss him; but while she was doing it she let three drops of hot tallow fall upon his shirt, and he awoke. &quot;What have you done now?&quot; said he; &quot;you have brought misery on both of us. If you had but held out for the space of one year I should have been free. I have a step-mother who has bewitched me so that I am a white bear by day and a man by night; but now all is at an end between you and me, and I must leave you, and go to her. She lives in a castle which lies east of the sun and west of the moon, and there too is a princess with a nose which is three ells long, and she now is the one whom I must marry.&quot;<br><br>She wept and lamented, but all in vain, for go he must. Then she asked him if she could not go with him. But no, that could not be. &quot;Can you tell me the way then, and I will seek you--that I may surely be allowed to do!&quot;<br><br>&quot;Yes, you may do that,&quot; said he; &quot;but there is no way thither. It lies east of the sun and west of the moon, and never would you find your way there.&quot;<br><br>When she awoke in the morning both the Prince and the castle were gone, and she was lying on a small green patch in the midst of a dark, thick wood. By her side lay the self-same bundle of rags which she had brought with her from her own home. So when she had rubbed the sleep out of her eyes, and wept till she was weary, she set out on her way, and thus she walked for many and many a long day, until at last she came to a great mountain. Outside it an aged woman was sitting, playing with a golden apple. The girl asked her if she knew the way to the Prince who lived with his stepmother in the castle which lay east of the sun and west of the moon, and who was to marry a princess with a nose which was three ells long. &quot;How do you happen to know about him?&quot; inquired the old woman; &quot;maybe you are she who ought to have had him.&quot; &quot;Yes, indeed, I am,&quot; she said. &quot;So it is you, then?&quot; said the old woman; &quot;I know nothing about him but that he dwells in a castle which is east of the sun and west of the moon. You will be a long time in getting to it, if ever you get to it at all; but you shall have the loan of my horse, and then you can ride on it to an old woman who is a neighbor of mine: perhaps she can tell you about him. When you have got there you must just strike the horse beneath the left ear and bid it go home again; but you may take the golden apple with you.&quot;<br><br>So the girl seated herself on the horse, and rode for a long, long way, and at last she came to the mountain, where an aged woman was sitting outside with a gold carding-comb. The girl asked her if she knew the way to the castle which lay east of the sun and west of the moon; but she said what the first old woman had said: &quot;I know nothing about it, but that it is east of the sun and west of the moon, and that you will be a long time in getting to it, if ever you get there at all; but you shall have the loan of my horse to an old woman who lives the nearest to me: perhaps she may know where the castle is, and when you have got to her you may just strike the horse beneath the left ear and bid it go home again.&quot; Then she gave her the gold carding-comb, for it might, perhaps, be of use to her, she said.<br><br>So the girl seated herself on the horse, and rode a wearisome long way onward again, and after a very long time she came to a great mountain, where an aged woman was sitting, spinning at a golden spinning-wheel. Of this woman, too, she inquired if she knew the way to the Prince, and where to find the castle which lay east of the sun and west of the moon. But it was only the same thing once again. &quot;Maybe it was you who should have had the Prince,&quot; said the old woman. &quot;Yes, indeed, I should have been the one,&quot; said the girl. But this old crone knew the way no better than the others--it was east of the sun and west of the moon, she knew that, &quot;and you will be a long time in getting to it, if ever you get to it at all,&quot; she said; &quot;but you may have the loan of my horse, and I think you had better ride to the East Wind, and ask him: perhaps he may know where the castle is, and will blow you thither. But when you have got to him you must just strike the horse beneath the left ear, and he will come home again.&quot; And then she gave her the golden spinning-wheel, saying: &quot;Perhaps you may find that you have a use for it.&quot;<br><br>The girl had to ride for a great many days, and for a long and wearisome time, before she got there; but at last she did arrive, and then she asked the East Wind if he could tell her the way to the Prince who dwelt east of the sun and west of the moon. &quot;Well,&quot; said the East Wind, &quot;I have heard tell of the Prince, and of his castle, but I do not know the way to it, for I have never blown so far; but, if you like, I will go with you to my brother the West Wind: he may know that, for he is much stronger than I am. You may sit on my back, and then I can carry you there.&quot; So she seated herself on his back, and they did go so swiftly! When they got there, the East Wind went in and said that the girl whom he had brought was the one who ought to have had the Prince up at the castle which lay east of the sun and west of the moon, and that now she was traveling about to find him again, so he had come there with her, and would like to hear if the West Wind knew whereabout the castle was. &quot;No,&quot; said the West Wind; &quot;so far as that have I never blown; but if you like I will go with you to the South Wind, for he is much stronger than either of us, and he has roamed far and wide, and perhaps he can tell you what you want to know. You may seat yourself on my back, and then I will carry you to him.&quot;.<br><br>So she did this, and journeyed to the South Wind, neither was she very long on the way. When they had got there, the West Wind asked him if he could tell her the way to the castle that lay east of the sun and west of the moon, for she was the girl who ought to marry the Prince who lived there. &quot;Oh, indeed!&quot; said the South Wind, &quot;is that she? Well,&quot; said he, &quot;I have wandered about a great deal in my time, and in all kinds of places, but I have never blown so far as that. If you like, however, I will go with you to my brother, the North Wind; he is the oldest and strongest of all of us, and if he does not know where it is no one in the whole world will be able to tell you. You may sit upon my back, and then I will carry you there.&quot; So she seated herself on his back, and off he went from his house in great haste, and they were not long on the way. When they came near the North Wind&#x27;s dwelling, he was so wild and frantic that they felt cold gusts a long while before they got there. &quot;What do you want?&quot; he roared out from afar, and they froze as they heard. Said the South Wind: &quot;It is I, and this is she who should have had the Prince who lives in the castle which lies east of the sun and west of the moon. And now she wishes to ask you if you have ever been there, and can tell her the way, for she would gladly find him again.&quot;<br><br>&quot;Yes,&quot; said the North Wind, &quot;I know where it is. I once blew an aspen leaf there, but I was so tired that for many days afterward I was not able to blow at all. However, if you really are anxious to go there, and are not afraid to go with me, I will take you on my back, and try if I can blow you there.&quot;<br><br>&quot;Get there I must,&quot; said she; &quot;and if there is any way of going I will; and I have no fear, no matter how fast you go.&quot;<br><br>&quot;Very well then,&quot; said the North Wind; &quot;but you must sleep here to-night, for if we are ever to get there we must have the day before us.&quot;<br><br>The North Wind woke her betimes next morning, and puffed himself up, and made himself so big and so strong that it was frightful to see him, and away they went, high up through the air, as if they would not stop until they had reached the very end of the world. Down below there was such a storm! It blew down woods and houses, and when they were above the sea the ships were wrecked by hundreds. And thus they tore on and on, and a long time went by, and then yet more time passed, and still they were above the sea, and the North Wind grew tired, and more tired, and at last so utterly weary that he was scarcely able to blow any longer, and he sank and sank, lower and lower, until at last he went so low that the waves dashed against the heels of the poor girl he was carrying. &quot;Art thou afraid?&quot; said the North Wind. &quot;I have no fear,&quot; said she; and it was true. But they were not very, very far from land, and there was just enough strength left in the North Wind to enable him to throw her on to the shore, immediately under the windows of a castle which lay east of the sun and west of the moon; but then he was so weary and worn out that he was forced to rest for several days before he could go to his own home again.<br><br>Next morning she sat down beneath the walls of the castle to play with the golden apple, and the first person she saw was the maiden with the long nose, who was to have the Prince. &quot;How much do you want for that gold apple of yours, girl?&quot; said she, opening the window. &quot;It can&#x27;t be bought either for gold or money,&quot; answered the girl. &quot;If it cannot be bought either for gold or money, what will buy it? You may say what you please,&quot; said the Princess.<br><br>&quot;Well, if I may go to the Prince who is here, and be with him to-night, you shall have it,&quot; said the girl who had come with the North Wind. &quot;You may do that,&quot; said the Princess, for she had made up her mind what she would do. So the Princess got the golden apple, but when the girl went up to the Prince&#x27;s apartment that night he was asleep, for the Princess had so contrived it. The poor girl called to him, and shook him, and between whiles she wept; but she could not wake him. In the morning, as soon as day dawned, in came the Princess with the long nose, and drove her out again. In the daytime she sat down once more beneath the windows of the castle, and began to card with her golden carding-comb; and then all happened as it had happened before. The Princess asked her what she wanted for it, and she replied that it was not for sale, either for gold or money, but that if she could get leave to go to the Prince, and be with him during the night, she should have it. But when she went up to the Prince&#x27;s room he was again asleep, and, let her call him, or shake him, or weep as she would, he still slept on, and she could not put any life in him. When daylight came in the morning, the Princess with the long nose came too, and once more drove her away. When day had quite come, the girl seated herself under the castle windows, to spin with her golden spinning-wheel, and the Princess with the long nose wanted to have that also. So she opened the window, and asked what she would take for it. The girl said what she had said on each of the former occasions--that it was not for sale either for gold or for money, but if she could get leave to go to the Prince who lived there, and be with him during the night, she should have it.<br><br>&quot;Yes,&quot; said the Princess, &quot;I will gladly consent to that.&quot;<br><br>But in that place there were some Christian folk who had been carried off, and they had been sitting in the chamber which was next to that of the Prince, and had heard how a woman had been in there who had wept and called on him two nights running, and they told the Prince of this. So that evening, when the Princess came once more with her sleeping-drink, he pretended to drink, but threw it away behind him, for he suspected that it was a sleeping-drink. So, when the girl went into the Prince&#x27;s room this time he was awake, and she had to tell him how she had come there. &quot;You have come just in time,&quot; said the Prince, &quot;for I should have been married to-morrow; but I will not have the long-nosed Princess, and you alone can save me. I will say that I want to see what my bride can do, and bid her wash the shirt which has the three drops of tallow on it. This she will consent to do, for she does not know that it is you who let them fall on it; but no one can wash them out but one born of Christian folk: it cannot be done by one of a pack of trolls; and then I will say that no one shall ever be my bride but the woman who can do this, and I know that you can.&quot; There was great joy and gladness between them all that night, but the next day, when the wedding was to take place, the Prince said, &quot;I must see what my bride can do.&quot; &quot;That you may do,&quot; said the stepmother.<br><br>&quot;I have a fine shirt which I want to wear as my wedding shirt, but three drops of tallow have got upon it which I want to have washed off, and I have vowed to marry no one but the woman who is able to do it. If she cannot do that, she is not worth having.&quot;<br><br>Well, that was a very small matter, they thought, and agreed to do it. The Princess with the long nose began to wash as well as she could, but, the more she washed and rubbed, the larger the spots grew. &quot;Ah! you can&#x27;t wash at all,&quot; said the old troll-hag, who was her mother. &quot;Give it to me.&quot; But she too had not had the shirt very long in her hands before it looked worse still, and, the more she washed it and rubbed it, the larger and blacker grew the spots.<br><br>So the other trolls had to come and wash, but, the more they did, the blacker and uglier grew the shirt, until at length it was as black as if it had been up the chimney. &quot;Oh,&quot; cried the Prince, &quot;not one of you is good for anything at all! There is a beggar-girl sitting outside the window, and I&#x27;ll be bound that she can wash better than any of you! Come in, you girl there!&quot; he cried. So she came in. &quot;Can you wash this shirt clean?&quot; he cried. &quot;Oh! I don&#x27;t know,&quot; she said; &quot;but I will try.&quot; And no sooner had she taken the shirt and dipped it in the water than it was white as driven snow, and even whiter than that. &quot;I will marry you,&quot; said the Prince.<br><br>Then the old troll-hag flew into such a rage that she burst, and the Princess with the long nose and all the little trolls must have burst too, for they have never been heard of since. The Prince and his bride set free all the Christian folk who were imprisoned there, and took away with them all the gold and silver that they could carry, and moved far away from the castle which lay east of the sun and west of the moon.[1]<br><br>[1] Asbjornsen and Moe.</td>\n",
       "        <td>[1] Asbjornsen and Moe.</td>\n",
       "        <td>Once upon a time there was a poor husbandman who had many children and little to give them in the way either of food or clothing.</td>\n",
       "        <td>Asbjornsen and Moe.</td>\n",
       "        <td>2</td>\n",
       "    </tr>\n",
       "</table>"
      ],
      "text/plain": [
       "[('The Blue Fairy Book', 'The Bronze Ring', 'Once upon a time in a certain country there lived a king whose palace was surrounded by a spacious garden. But, though the gardeners were many and th ... (20037 characters truncated) ...  pieces as there were nuts upon the mule\\'s back.[1]\\n\\n[1] Traditions Populaires de l\\'Asie Mineure. Carnoy et Nicolaides. Paris: Maisonneuve, 1889.', \"[1] Traditions Populaires de l'Asie Mineure. Carnoy et Nicolaides. Paris: Maisonneuve, 1889.\", 'Once upon a time in a certain country there lived a king whose palace was surrounded by a spacious garden.', \"Traditions Populaires de l'Asie Mineure. Carnoy et Nicolaides. Paris: Maisonneuve, 1889.\", 0),\n",
       " ('The Blue Fairy Book', 'Prince Hyacinth And The Dear Little Princess', 'Once upon a time there lived a king who was deeply in love with a princess, but she could not marry anyone, because she was under an enchantment. So  ... (13405 characters truncated) ... ied the Dear Little Princess, and they lived happily ever after.[1]\\n\\n[1] Le Prince Desir et la Princesse Mignonne. Par Madame Leprince de Beaumont.', '[1] Le Prince Desir et la Princesse Mignonne. Par Madame Leprince de Beaumont.', 'Once upon a time there lived a king who was deeply in love with a princess, but she could not marry anyone, because she was under an enchantment.', 'Le Prince Desir et la Princesse Mignonne. Par Madame Leprince de Beaumont.', 1),\n",
       " ('The Blue Fairy Book', 'East Of The Sun And West Of The Moon', 'Once upon a time there was a poor husbandman who had many children and little to give them in the way either of food or clothing. They were all prett ... (21356 characters truncated) ... ld and silver that they could carry, and moved far away from the castle which lay east of the sun and west of the moon.[1]\\n\\n[1] Asbjornsen and Moe.', '[1] Asbjornsen and Moe.', 'Once upon a time there was a poor husbandman who had many children and little to give them in the way either of food or clothing.', 'Asbjornsen and Moe.', 2)]"
      ]
     },
     "execution_count": 2,
     "metadata": {},
     "output_type": "execute_result"
    }
   ],
   "source": [
    "%%sql\n",
    "SELECT * FROM books LIMIT 3;"
   ]
  },
  {
   "cell_type": "markdown",
   "id": "d6f4245d",
   "metadata": {},
   "source": [
    "## Entity Extraction...\n",
    "\n",
    "So what entities can we find in the stories...?!\n",
    "\n",
    "Let's load in the `spacy` natural language processing toolkit:"
   ]
  },
  {
   "cell_type": "code",
   "execution_count": 48,
   "id": "32231076",
   "metadata": {},
   "outputs": [],
   "source": [
    "#%pip install --upgrade spacy\n",
    "import spacy\n",
    "nlp = spacy.load(\"en_core_web_sm\")"
   ]
  },
  {
   "cell_type": "markdown",
   "id": "ab0aa1a3",
   "metadata": {},
   "source": [
    "Get a dataframe of data frm the database:"
   ]
  },
  {
   "cell_type": "code",
   "execution_count": 49,
   "id": "0370b9b5",
   "metadata": {},
   "outputs": [
    {
     "data": {
      "text/html": [
       "<div>\n",
       "<style scoped>\n",
       "    .dataframe tbody tr th:only-of-type {\n",
       "        vertical-align: middle;\n",
       "    }\n",
       "\n",
       "    .dataframe tbody tr th {\n",
       "        vertical-align: top;\n",
       "    }\n",
       "\n",
       "    .dataframe thead th {\n",
       "        text-align: right;\n",
       "    }\n",
       "</style>\n",
       "<table border=\"1\" class=\"dataframe\">\n",
       "  <thead>\n",
       "    <tr style=\"text-align: right;\">\n",
       "      <th></th>\n",
       "      <th>book</th>\n",
       "      <th>title</th>\n",
       "      <th>text</th>\n",
       "      <th>last_para</th>\n",
       "      <th>first_line</th>\n",
       "      <th>provenance</th>\n",
       "      <th>chapter_order</th>\n",
       "    </tr>\n",
       "  </thead>\n",
       "  <tbody>\n",
       "    <tr>\n",
       "      <th>0</th>\n",
       "      <td>The Blue Fairy Book</td>\n",
       "      <td>The Bronze Ring</td>\n",
       "      <td>Once upon a time in a certain country there li...</td>\n",
       "      <td>[1] Traditions Populaires de l'Asie Mineure. C...</td>\n",
       "      <td>Once upon a time in a certain country there li...</td>\n",
       "      <td>Traditions Populaires de l'Asie Mineure. Carno...</td>\n",
       "      <td>0</td>\n",
       "    </tr>\n",
       "    <tr>\n",
       "      <th>1</th>\n",
       "      <td>The Blue Fairy Book</td>\n",
       "      <td>Prince Hyacinth And The Dear Little Princess</td>\n",
       "      <td>Once upon a time there lived a king who was de...</td>\n",
       "      <td>[1] Le Prince Desir et la Princesse Mignonne. ...</td>\n",
       "      <td>Once upon a time there lived a king who was de...</td>\n",
       "      <td>Le Prince Desir et la Princesse Mignonne. Par ...</td>\n",
       "      <td>1</td>\n",
       "    </tr>\n",
       "    <tr>\n",
       "      <th>2</th>\n",
       "      <td>The Blue Fairy Book</td>\n",
       "      <td>East Of The Sun And West Of The Moon</td>\n",
       "      <td>Once upon a time there was a poor husbandman w...</td>\n",
       "      <td>[1] Asbjornsen and Moe.</td>\n",
       "      <td>Once upon a time there was a poor husbandman w...</td>\n",
       "      <td>Asbjornsen and Moe.</td>\n",
       "      <td>2</td>\n",
       "    </tr>\n",
       "    <tr>\n",
       "      <th>3</th>\n",
       "      <td>The Blue Fairy Book</td>\n",
       "      <td>The Yellow Dwarf</td>\n",
       "      <td>Once upon a time there lived a queen who had b...</td>\n",
       "      <td>[1] Madame d'Aulnoy.</td>\n",
       "      <td>Once upon a time there lived a queen who had b...</td>\n",
       "      <td>Madame d'Aulnoy.</td>\n",
       "      <td>3</td>\n",
       "    </tr>\n",
       "    <tr>\n",
       "      <th>4</th>\n",
       "      <td>The Blue Fairy Book</td>\n",
       "      <td>Little Red Riding Hood</td>\n",
       "      <td>Once upon a time there lived in a certain vill...</td>\n",
       "      <td>And, saying these words, this wicked wolf fell...</td>\n",
       "      <td>Once upon a time there lived in a certain vill...</td>\n",
       "      <td></td>\n",
       "      <td>4</td>\n",
       "    </tr>\n",
       "  </tbody>\n",
       "</table>\n",
       "</div>"
      ],
      "text/plain": [
       "                  book                                         title  \\\n",
       "0  The Blue Fairy Book                               The Bronze Ring   \n",
       "1  The Blue Fairy Book  Prince Hyacinth And The Dear Little Princess   \n",
       "2  The Blue Fairy Book          East Of The Sun And West Of The Moon   \n",
       "3  The Blue Fairy Book                              The Yellow Dwarf   \n",
       "4  The Blue Fairy Book                        Little Red Riding Hood   \n",
       "\n",
       "                                                text  \\\n",
       "0  Once upon a time in a certain country there li...   \n",
       "1  Once upon a time there lived a king who was de...   \n",
       "2  Once upon a time there was a poor husbandman w...   \n",
       "3  Once upon a time there lived a queen who had b...   \n",
       "4  Once upon a time there lived in a certain vill...   \n",
       "\n",
       "                                           last_para  \\\n",
       "0  [1] Traditions Populaires de l'Asie Mineure. C...   \n",
       "1  [1] Le Prince Desir et la Princesse Mignonne. ...   \n",
       "2                            [1] Asbjornsen and Moe.   \n",
       "3                               [1] Madame d'Aulnoy.   \n",
       "4  And, saying these words, this wicked wolf fell...   \n",
       "\n",
       "                                          first_line  \\\n",
       "0  Once upon a time in a certain country there li...   \n",
       "1  Once upon a time there lived a king who was de...   \n",
       "2  Once upon a time there was a poor husbandman w...   \n",
       "3  Once upon a time there lived a queen who had b...   \n",
       "4  Once upon a time there lived in a certain vill...   \n",
       "\n",
       "                                          provenance  chapter_order  \n",
       "0  Traditions Populaires de l'Asie Mineure. Carno...              0  \n",
       "1  Le Prince Desir et la Princesse Mignonne. Par ...              1  \n",
       "2                                Asbjornsen and Moe.              2  \n",
       "3                                   Madame d'Aulnoy.              3  \n",
       "4                                                                 4  "
      ]
     },
     "execution_count": 49,
     "metadata": {},
     "output_type": "execute_result"
    }
   ],
   "source": [
    "q = \"SELECT * FROM books\"\n",
    "df = pd.read_sql(q, conn)\n",
    "\n",
    "df.head()"
   ]
  },
  {
   "cell_type": "markdown",
   "id": "8b6a2223",
   "metadata": {},
   "source": [
    "Now let's have a go at extracting some entities (this may take some time!):"
   ]
  },
  {
   "cell_type": "code",
   "execution_count": 50,
   "id": "ba7388d4",
   "metadata": {},
   "outputs": [
    {
     "data": {
      "text/html": [
       "<div>\n",
       "<style scoped>\n",
       "    .dataframe tbody tr th:only-of-type {\n",
       "        vertical-align: middle;\n",
       "    }\n",
       "\n",
       "    .dataframe tbody tr th {\n",
       "        vertical-align: top;\n",
       "    }\n",
       "\n",
       "    .dataframe thead th {\n",
       "        text-align: right;\n",
       "    }\n",
       "</style>\n",
       "<table border=\"1\" class=\"dataframe\">\n",
       "  <thead>\n",
       "    <tr style=\"text-align: right;\">\n",
       "      <th></th>\n",
       "      <th>book</th>\n",
       "      <th>title</th>\n",
       "      <th>text</th>\n",
       "      <th>last_para</th>\n",
       "      <th>first_line</th>\n",
       "      <th>provenance</th>\n",
       "      <th>chapter_order</th>\n",
       "      <th>entities</th>\n",
       "    </tr>\n",
       "  </thead>\n",
       "  <tbody>\n",
       "    <tr>\n",
       "      <th>0</th>\n",
       "      <td>The Blue Fairy Book</td>\n",
       "      <td>The Bronze Ring</td>\n",
       "      <td>Once upon a time in a certain country there li...</td>\n",
       "      <td>[1] Traditions Populaires de l'Asie Mineure. C...</td>\n",
       "      <td>Once upon a time in a certain country there li...</td>\n",
       "      <td>Traditions Populaires de l'Asie Mineure. Carno...</td>\n",
       "      <td>0</td>\n",
       "      <td>{DATE :: Good-day, DATE :: forty days, DATE ::...</td>\n",
       "    </tr>\n",
       "    <tr>\n",
       "      <th>1</th>\n",
       "      <td>The Blue Fairy Book</td>\n",
       "      <td>Prince Hyacinth And The Dear Little Princess</td>\n",
       "      <td>Once upon a time there lived a king who was de...</td>\n",
       "      <td>[1] Le Prince Desir et la Princesse Mignonne. ...</td>\n",
       "      <td>Once upon a time there lived a king who was de...</td>\n",
       "      <td>Le Prince Desir et la Princesse Mignonne. Par ...</td>\n",
       "      <td>1</td>\n",
       "      <td>{LAW :: the Dear Little Princess up, ORG :: ca...</td>\n",
       "    </tr>\n",
       "    <tr>\n",
       "      <th>2</th>\n",
       "      <td>The Blue Fairy Book</td>\n",
       "      <td>East Of The Sun And West Of The Moon</td>\n",
       "      <td>Once upon a time there was a poor husbandman w...</td>\n",
       "      <td>[1] Asbjornsen and Moe.</td>\n",
       "      <td>Once upon a time there was a poor husbandman w...</td>\n",
       "      <td>Asbjornsen and Moe.</td>\n",
       "      <td>2</td>\n",
       "      <td>{TIME :: evening, CARDINAL :: thou, TIME :: th...</td>\n",
       "    </tr>\n",
       "    <tr>\n",
       "      <th>3</th>\n",
       "      <td>The Blue Fairy Book</td>\n",
       "      <td>The Yellow Dwarf</td>\n",
       "      <td>Once upon a time there lived a queen who had b...</td>\n",
       "      <td>[1] Madame d'Aulnoy.</td>\n",
       "      <td>Once upon a time there lived a queen who had b...</td>\n",
       "      <td>Madame d'Aulnoy.</td>\n",
       "      <td>3</td>\n",
       "      <td>{WORK_OF_ART :: Love, TIME :: this minute, CAR...</td>\n",
       "    </tr>\n",
       "    <tr>\n",
       "      <th>4</th>\n",
       "      <td>The Blue Fairy Book</td>\n",
       "      <td>Little Red Riding Hood</td>\n",
       "      <td>Once upon a time there lived in a certain vill...</td>\n",
       "      <td>And, saying these words, this wicked wolf fell...</td>\n",
       "      <td>Once upon a time there lived in a certain vill...</td>\n",
       "      <td></td>\n",
       "      <td>4</td>\n",
       "      <td>{PERSON :: Wolf, ORG :: Grandmamma, DATE :: On...</td>\n",
       "    </tr>\n",
       "    <tr>\n",
       "      <th>5</th>\n",
       "      <td>The Blue Fairy Book</td>\n",
       "      <td>The Sleeping Beauty In The Wood</td>\n",
       "      <td>There were formerly a king and a queen, who we...</td>\n",
       "      <td>No one dared to tell him, when the Ogress, all...</td>\n",
       "      <td>There were formerly a king and a queen, who we...</td>\n",
       "      <td></td>\n",
       "      <td>5</td>\n",
       "      <td>{CARDINAL :: seven, TIME :: four hours, DATE :...</td>\n",
       "    </tr>\n",
       "    <tr>\n",
       "      <th>6</th>\n",
       "      <td>The Blue Fairy Book</td>\n",
       "      <td>Cinderella, Or The Little Glass Slipper</td>\n",
       "      <td>Once there was a gentleman who married, for hi...</td>\n",
       "      <td>[1] Charles Perrault.</td>\n",
       "      <td>Once there was a gentleman who married, for hi...</td>\n",
       "      <td>Charles Perrault.</td>\n",
       "      <td>6</td>\n",
       "      <td>{DATE :: three-quarters, CARDINAL :: six, CARD...</td>\n",
       "    </tr>\n",
       "    <tr>\n",
       "      <th>7</th>\n",
       "      <td>The Blue Fairy Book</td>\n",
       "      <td>Aladdin And The Wonderful Lamp</td>\n",
       "      <td>There once lived a poor tailor, who had a son ...</td>\n",
       "      <td>[1] Arabian Nights.</td>\n",
       "      <td>There once lived a poor tailor, who had a son ...</td>\n",
       "      <td>Arabian Nights.</td>\n",
       "      <td>7</td>\n",
       "      <td>{CARDINAL :: ten thousand, DATE :: forty days,...</td>\n",
       "    </tr>\n",
       "    <tr>\n",
       "      <th>8</th>\n",
       "      <td>The Blue Fairy Book</td>\n",
       "      <td>The Tale Of A Youth Who Set Out To Learn What ...</td>\n",
       "      <td>A father had two sons, of whom the eldest was ...</td>\n",
       "      <td>[1] Grimm.</td>\n",
       "      <td>A father had two sons, of whom the eldest was ...</td>\n",
       "      <td>Grimm.</td>\n",
       "      <td>8</td>\n",
       "      <td>{CARDINAL :: six, TIME :: evening, TIME :: thi...</td>\n",
       "    </tr>\n",
       "    <tr>\n",
       "      <th>9</th>\n",
       "      <td>The Blue Fairy Book</td>\n",
       "      <td>Rumpelstiltzkin</td>\n",
       "      <td>There was once upon a time a poor miller who h...</td>\n",
       "      <td>[1] Grimm.</td>\n",
       "      <td>There was once upon a time a poor miller who h...</td>\n",
       "      <td>Grimm.</td>\n",
       "      <td>9</td>\n",
       "      <td>{TIME :: the morning, DATE :: The next day, TI...</td>\n",
       "    </tr>\n",
       "  </tbody>\n",
       "</table>\n",
       "</div>"
      ],
      "text/plain": [
       "                  book                                              title  \\\n",
       "0  The Blue Fairy Book                                    The Bronze Ring   \n",
       "1  The Blue Fairy Book       Prince Hyacinth And The Dear Little Princess   \n",
       "2  The Blue Fairy Book               East Of The Sun And West Of The Moon   \n",
       "3  The Blue Fairy Book                                   The Yellow Dwarf   \n",
       "4  The Blue Fairy Book                             Little Red Riding Hood   \n",
       "5  The Blue Fairy Book                    The Sleeping Beauty In The Wood   \n",
       "6  The Blue Fairy Book            Cinderella, Or The Little Glass Slipper   \n",
       "7  The Blue Fairy Book                     Aladdin And The Wonderful Lamp   \n",
       "8  The Blue Fairy Book  The Tale Of A Youth Who Set Out To Learn What ...   \n",
       "9  The Blue Fairy Book                                    Rumpelstiltzkin   \n",
       "\n",
       "                                                text  \\\n",
       "0  Once upon a time in a certain country there li...   \n",
       "1  Once upon a time there lived a king who was de...   \n",
       "2  Once upon a time there was a poor husbandman w...   \n",
       "3  Once upon a time there lived a queen who had b...   \n",
       "4  Once upon a time there lived in a certain vill...   \n",
       "5  There were formerly a king and a queen, who we...   \n",
       "6  Once there was a gentleman who married, for hi...   \n",
       "7  There once lived a poor tailor, who had a son ...   \n",
       "8  A father had two sons, of whom the eldest was ...   \n",
       "9  There was once upon a time a poor miller who h...   \n",
       "\n",
       "                                           last_para  \\\n",
       "0  [1] Traditions Populaires de l'Asie Mineure. C...   \n",
       "1  [1] Le Prince Desir et la Princesse Mignonne. ...   \n",
       "2                            [1] Asbjornsen and Moe.   \n",
       "3                               [1] Madame d'Aulnoy.   \n",
       "4  And, saying these words, this wicked wolf fell...   \n",
       "5  No one dared to tell him, when the Ogress, all...   \n",
       "6                              [1] Charles Perrault.   \n",
       "7                                [1] Arabian Nights.   \n",
       "8                                         [1] Grimm.   \n",
       "9                                         [1] Grimm.   \n",
       "\n",
       "                                          first_line  \\\n",
       "0  Once upon a time in a certain country there li...   \n",
       "1  Once upon a time there lived a king who was de...   \n",
       "2  Once upon a time there was a poor husbandman w...   \n",
       "3  Once upon a time there lived a queen who had b...   \n",
       "4  Once upon a time there lived in a certain vill...   \n",
       "5  There were formerly a king and a queen, who we...   \n",
       "6  Once there was a gentleman who married, for hi...   \n",
       "7  There once lived a poor tailor, who had a son ...   \n",
       "8  A father had two sons, of whom the eldest was ...   \n",
       "9  There was once upon a time a poor miller who h...   \n",
       "\n",
       "                                          provenance  chapter_order  \\\n",
       "0  Traditions Populaires de l'Asie Mineure. Carno...              0   \n",
       "1  Le Prince Desir et la Princesse Mignonne. Par ...              1   \n",
       "2                                Asbjornsen and Moe.              2   \n",
       "3                                   Madame d'Aulnoy.              3   \n",
       "4                                                                 4   \n",
       "5                                                                 5   \n",
       "6                                  Charles Perrault.              6   \n",
       "7                                    Arabian Nights.              7   \n",
       "8                                             Grimm.              8   \n",
       "9                                             Grimm.              9   \n",
       "\n",
       "                                            entities  \n",
       "0  {DATE :: Good-day, DATE :: forty days, DATE ::...  \n",
       "1  {LAW :: the Dear Little Princess up, ORG :: ca...  \n",
       "2  {TIME :: evening, CARDINAL :: thou, TIME :: th...  \n",
       "3  {WORK_OF_ART :: Love, TIME :: this minute, CAR...  \n",
       "4  {PERSON :: Wolf, ORG :: Grandmamma, DATE :: On...  \n",
       "5  {CARDINAL :: seven, TIME :: four hours, DATE :...  \n",
       "6  {DATE :: three-quarters, CARDINAL :: six, CARD...  \n",
       "7  {CARDINAL :: ten thousand, DATE :: forty days,...  \n",
       "8  {CARDINAL :: six, TIME :: evening, TIME :: thi...  \n",
       "9  {TIME :: the morning, DATE :: The next day, TI...  "
      ]
     },
     "execution_count": 50,
     "metadata": {},
     "output_type": "execute_result"
    }
   ],
   "source": [
    "# Extract a set of entities, rather than a list...\n",
    "get_entities = lambda desc: {f\"{entity.label_} :: {entity.text}\" for entity in nlp(desc).ents}\n",
    "\n",
    "# The full run takes some time....\n",
    "df['entities'] = df[\"text\"].apply(get_entities)\n",
    "\n",
    "df.head(10)"
   ]
  },
  {
   "cell_type": "markdown",
   "id": "b0f50544",
   "metadata": {},
   "source": [
    "*We should probably just do this once and add an appropriate table of entities to the database...*\n",
    "\n",
    "We can explode these out into a long format dataframe:"
   ]
  },
  {
   "cell_type": "code",
   "execution_count": 51,
   "id": "3865c4d5",
   "metadata": {},
   "outputs": [
    {
     "data": {
      "text/html": [
       "<div>\n",
       "<style scoped>\n",
       "    .dataframe tbody tr th:only-of-type {\n",
       "        vertical-align: middle;\n",
       "    }\n",
       "\n",
       "    .dataframe tbody tr th {\n",
       "        vertical-align: top;\n",
       "    }\n",
       "\n",
       "    .dataframe thead th {\n",
       "        text-align: right;\n",
       "    }\n",
       "</style>\n",
       "<table border=\"1\" class=\"dataframe\">\n",
       "  <thead>\n",
       "    <tr style=\"text-align: right;\">\n",
       "      <th></th>\n",
       "      <th>book</th>\n",
       "      <th>title</th>\n",
       "      <th>text</th>\n",
       "      <th>last_para</th>\n",
       "      <th>first_line</th>\n",
       "      <th>provenance</th>\n",
       "      <th>chapter_order</th>\n",
       "      <th>entity</th>\n",
       "      <th>entity_typ</th>\n",
       "      <th>entity_value</th>\n",
       "    </tr>\n",
       "  </thead>\n",
       "  <tbody>\n",
       "    <tr>\n",
       "      <th>0</th>\n",
       "      <td>The Blue Fairy Book</td>\n",
       "      <td>The Bronze Ring</td>\n",
       "      <td>Once upon a time in a certain country there li...</td>\n",
       "      <td>[1] Traditions Populaires de l'Asie Mineure. C...</td>\n",
       "      <td>Once upon a time in a certain country there li...</td>\n",
       "      <td>Traditions Populaires de l'Asie Mineure. Carno...</td>\n",
       "      <td>0</td>\n",
       "      <td>DATE :: Good-day</td>\n",
       "      <td>DATE</td>\n",
       "      <td>Good-day</td>\n",
       "    </tr>\n",
       "    <tr>\n",
       "      <th>0</th>\n",
       "      <td>The Blue Fairy Book</td>\n",
       "      <td>The Bronze Ring</td>\n",
       "      <td>Once upon a time in a certain country there li...</td>\n",
       "      <td>[1] Traditions Populaires de l'Asie Mineure. C...</td>\n",
       "      <td>Once upon a time in a certain country there li...</td>\n",
       "      <td>Traditions Populaires de l'Asie Mineure. Carno...</td>\n",
       "      <td>0</td>\n",
       "      <td>DATE :: forty days</td>\n",
       "      <td>DATE</td>\n",
       "      <td>forty days</td>\n",
       "    </tr>\n",
       "    <tr>\n",
       "      <th>0</th>\n",
       "      <td>The Blue Fairy Book</td>\n",
       "      <td>The Bronze Ring</td>\n",
       "      <td>Once upon a time in a certain country there li...</td>\n",
       "      <td>[1] Traditions Populaires de l'Asie Mineure. C...</td>\n",
       "      <td>Once upon a time in a certain country there li...</td>\n",
       "      <td>Traditions Populaires de l'Asie Mineure. Carno...</td>\n",
       "      <td>0</td>\n",
       "      <td>DATE :: 1889</td>\n",
       "      <td>DATE</td>\n",
       "      <td>1889</td>\n",
       "    </tr>\n",
       "    <tr>\n",
       "      <th>0</th>\n",
       "      <td>The Blue Fairy Book</td>\n",
       "      <td>The Bronze Ring</td>\n",
       "      <td>Once upon a time in a certain country there li...</td>\n",
       "      <td>[1] Traditions Populaires de l'Asie Mineure. C...</td>\n",
       "      <td>Once upon a time in a certain country there li...</td>\n",
       "      <td>Traditions Populaires de l'Asie Mineure. Carno...</td>\n",
       "      <td>0</td>\n",
       "      <td>DATE :: this very day</td>\n",
       "      <td>DATE</td>\n",
       "      <td>this very day</td>\n",
       "    </tr>\n",
       "    <tr>\n",
       "      <th>0</th>\n",
       "      <td>The Blue Fairy Book</td>\n",
       "      <td>The Bronze Ring</td>\n",
       "      <td>Once upon a time in a certain country there li...</td>\n",
       "      <td>[1] Traditions Populaires de l'Asie Mineure. C...</td>\n",
       "      <td>Once upon a time in a certain country there li...</td>\n",
       "      <td>Traditions Populaires de l'Asie Mineure. Carno...</td>\n",
       "      <td>0</td>\n",
       "      <td>DATE :: next day</td>\n",
       "      <td>DATE</td>\n",
       "      <td>next day</td>\n",
       "    </tr>\n",
       "  </tbody>\n",
       "</table>\n",
       "</div>"
      ],
      "text/plain": [
       "                  book            title  \\\n",
       "0  The Blue Fairy Book  The Bronze Ring   \n",
       "0  The Blue Fairy Book  The Bronze Ring   \n",
       "0  The Blue Fairy Book  The Bronze Ring   \n",
       "0  The Blue Fairy Book  The Bronze Ring   \n",
       "0  The Blue Fairy Book  The Bronze Ring   \n",
       "\n",
       "                                                text  \\\n",
       "0  Once upon a time in a certain country there li...   \n",
       "0  Once upon a time in a certain country there li...   \n",
       "0  Once upon a time in a certain country there li...   \n",
       "0  Once upon a time in a certain country there li...   \n",
       "0  Once upon a time in a certain country there li...   \n",
       "\n",
       "                                           last_para  \\\n",
       "0  [1] Traditions Populaires de l'Asie Mineure. C...   \n",
       "0  [1] Traditions Populaires de l'Asie Mineure. C...   \n",
       "0  [1] Traditions Populaires de l'Asie Mineure. C...   \n",
       "0  [1] Traditions Populaires de l'Asie Mineure. C...   \n",
       "0  [1] Traditions Populaires de l'Asie Mineure. C...   \n",
       "\n",
       "                                          first_line  \\\n",
       "0  Once upon a time in a certain country there li...   \n",
       "0  Once upon a time in a certain country there li...   \n",
       "0  Once upon a time in a certain country there li...   \n",
       "0  Once upon a time in a certain country there li...   \n",
       "0  Once upon a time in a certain country there li...   \n",
       "\n",
       "                                          provenance  chapter_order  \\\n",
       "0  Traditions Populaires de l'Asie Mineure. Carno...              0   \n",
       "0  Traditions Populaires de l'Asie Mineure. Carno...              0   \n",
       "0  Traditions Populaires de l'Asie Mineure. Carno...              0   \n",
       "0  Traditions Populaires de l'Asie Mineure. Carno...              0   \n",
       "0  Traditions Populaires de l'Asie Mineure. Carno...              0   \n",
       "\n",
       "                  entity entity_typ   entity_value  \n",
       "0       DATE :: Good-day       DATE       Good-day  \n",
       "0     DATE :: forty days       DATE     forty days  \n",
       "0           DATE :: 1889       DATE           1889  \n",
       "0  DATE :: this very day       DATE  this very day  \n",
       "0       DATE :: next day       DATE       next day  "
      ]
     },
     "execution_count": 51,
     "metadata": {},
     "output_type": "execute_result"
    }
   ],
   "source": [
    "from pandas import Series\n",
    "\n",
    "# Explode the entities one per row...\n",
    "df_long = df.explode('entities')\n",
    "df_long.rename(columns={\"entities\":\"entity\"}, inplace=True)\n",
    "\n",
    "# And then separate out entity type and value\n",
    "df_long[[\"entity_typ\", \"entity_value\"]] = df_long[\"entity\"].str.split(\" :: \").apply(Series)\n",
    "df_long.head()"
   ]
  },
  {
   "cell_type": "markdown",
   "id": "5db0f38c",
   "metadata": {},
   "source": [
    "And explore..."
   ]
  },
  {
   "cell_type": "code",
   "execution_count": 52,
   "id": "b1e49430",
   "metadata": {},
   "outputs": [
    {
     "data": {
      "text/plain": [
       "DATE           3108\n",
       "CARDINAL       2536\n",
       "TIME           1928\n",
       "ORG            1564\n",
       "PERSON         1499\n",
       "ORDINAL         879\n",
       "GPE             564\n",
       "WORK_OF_ART     358\n",
       "NORP            343\n",
       "QUANTITY        209\n",
       "LOC             165\n",
       "PRODUCT         144\n",
       "FAC             126\n",
       "MONEY            41\n",
       "LAW              34\n",
       "EVENT            28\n",
       "LANGUAGE         12\n",
       "Name: entity_typ, dtype: int64"
      ]
     },
     "execution_count": 52,
     "metadata": {},
     "output_type": "execute_result"
    }
   ],
   "source": [
    "df_long[\"entity_typ\"].value_counts()"
   ]
  },
  {
   "cell_type": "markdown",
   "id": "22888116",
   "metadata": {},
   "source": [
    "What sort of money has been identified in the stories?"
   ]
  },
  {
   "cell_type": "code",
   "execution_count": 53,
   "id": "fe1b4973",
   "metadata": {},
   "outputs": [
    {
     "data": {
      "text/plain": [
       "a penny                     6\n",
       "a hundred dollars           5\n",
       "three hundred dollars       4\n",
       "a few pence                 4\n",
       "two hundred dollars         3\n",
       "ten dollars                 2\n",
       "the hundred dollars         2\n",
       "fifty dollars               1\n",
       "only a few hundred yards    1\n",
       "the hundred marks           1\n",
       "Name: entity_value, dtype: int64"
      ]
     },
     "execution_count": 53,
     "metadata": {},
     "output_type": "execute_result"
    }
   ],
   "source": [
    "df_long[df_long[\"entity_typ\"]==\"MONEY\"][\"entity_value\"].value_counts().head(10)"
   ]
  },
  {
   "cell_type": "markdown",
   "id": "aaf16f80",
   "metadata": {},
   "source": [
    "Dollars? Really??? What about gold coins?! Do I need to train a new classifier?! Or was the original text really like that... Or has the text been got at? *(Maybe I should do my own digitisation project to extract the text from copies of the original books on the Internet Archive? Hmmm.. that could be interesting for when we go on strike...)*\n",
    "\n",
    "What about other quantities?"
   ]
  },
  {
   "cell_type": "code",
   "execution_count": 54,
   "id": "845e1026",
   "metadata": {},
   "outputs": [
    {
     "data": {
      "text/plain": [
       "one foot           15\n",
       "a mile             12\n",
       "a few miles         7\n",
       "twenty miles        6\n",
       "three miles         5\n",
       "a hundred miles     5\n",
       "two barrels         3\n",
       "two miles           3\n",
       "several miles       3\n",
       "seven miles         3\n",
       "Name: entity_value, dtype: int64"
      ]
     },
     "execution_count": 54,
     "metadata": {},
     "output_type": "execute_result"
    }
   ],
   "source": [
    "df_long[df_long[\"entity_typ\"]==\"QUANTITY\"][\"entity_value\"].value_counts().head(10)"
   ]
  },
  {
   "cell_type": "markdown",
   "id": "71a8daa1",
   "metadata": {},
   "source": [
    "What people have been identified?"
   ]
  },
  {
   "cell_type": "code",
   "execution_count": 55,
   "id": "76d780e5",
   "metadata": {},
   "outputs": [
    {
     "data": {
      "text/plain": [
       "Fairy       31\n",
       "Majesty     29\n",
       "Prince      29\n",
       "Queen       27\n",
       "bush        12\n",
       "wolf        11\n",
       "Madam       11\n",
       "Campbell    11\n",
       "Lang        11\n",
       "Jack        10\n",
       "Name: entity_value, dtype: int64"
      ]
     },
     "execution_count": 55,
     "metadata": {},
     "output_type": "execute_result"
    }
   ],
   "source": [
    "df_long[df_long[\"entity_typ\"]==\"PERSON\"][\"entity_value\"].value_counts().head(10)"
   ]
  },
  {
   "cell_type": "markdown",
   "id": "046a3285",
   "metadata": {},
   "source": [
    "How about geo-political entities (GPEs)?"
   ]
  },
  {
   "cell_type": "code",
   "execution_count": 56,
   "id": "c80a44e2",
   "metadata": {},
   "outputs": [
    {
     "data": {
      "text/plain": [
       "thou                11\n",
       "Paris               10\n",
       "France               9\n",
       "Japan                8\n",
       "Greece               7\n",
       "Denmark              6\n",
       "Ireland              6\n",
       "Contes Armeniens     5\n",
       "Gedichte             5\n",
       "Finland              5\n",
       "Name: entity_value, dtype: int64"
      ]
     },
     "execution_count": 56,
     "metadata": {},
     "output_type": "execute_result"
    }
   ],
   "source": [
    "df_long[df_long[\"entity_typ\"]==\"GPE\"][\"entity_value\"].value_counts().head(10)"
   ]
  },
  {
   "cell_type": "markdown",
   "id": "26c6bea2",
   "metadata": {},
   "source": [
    "When did things happen?"
   ]
  },
  {
   "cell_type": "code",
   "execution_count": 57,
   "id": "d9af47f7",
   "metadata": {},
   "outputs": [
    {
     "data": {
      "text/plain": [
       "one day         188\n",
       "One day         154\n",
       "the day          86\n",
       "three days       79\n",
       "next day         62\n",
       "the next day     61\n",
       "a few days       50\n",
       "all day          44\n",
       "many years       41\n",
       "that day         40\n",
       "Name: entity_value, dtype: int64"
      ]
     },
     "execution_count": 57,
     "metadata": {},
     "output_type": "execute_result"
    }
   ],
   "source": [
    "df_long[df_long[\"entity_typ\"]==\"DATE\"][\"entity_value\"].value_counts().head(10)"
   ]
  },
  {
   "cell_type": "markdown",
   "id": "ea08b95e",
   "metadata": {},
   "source": [
    "And how about time considerations?"
   ]
  },
  {
   "cell_type": "code",
   "execution_count": 58,
   "id": "b8491284",
   "metadata": {},
   "outputs": [
    {
     "data": {
      "text/plain": [
       "night            117\n",
       "evening          115\n",
       "a few minutes     77\n",
       "morning           69\n",
       "next morning      63\n",
       "one morning       58\n",
       "Next morning      53\n",
       "the night         47\n",
       "midnight          44\n",
       "one night         40\n",
       "Name: entity_value, dtype: int64"
      ]
     },
     "execution_count": 58,
     "metadata": {},
     "output_type": "execute_result"
    }
   ],
   "source": [
    "df_long[df_long[\"entity_typ\"]==\"TIME\"][\"entity_value\"].value_counts().head(10)"
   ]
  },
  {
   "cell_type": "markdown",
   "id": "73aa37fe",
   "metadata": {},
   "source": [
    "How were things organised?"
   ]
  },
  {
   "cell_type": "code",
   "execution_count": 59,
   "id": "18ad8e91",
   "metadata": {},
   "outputs": [
    {
     "data": {
      "text/plain": [
       "King        102\n",
       "Princess     71\n",
       "Court        48\n",
       "Prince       42\n",
       "Grimm        28\n",
       "King's       23\n",
       "Quick        18\n",
       "eagle        12\n",
       "Majesty      11\n",
       "I.           10\n",
       "Name: entity_value, dtype: int64"
      ]
     },
     "execution_count": 59,
     "metadata": {},
     "output_type": "execute_result"
    }
   ],
   "source": [
    "df_long[df_long[\"entity_typ\"]==\"ORG\"][\"entity_value\"].value_counts().head(10)"
   ]
  },
  {
   "cell_type": "markdown",
   "id": "836f52ad",
   "metadata": {},
   "source": [
    "What's a `NORP`? (Ah... *Nationalities Or Religious or Political groups.)*"
   ]
  },
  {
   "cell_type": "code",
   "execution_count": 60,
   "id": "370cc6de",
   "metadata": {},
   "outputs": [
    {
     "data": {
      "text/plain": [
       "German        24\n",
       "Danish        18\n",
       "French        14\n",
       "Russian       11\n",
       "Indian        10\n",
       "Christian      9\n",
       "Italian        8\n",
       "Portuguese     7\n",
       "Spanish        7\n",
       "Chinese        6\n",
       "Name: entity_value, dtype: int64"
      ]
     },
     "execution_count": 60,
     "metadata": {},
     "output_type": "execute_result"
    }
   ],
   "source": [
    "df_long[df_long[\"entity_typ\"]==\"NORP\"][\"entity_value\"].value_counts().head(10)"
   ]
  }
 ],
 "metadata": {
  "kernelspec": {
   "display_name": "Python 3",
   "language": "python",
   "name": "python3"
  },
  "language_info": {
   "codemirror_mode": {
    "name": "ipython",
    "version": 3
   },
   "file_extension": ".py",
   "mimetype": "text/x-python",
   "name": "python",
   "nbconvert_exporter": "python",
   "pygments_lexer": "ipython3",
   "version": "3.9.8"
  }
 },
 "nbformat": 4,
 "nbformat_minor": 5
}
