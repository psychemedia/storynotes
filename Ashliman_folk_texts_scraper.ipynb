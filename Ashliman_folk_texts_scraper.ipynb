{
 "cells": [
  {
   "cell_type": "markdown",
   "id": "5b110545",
   "metadata": {},
   "source": [
    "# Ashliman \"Folklore and Mythology Electronic Texts\" Scraper\n",
    "\n",
    "A scraper to grab all the stories edited / translated by D. L. Ashliman that are referenced from https://sites.pitt.edu/~dash/folktexts.html .\n",
    "\n",
    "Note that these are *Copyright D. L. Ashliman, University of Pittsburgh, 1996-2022*.\n",
    "\n",
    "My intention is to create personal collection of these stories to support personal search and discovery of stories.\n",
    "\n",
    "The stories appear to have been added to the website over several years. Whilst there is a lot of structure that we can can exploit to extract the story texts, there may be some stories that arenlt extracted correctly, or even at all."
   ]
  },
  {
   "cell_type": "code",
   "execution_count": 1,
   "id": "146d5af6",
   "metadata": {},
   "outputs": [],
   "source": [
    "story_list_url = \"https://sites.pitt.edu/~dash/folktexts.html\""
   ]
  },
  {
   "cell_type": "markdown",
   "id": "d84406e2",
   "metadata": {},
   "source": [
    "The stories are collected on thematic / story type pages that are referenced from https://sites.pitt.edu/~dash/folktexts.html.\n",
    "\n",
    "Let's start by grabbing links to all those pages; we'll use `requests-cache` to cache the pages so we donlt repeatedly hit the website as we test the script..."
   ]
  },
  {
   "cell_type": "code",
   "execution_count": 2,
   "id": "95524ce0",
   "metadata": {},
   "outputs": [
    {
     "data": {
      "text/plain": [
       "['https://sites.pitt.edu/~dash/abduct.html',\n",
       " 'https://sites.pitt.edu/~dash/aesopold.html',\n",
       " 'https://sites.pitt.edu/~dash/aesopskids.html']"
      ]
     },
     "execution_count": 2,
     "metadata": {},
     "output_type": "execute_result"
    }
   ],
   "source": [
    "# Suppress any warnings\n",
    "import warnings\n",
    "warnings.filterwarnings('ignore')\n",
    "# We wouldn't normally do this but it makes the book output cleaner in a couple of places...\n",
    "\n",
    "#%pip install requests-HTML\n",
    "import requests_cache\n",
    "from datetime import timedelta\n",
    "\n",
    "requests_cache.install_cache('web_cache', backend='sqlite', expire_after=timedelta(days=100))\n",
    "\n",
    "from requests_html import HTMLSession\n",
    " \n",
    "url = \"https://sites.pitt.edu/~dash/folktexts.html\"\n",
    "session = HTMLSession()\n",
    "index_response = session.get(url)\n",
    "\n",
    "# Clean the set of links to just the links we are interested in\n",
    "links = [l for l in index_response.html.absolute_links if \\\n",
    "         l.startswith(url.replace(url.split(\"/\")[-1], \"\")) and \"#\" not in l]\n",
    "# Note that the order of the links is not guaranteed, so we'll sort them to fix the order\n",
    "links.sort()\n",
    "\n",
    "links[:3]"
   ]
  },
  {
   "cell_type": "markdown",
   "id": "b45a138a",
   "metadata": {},
   "source": [
    "The story pages have a consistent form, so if we inspect one of the pages, we should be able to generate some sort of template for scraping all the pages.\n",
    "\n",
    "First of all, grab a story page:"
   ]
  },
  {
   "cell_type": "code",
   "execution_count": 3,
   "id": "4be88705",
   "metadata": {},
   "outputs": [],
   "source": [
    "page_response = session.get(links[0])"
   ]
  },
  {
   "cell_type": "markdown",
   "id": "22f5b0a3",
   "metadata": {},
   "source": [
    "Let's see if we can extract some information from the header at the top of the page:"
   ]
  },
  {
   "cell_type": "code",
   "execution_count": 4,
   "id": "4a5f6e3a",
   "metadata": {},
   "outputs": [
    {
     "data": {
      "text/plain": [
       "'\\nAbducted by Aliens  \\nEdited by\\n\\n\\nD. L. Ashliman  \\n© 1999-2021\\n'"
      ]
     },
     "execution_count": 4,
     "metadata": {},
     "output_type": "execute_result"
    }
   ],
   "source": [
    "# Get the head information\n",
    "# This works for many pages, but not all..\n",
    "header = page_response.html.find('center')\n",
    "if not header:\n",
    "    header = page_response.html.xpath('//h1[@align=\"CENTER\"]')\n",
    "\n",
    "if header:\n",
    "    header = header[0].full_text\n",
    "\n",
    "header"
   ]
  },
  {
   "cell_type": "markdown",
   "id": "cd63797a",
   "metadata": {},
   "source": [
    "The general category is given in the first line:"
   ]
  },
  {
   "cell_type": "code",
   "execution_count": 5,
   "id": "567c2ef3",
   "metadata": {},
   "outputs": [
    {
     "data": {
      "text/plain": [
       "'Abducted by Aliens'"
      ]
     },
     "execution_count": 5,
     "metadata": {},
     "output_type": "execute_result"
    }
   ],
   "source": [
    "category = header.strip().split('\\n')[0].strip()\n",
    "category"
   ]
  },
  {
   "cell_type": "markdown",
   "id": "4d1e960e",
   "metadata": {},
   "source": [
    "We may also have subheader content:"
   ]
  },
  {
   "cell_type": "code",
   "execution_count": 6,
   "id": "cf6c27eb",
   "metadata": {},
   "outputs": [
    {
     "data": {
      "text/plain": [
       "[]"
      ]
     },
     "execution_count": 6,
     "metadata": {},
     "output_type": "execute_result"
    }
   ],
   "source": [
    "# eg https://sites.pitt.edu/~dash/type1586.html\n",
    "subheading = page_response.html.xpath('//p[@align=\"CENTER\"]')\n",
    "\n",
    "if subheading:\n",
    "    subheading = subheading[0].text\n",
    "\n",
    "subheading"
   ]
  },
  {
   "cell_type": "markdown",
   "id": "9c972a54",
   "metadata": {},
   "source": [
    "Some page URLs are ATU codes; we can co-ot these as low hanging fruit if we canlt otherwise access the ATU reference:"
   ]
  },
  {
   "cell_type": "code",
   "execution_count": 7,
   "id": "a4b49465",
   "metadata": {},
   "outputs": [
    {
     "data": {
      "text/plain": [
       "'1586'"
      ]
     },
     "execution_count": 7,
     "metadata": {},
     "output_type": "execute_result"
    }
   ],
   "source": [
    "import re\n",
    "\n",
    "url_regex = r\"^type(?P<atu>[\\da-zA-Z]+)\\.html\"\n",
    "\n",
    "_url = 'https://sites.pitt.edu/~dash/type1586.html'.split('/')[-1]#links[12].split('/')[-1]\n",
    "matches= re.search(url_regex, _url, re.IGNORECASE | re.MULTILINE)\n",
    "\n",
    "if matches:\n",
    "    atu = matches.group(\"atu\")\n",
    "\n",
    "atu"
   ]
  },
  {
   "cell_type": "markdown",
   "id": "09bc7615",
   "metadata": {},
   "source": [
    "In some headers, there may be an indication of the Aarne-Thompson-Uther story type. If the tale type is described in a conventional way, we can easily extract it: "
   ]
  },
  {
   "cell_type": "code",
   "execution_count": 8,
   "id": "4e581ffd",
   "metadata": {},
   "outputs": [
    {
     "data": {
      "text/plain": [
       "'1586'"
      ]
     },
     "execution_count": 8,
     "metadata": {},
     "output_type": "execute_result"
    }
   ],
   "source": [
    "import re\n",
    "\n",
    "regex= r\"^.*Aarne-Thompson-Uther type (?P<atu>[\\da-zA-Z]+).*\"\n",
    "\n",
    "matches= re.search(regex, page_response.html.find('center')[0].full_text, re.IGNORECASE | re.MULTILINE)\n",
    "\n",
    "if matches:\n",
    "    atu = matches.group(\"atu\")\n",
    "\n",
    "atu"
   ]
  },
  {
   "cell_type": "markdown",
   "id": "76045bd2",
   "metadata": {},
   "source": [
    "Inspection of the page response HTML suggests that stories are separated by the repeated `<hr/><hr/>` element. We can also find a break before the first tale as `\\n\\n<hr/>\\n\\n<p>\\n`."
   ]
  },
  {
   "cell_type": "code",
   "execution_count": 9,
   "id": "7f26de67",
   "metadata": {},
   "outputs": [
    {
     "data": {
      "text/plain": [
       "'<body text=\"#000000\" link=\"#0000ff\" vlink=\"#800080\" bgcolor=\"#eeffee\">\\n<hr/>\\n<center>\\n<h1>Abducted by Aliens </h1> \\nEdited by<br/>\\n<a href=\"http://www.pitt.edu/~dash/ashliman.html\"><img src=\"dash.gif\" align=\"top\" border=\"2\" width=\"42\" height=\"38\"/><br/>\\n\\nD. L. Ashliman</a><br/>  \\n© 1999-2021\\n</center>\\n<p>\\nThe aliens in the legends that follow are not those from outer space, but\\nrather underground people from our own earth: fairies, trolls, elves, and\\nthe like.\\n<p>\\n<hr/>\\n<h2><a name=\"contents\">Co'"
      ]
     },
     "execution_count": 9,
     "metadata": {},
     "output_type": "execute_result"
    }
   ],
   "source": [
    "# Get the full HTML text\n",
    "html = page_response.html.find('body')\n",
    "# In some cases, the page may not be in an HTML tag but may just be body content\n",
    "if html:\n",
    "    html = html[0].html\n",
    "else:\n",
    "    html = page_response.html.html\n",
    "    # This pages are old so patch them\n",
    "    html = html.replace(\"<hr>\", \"<hr/>\")\n",
    "\n",
    "# Split out the section containing the stories\n",
    "stories_html = html.split(\"\\n\\n<hr/>\\n<p>\\n\")[-1]\n",
    "\n",
    "# Chunk the stories\n",
    "story_chunks = stories_html.split(\"<hr/><hr/>\")\n",
    "# Some old pages may just carry one story with no splits\n",
    "# If there is only one item, use that...\n",
    "story_chunks = story_chunks if len(story_chunks)==1 else story_chunks[:-1]\n",
    "\n",
    "# Preview the text in the first item\n",
    "story_chunks[:2][0][:500]"
   ]
  },
  {
   "cell_type": "markdown",
   "id": "bf5b4cf7",
   "metadata": {},
   "source": [
    "Each chunk may have additional information after the story, separated by a single `<hr/>`. So lets split each stroy into a 2-tuple for now of the form `(story, additional_info)`. "
   ]
  },
  {
   "cell_type": "code",
   "execution_count": 10,
   "id": "20f99577",
   "metadata": {},
   "outputs": [
    {
     "data": {
      "text/plain": [
       "[('\\n<h2><a name=\"brosnan\">Taken by the Good People</a></h2>\\n<h3>Ireland</h3>\\nI was serving my time to the cattle trade, with a man the name of Lynch --\\nGod be good to him! I suppose I was no more than twelve years of age at\\nthe time. \\'Twas a very out of the way place and mountainy. \\n<p>\\nWell, not far from my master\\'s house there was a family of the Brogans.\\n\\'Twas the will of God that Mrs. Brogan took sick, and there was a baby\\nborn, but the poor woman died. Well, the sister, a younger girl than the\\nwoman that died, came to nurse the child. After some time she began to\\nlook very delicate and uneasy. The naghbours were beginning to talk amongs\\nthemselves about her, and it came to Brogan\\'s ears, and, begor, it made\\nhim vexed. So he asked the sister what was up with her.\\n<p>\\n\"Well, John,\" says she, \"I did not like to tell you, but Ellie\" -- that\\nwas the name of the dead woman -- \"comes every night, and takes the baby\\nand nurses it, and goes away without a word.\"\\n<p>\\n\"By my word,\" says John, \"she is not dead at all, but taken, and I will\\nwatch her to-night.\"\\n<p>\\nGood enough, he remained up, and about 12 o\\'clock in she came, and he put\\nhis arms around her, but as he said, felt no substance.\\n<p>\\n\"You can\\'t keep me now,\" says she, \"for I\\'m married agin; but if you come\\nto the Bottle Hill field to-morrow night, there will be about 40 of us\\ngoin\\' t\\'words Blarney, and we will all be on horses, with our husbands.\\nAll the horses will be white, and I and my man will be last. Bring a hazel\\nstick woud [with] you and strike the horse on the right side, and I will\\nfall off. Just as I fall, ketch me with all your might. You will know my\\nman, for he is the only one of them that has a red head.\"\\n<p>\\nWell, he went, and he must have a great heart, for on they come, gallopin\\'\\nlike mad. Just as the man with the red head\\'s horse came he stood one-side\\nand struck. She fell and he gripped her like iron. Well, such a hullabaloo\\nas there was, was never heard, and all the other men makin\\' game of the\\nred-headed man.\\n<p>\\nWell, he brought her home, and they lived for years after, and had a good\\nfamily, and were the happiest people around the place. I often see some of\\nher children; of course they are all married now, and gone here and there,\\nbut that\\'s as true as my name is Tim Brosnan.  <p>\\n',\n",
       "  '\\n<ul>\\n<li>Source (Internet Archive): \"Folk-Tales from County Limerick collected by Miss D. Knox,\"\\n<a target=\"_blank\" href=\"https://archive.org/stream/folklore28folkuoft#page/n4/mode/1up\"><i>Folk-Lore: A Quarterly Review of Myth, Tradition, Institution, &amp;\\nCustom</i></a> (London: Folk-Lore Society, 1917), v. 28, <a target=\"_blank\" href=\"https://archive.org/stream/folklore28folkuoft#page/218/mode/2up\">pp. 218-219</a>.<p>\\n<li>Knox\\'s source: Told by Tim Brosnan, Dungeagan, County Kerry.<p>\\n<li>I have retained Knox\\'s spelling.<p>\\n<li>Return to the <a href=\"#contents\">table of contents</a>.\\n</li></p></li></p></li></p></li></ul>\\n'),\n",
       " ('\\n<h2><a name=\"kelly\">Twenty Years with the Good People</a></h2>\\n<h3>Ireland</h3>\\nI had a gran\\'uncle, he was a shoemaker; he was only about 3 or 4 months\\nmarried. I\\'m up to fourscore now. Well, God rest all their souls, for they\\nare all gone, I hope to a better world!\\n<p>\\nWell, sir, he says to his wife, and a purty girl she was, as I hear um\\nsay, -- the fortune wasn\\'t very big but \\'twould buy him a good bit of\\nleather, and I might tell you, \\'twas all brogues that was worn at the\\ntime, and faith, you should be big before you would get them same. \\n<p>\\nHowisever, he started one day for Limerick would [with] and ass and car,\\nto bring home leather and other little things he wanted. He did not return\\nthat night or the next, nor the next. Begor, the wife and some frinds went\\nto Limerick next day, but no trace of the husband could be found. I forgot\\nto tell you that the third morning after he was gone the wife rose very\\nearly, and there at the dure [door] was the ass and car. The whole country\\nwas searched, up high and low down, but no trace. Weeks, monts and years\\ncame and went, but he never turned up.\\n<p>\\nNow the wife kept on a little business, sellin\\' nick-nacks to support\\nherself, and a son, that grew to be a fine strapping man, as I hear um\\nsay, the picture of his father.\\n<p>\\nNow, sir, the boy was in or about twenty, when one day, himself and his\\nmother were atin\\' their dinner, whin in comes a man and says, \"God save\\nye!\"\\n<p>\\n\"And you too,\" says the mother. \"Will you ate a spud, sir?\" says she.\\n<p>\\nHe rached for the spud, and in doin\\' so the sleeve of his coat shortned as\\nhe reached out his hand. He had a mole on his wrist and she see it, and\\nher husband had one in the same spot.\\n<p>\\n\"Good God!\" says she, \"are you John M\\'Namara?\" -- for that was his name.\\n<p>\\n\"I am,\" says he, \"and your husband, and that\\'s my son, but I can\\'t tell\\nyou for some time where I was since I left you. But some time I might have\\nthe power, but not now.\"\\n<p>\\nWell, lo and behold you, in a week\\'s time he started to work, and the\\nboots he made were a surprise to the whole country round, and I believe he\\nlived for nine or ten years ater that, but he never tould her or any one\\nwhere he was, but of course everbody knew that \\'twas wood [with] the good\\npeople. <p>\\n',\n",
       "  '\\n<ul>\\n<li>Source: \"Folk-Tales from County Limerick collected by Miss D. Knox,\"\\n<a target=\"_blank\" href=\"https://archive.org/stream/folklore28folkuoft#page/n4/mode/1up\"><i>Folk-Lore: A Quarterly Review of Myth, Tradition, Institution, &amp;\\nCustom</i></a> (London: Folk-Lore Society, 1917), v. 28, <a target=\"_blank\" href=\"https://archive.org/stream/folklore28folkuoft#page/214/mode/2up\">pp. 215-216</a>.<p>\\n<li>Knox\\'s source: Told by John Kelly, Cooraclare?, County Clare.<p>\\n<li>I have retained Knox\\'s spelling.<p>\\n<li>Return to the <a href=\"#contents\">table of contents</a>. <p>\\n</p></li></p></li></p></li></p></li></ul>\\n')]"
      ]
     },
     "execution_count": 10,
     "metadata": {},
     "output_type": "execute_result"
    }
   ],
   "source": [
    "story_chunk_tuples = []\n",
    "\n",
    "for story_chunk in story_chunks:\n",
    "    story_chunk_items = story_chunk.split('<hr/>')\n",
    "    if len(story_chunk_items)==2:\n",
    "        story_chunk_tuples.append( (story_chunk_items[0], story_chunk_items[1]) )\n",
    "    \n",
    "story_chunk_tuples[:2]"
   ]
  },
  {
   "cell_type": "markdown",
   "id": "3148b684",
   "metadata": {},
   "source": [
    "We can now start to parse the separate chunks of story. For example, the title appears in an `<h2>` element:"
   ]
  },
  {
   "cell_type": "code",
   "execution_count": 11,
   "id": "66033036",
   "metadata": {},
   "outputs": [
    {
     "data": {
      "text/plain": [
       "'\\n<h2><a name=\"brosnan\">Taken by the Good People</a></h2>\\n<h3>Ireland</h3>\\nI was serving my time to the cattle trade, with a man the name of Lynch --\\nGod be good to him! I suppose I was no more than twelve years of age at\\nthe time. \\'Twas a very out of the way place and mountainy. \\n<p>\\nWell, not far from my master\\'s house there was a family of the Brogans.\\n\\'Twas the will of God that Mrs. Brogan took sick, and there was a baby\\nborn, but the poor woman died. Well, the sister, a younger girl than the'"
      ]
     },
     "execution_count": 11,
     "metadata": {},
     "output_type": "execute_result"
    }
   ],
   "source": [
    "story_chunk_tuples[0][0][:500]"
   ]
  },
  {
   "cell_type": "code",
   "execution_count": 12,
   "id": "0dfa0e34",
   "metadata": {},
   "outputs": [
    {
     "data": {
      "text/plain": [
       "'Taken by the Good People'"
      ]
     },
     "execution_count": 12,
     "metadata": {},
     "output_type": "execute_result"
    }
   ],
   "source": [
    "from requests_html import HTML\n",
    "\n",
    "example_story_html = HTML(html=story_chunk_tuples[0][0])\n",
    "example_story_html.find('h2')[0].text"
   ]
  },
  {
   "cell_type": "markdown",
   "id": "24da41b5",
   "metadata": {},
   "source": [
    "There is sometimes a subtitle in an `<h3>` element:"
   ]
  },
  {
   "cell_type": "code",
   "execution_count": 13,
   "id": "b2d680ab",
   "metadata": {},
   "outputs": [
    {
     "name": "stdout",
     "output_type": "stream",
     "text": [
      "Ireland\n"
     ]
    }
   ],
   "source": [
    "example_subheading = example_story_html.find('h3')\n",
    "if example_subheading:\n",
    "    print(example_subheading[0].text)"
   ]
  },
  {
   "cell_type": "markdown",
   "id": "2b7a3dca",
   "metadata": {},
   "source": [
    "We have access to the full story text:"
   ]
  },
  {
   "cell_type": "code",
   "execution_count": 14,
   "id": "38264ed2",
   "metadata": {},
   "outputs": [
    {
     "data": {
      "text/plain": [
       "'Taken by the Good People\\nIreland\\nI was serving my time to the cattle trade, with a man the name of Lynch --\\nGod be good to him! I suppose I was no more than twelve years of age at\\nthe time. \\'Twas a very out of the way place and mountainy. \\n\\nWell, not far from my master\\'s house there was a family of the Brogans.\\n\\'Twas the will of God that Mrs. Brogan took sick, and there was a baby\\nborn, but the poor woman died. Well, the sister, a younger girl than the\\nwoman that died, came to nurse the child. After some time she began to\\nlook very delicate and uneasy. The naghbours were beginning to talk amongs\\nthemselves about her, and it came to Brogan\\'s ears, and, begor, it made\\nhim vexed. So he asked the sister what was up with her.\\n\\n\"Well, John,\" says she, \"I did not like to tell you, but Ellie\" -- that\\nwas the name of the dead woman -- \"comes every night, and takes the baby\\nand nurses it, and goes away without a word.\"\\n\\n\"By my word,\" says John, \"she is not dead at all, but taken, and I will\\nwatch her to-night.\"\\n\\nGood enough, he remained up, and about 12 o\\'clock in she came, and he put\\nhis arms around her, but as he said, felt no substance.\\n\\n\"You can\\'t keep me now,\" says she, \"for I\\'m married agin; but if you come\\nto the Bottle Hill field to-morrow night, there will be about 40 of us\\ngoin\\' t\\'words Blarney, and we will all be on horses, with our husbands.\\nAll the horses will be white, and I and my man will be last. Bring a hazel\\nstick woud [with] you and strike the horse on the right side, and I will\\nfall off. Just as I fall, ketch me with all your might. You will know my\\nman, for he is the only one of them that has a red head.\"\\n\\nWell, he went, and he must have a great heart, for on they come, gallopin\\'\\nlike mad. Just as the man with the red head\\'s horse came he stood one-side\\nand struck. She fell and he gripped her like iron. Well, such a hullabaloo\\nas there was, was never heard, and all the other men makin\\' game of the\\nred-headed man.\\n\\nWell, he brought her home, and they lived for years after, and had a good\\nfamily, and were the happiest people around the place. I often see some of\\nher children; of course they are all married now, and gone here and there,\\nbut that\\'s as true as my name is Tim Brosnan.  \\n'"
      ]
     },
     "execution_count": 14,
     "metadata": {},
     "output_type": "execute_result"
    }
   ],
   "source": [
    "example_story_html.full_text"
   ]
  },
  {
   "cell_type": "markdown",
   "id": "a5df414e",
   "metadata": {},
   "source": [
    "If the original HTML included \"useful\" HTML tags, these would be stripped out in the `full_text`,, so instead it might be useful to parse the story and additional information HTML as markdown (a simple structured text format). "
   ]
  },
  {
   "cell_type": "code",
   "execution_count": 15,
   "id": "17bf8b54",
   "metadata": {},
   "outputs": [
    {
     "data": {
      "text/plain": [
       "'\\n<h2><a name=\"brosnan\">Taken by the Good People</a></h2>\\n<h3>Ireland</h3>\\nI was serving my time to the cattle trade, with a man the name of Lynch --\\nGod be good to him! I suppose I was no more than twelve years of age at\\nthe time. \\'Twas a very out of the way place and mountainy. \\n<p>\\nWell, not far from my master\\'s house there was a family of the Brogans.\\n\\'Twas the will of God that Mrs. Brogan took sick, and there was a baby\\nborn, but the poor woman died. Well, the sister, a younger girl than the\\nwoman that died, came to nurse the child. After some time she began to\\nlook very delicate and uneasy. The naghbours were beginning to talk amongs\\nthemselves about her, and it came to Brogan\\'s ears, and, begor, it made\\nhim vexed. So he asked the sister what was up with her.\\n<p>\\n\"Well, John,\" says she, \"I did not like to tell you, but Ellie\" -- that\\nwas the name of the dead woman -- \"comes every night, and takes the baby\\nand nurses it, and goes away without a word.\"\\n<p>\\n\"By my word,\" says John, \"she is not dead at all, but taken, and I will\\nwatch her to-night.\"\\n<p>\\nGood enough, he remained up, and about 12 o\\'clock in she came, and he put\\nhis arms around her, but as he said, felt no substance.\\n<p>\\n\"You can\\'t keep me now,\" says she, \"for I\\'m married agin; but if you come\\nto the Bottle Hill field to-morrow night, there will be about 40 of us\\ngoin\\' t\\'words Blarney, and we will all be on horses, with our husbands.\\nAll the horses will be white, and I and my man will be last. Bring a hazel\\nstick woud [with] you and strike the horse on the right side, and I will\\nfall off. Just as I fall, ketch me with all your might. You will know my\\nman, for he is the only one of them that has a red head.\"\\n<p>\\nWell, he went, and he must have a great heart, for on they come, gallopin\\'\\nlike mad. Just as the man with the red head\\'s horse came he stood one-side\\nand struck. She fell and he gripped her like iron. Well, such a hullabaloo\\nas there was, was never heard, and all the other men makin\\' game of the\\nred-headed man.\\n<p>\\nWell, he brought her home, and they lived for years after, and had a good\\nfamily, and were the happiest people around the place. I often see some of\\nher children; of course they are all married now, and gone here and there,\\nbut that\\'s as true as my name is Tim Brosnan.  <p>\\n'"
      ]
     },
     "execution_count": 15,
     "metadata": {},
     "output_type": "execute_result"
    }
   ],
   "source": [
    "story_chunk_tuples[0][0]"
   ]
  },
  {
   "cell_type": "markdown",
   "id": "1a1f5f69",
   "metadata": {},
   "source": [
    "The following function will attempt to repair any broken HTML before we pass it to `markdownify`. There are probably better ways of doing this!"
   ]
  },
  {
   "cell_type": "code",
   "execution_count": 16,
   "id": "9b69366d",
   "metadata": {},
   "outputs": [
    {
     "data": {
      "text/plain": [
       "'Taken by the Good People\\n------------------------\\n\\n\\n### Ireland\\n\\n\\nI was serving my time to the cattle trade, with a man the name of Lynch --\\nGod be good to him! I suppose I was no more than twelve years of age at\\nthe time. \\'Twas a very out of the way place and mountainy. \\n\\nWell, not far from my master\\'s house there was a family of the Brogans.\\n\\'Twas the will of God that Mrs. Brogan took sick, and there was a baby\\nborn, but the poor woman died. Well, the sister, a younger girl than the\\nwoman that died, came to nurse the child. After some time she began to\\nlook very delicate and uneasy. The naghbours were beginning to talk amongs\\nthemselves about her, and it came to Brogan\\'s ears, and, begor, it made\\nhim vexed. So he asked the sister what was up with her.\\n\\n\\n\\n\"Well, John,\" says she, \"I did not like to tell you, but Ellie\" -- that\\nwas the name of the dead woman -- \"comes every night, and takes the baby\\nand nurses it, and goes away without a word.\"\\n\\n\\n\\n\"By my word,\" says John, \"she is not dead at all, but taken, and I will\\nwatch her to-night.\"\\n\\n\\n\\nGood enough, he remained up, and about 12 o\\'clock in she came, and he put\\nhis arms around her, but as he said, felt no substance.\\n\\n\\n\\n\"You can\\'t keep me now,\" says she, \"for I\\'m married agin; but if you come\\nto the Bottle Hill field to-morrow night, there will be about 40 of us\\ngoin\\' t\\'words Blarney, and we will all be on horses, with our husbands.\\nAll the horses will be white, and I and my man will be last. Bring a hazel\\nstick woud [with] you and strike the horse on the right side, and I will\\nfall off. Just as I fall, ketch me with all your might. You will know my\\nman, for he is the only one of them that has a red head.\"\\n\\n\\n\\nWell, he went, and he must have a great heart, for on they come, gallopin\\'\\nlike mad. Just as the man with the red head\\'s horse came he stood one-side\\nand struck. She fell and he gripped her like iron. Well, such a hullabaloo\\nas there was, was never heard, and all the other men makin\\' game of the\\nred-headed man.\\n\\n\\n\\nWell, he brought her home, and they lived for years after, and had a good\\nfamily, and were the happiest people around the place. I often see some of\\nher children; of course they are all married now, and gone here and there,\\nbut that\\'s as true as my name is Tim Brosnan.'"
      ]
     },
     "execution_count": 16,
     "metadata": {},
     "output_type": "execute_result"
    }
   ],
   "source": [
    "#%pip install --upgrade parse # Tools to support \"fromat\" style parsing\n",
    "#%pip install --upgrade markdownify # Tools to convert HTML to markdown\n",
    "\n",
    "from parse import parse\n",
    "\n",
    "import html5lib\n",
    "import lxml\n",
    "\n",
    "import markdownify\n",
    "\n",
    "def repair_HTML(html):\n",
    "    \"\"\"Repair HTML.\"\"\"\n",
    "    # html5bib repairs the broken HTML\n",
    "    tree = html5lib.parse(html, treebuilder='lxml', namespaceHTMLElements=False)\n",
    "    html_ = parse(\"<body>{html}</body>\", lxml.html.tostring(tree.find(\"body\")).decode('utf-8'))\n",
    "    if html_:\n",
    "        return html_['html'], tree\n",
    "    return '', None\n",
    "\n",
    "\n",
    "(_html, _tree) = repair_HTML(story_chunk_tuples[0][0])\n",
    "\n",
    "md = markdownify.markdownify(_html, bullets=\"-\").strip()\n",
    "md"
   ]
  },
  {
   "cell_type": "markdown",
   "id": "7e4b42e2",
   "metadata": {},
   "source": [
    "We can use the `IPython.display.Markdown` function to preview the formatted story:"
   ]
  },
  {
   "cell_type": "code",
   "execution_count": 17,
   "id": "b78c80d8",
   "metadata": {},
   "outputs": [
    {
     "data": {
      "text/markdown": [
       "Taken by the Good People\n",
       "------------------------\n",
       "\n",
       "\n",
       "### Ireland\n",
       "\n",
       "\n",
       "I was serving my time to the cattle trade, with a man the name of Lynch --\n",
       "God be good to him! I suppose I was no more than twelve years of age at\n",
       "the time. 'Twas a very out of the way place and mountainy. \n",
       "\n",
       "Well, not far from my master's house there was a family of the Brogans.\n",
       "'Twas the will of God that Mrs. Brogan took sick, and there was a baby\n",
       "born, but the poor woman died. Well, the sister, a younger girl than the\n",
       "woman that died, came to nurse the child. After some time she began to\n",
       "look very delicate and uneasy. The naghbours were beginning to talk amongs\n",
       "themselves about her, and it came to Brogan's ears, and, begor, it made\n",
       "him vexed. So he asked the sister what was up with her.\n",
       "\n",
       "\n",
       "\n",
       "\"Well, John,\" says she, \"I did not like to tell you, but Ellie\" -- that\n",
       "was the name of the dead woman -- \"comes every night, and takes the baby\n",
       "and nurses it, and goes away without a word.\"\n",
       "\n",
       "\n",
       "\n",
       "\"By my word,\" says John, \"she is not dead at all, but taken, and I will\n",
       "watch her to-night.\"\n",
       "\n",
       "\n",
       "\n",
       "Good enough, he remained up, and about 12 o'clock in she came, and he put\n",
       "his arms around her, but as he said, felt no substance.\n",
       "\n",
       "\n",
       "\n",
       "\"You can't keep me now,\" says she, \"for I'm married agin; but if you come\n",
       "to the Bottle Hill field to-morrow night, there will be about 40 of us\n",
       "goin' t'words Blarney, and we will all be on horses, with our husbands.\n",
       "All the horses will be white, and I and my man will be last. Bring a hazel\n",
       "stick woud [with] you and strike the horse on the right side, and I will\n",
       "fall off. Just as I fall, ketch me with all your might. You will know my\n",
       "man, for he is the only one of them that has a red head.\"\n",
       "\n",
       "\n",
       "\n",
       "Well, he went, and he must have a great heart, for on they come, gallopin'\n",
       "like mad. Just as the man with the red head's horse came he stood one-side\n",
       "and struck. She fell and he gripped her like iron. Well, such a hullabaloo\n",
       "as there was, was never heard, and all the other men makin' game of the\n",
       "red-headed man.\n",
       "\n",
       "\n",
       "\n",
       "Well, he brought her home, and they lived for years after, and had a good\n",
       "family, and were the happiest people around the place. I often see some of\n",
       "her children; of course they are all married now, and gone here and there,\n",
       "but that's as true as my name is Tim Brosnan."
      ],
      "text/plain": [
       "<IPython.core.display.Markdown object>"
      ]
     },
     "execution_count": 17,
     "metadata": {},
     "output_type": "execute_result"
    }
   ],
   "source": [
    "from IPython.display import Markdown\n",
    "\n",
    "Markdown(md)"
   ]
  },
  {
   "cell_type": "markdown",
   "id": "ca8d1ce2",
   "metadata": {},
   "source": [
    "If we look at the additional information, we see that it contains a list of items, which may contain links. The final list item is boilerplate and we can remove it."
   ]
  },
  {
   "cell_type": "code",
   "execution_count": 18,
   "id": "302da74a",
   "metadata": {},
   "outputs": [
    {
     "data": {
      "text/plain": [
       "'\\n<ul>\\n<li>Source (books.google.com): William Butler Yeats, <i><a target=\"_blank\" href=\"https://books.google.com/books?id=AhZLAAAAMAAJ&amp;pg=PP13#v=onepage&amp;q&amp;f=false\">The Celtic Twilight</a></i> (London: A. H. Bullen, 1902), <a target=\"_blank\" href=\"https://books.google.com/books?id=AhZLAAAAMAAJ&amp;pg=PA117#v=onepage&amp;q&amp;f=false\">pp. 117-29</a>. <p>\\n<li>Source (Internet Archive): William Butler Yeats, <i><a target=\"_blank\" href=\"https://archive.org/details/celtictwilight00yeatrich\">The Celtic Twilight</a></i> (London: A. H. Bullen, 1902), <a target=\"_blank\" href=\"xxx\">pp. 117-29</a>. <p>\\n<li>Return to the <a href=\"#contents\">table of contents</a>. <p>\\n</p></li></p></li></p></li></ul>\\n'"
      ]
     },
     "execution_count": 18,
     "metadata": {},
     "output_type": "execute_result"
    }
   ],
   "source": [
    "story_chunk_tuples[3][1]"
   ]
  },
  {
   "cell_type": "code",
   "execution_count": 19,
   "id": "7084adda",
   "metadata": {},
   "outputs": [
    {
     "data": {
      "text/plain": [
       "['<li>Source (Internet Archive): \"Folk-Tales from County Limerick collected by Miss D. Knox,\"\\n<a target=\"_blank\" href=\"https://archive.org/stream/folklore28folkuoft#page/n4/mode/1up\"><i>Folk-Lore: A Quarterly Review of Myth, Tradition, Institution, &amp;\\nCustom</i></a> (London: Folk-Lore Society, 1917), v. 28, <a target=\"_blank\" href=\"https://archive.org/stream/folklore28folkuoft#page/218/mode/2up\">pp. 218-219</a>.<p>\\n<li>Knox\\'s source: Told by Tim Brosnan, Dungeagan, County Kerry.<p>\\n<li>I have retained Knox\\'s spelling.<p>\\n<li>Return to the <a href=\"#contents\">table of contents</a>.\\n</li></p></li></p></li></p></li>',\n",
       " '<li>Knox\\'s source: Told by Tim Brosnan, Dungeagan, County Kerry.<p>\\n<li>I have retained Knox\\'s spelling.<p>\\n<li>Return to the <a href=\"#contents\">table of contents</a>.\\n</li></p></li></p></li>',\n",
       " '<li>I have retained Knox\\'s spelling.<p>\\n<li>Return to the <a href=\"#contents\">table of contents</a>.\\n</li></p></li>']"
      ]
     },
     "execution_count": 19,
     "metadata": {},
     "output_type": "execute_result"
    }
   ],
   "source": [
    "additional_info = [li.html for li in HTML(html=story_chunk_tuples[0][1]).find(\"li\")[:-1]]\n",
    "additional_info"
   ]
  },
  {
   "cell_type": "markdown",
   "id": "f795864b",
   "metadata": {},
   "source": [
    "In some records, the Aarne-Thompson-Uther type is given, which we can easily parse out if it is presented in a regular form:"
   ]
  },
  {
   "cell_type": "code",
   "execution_count": 20,
   "id": "bcdc022e",
   "metadata": {},
   "outputs": [
    {
     "data": {
      "text/plain": [
       "<Result ('Similar to ',) {'atu': '1586'}>"
      ]
     },
     "execution_count": 20,
     "metadata": {},
     "output_type": "execute_result"
    }
   ],
   "source": [
    "#Aarne-Thompson-Uther type 1586.\n",
    "\n",
    "# Requires exact match\n",
    "parse(\"Aarne-Thompson-Uther type {atu}.\", \"Aarne-Thompson-Uther type 1586.\")\n",
    "# Accepts arbitrary but required prefix\n",
    "parse(\"{}Aarne-Thompson-Uther type {atu}.\", \"Similar to Aarne-Thompson-Uther type 1586.\")"
   ]
  },
  {
   "cell_type": "markdown",
   "id": "02998375",
   "metadata": {},
   "source": [
    "## Create a Simple Database\n",
    "\n",
    "We can create a simple database structure to hold the stories."
   ]
  },
  {
   "cell_type": "code",
   "execution_count": 21,
   "id": "a618cab3",
   "metadata": {},
   "outputs": [],
   "source": [
    "from sqlite_utils import Database\n",
    "\n",
    "db_name = \"ashliman_demo.db\"\n",
    "\n",
    "# While developing the script, recreate database each time...\n",
    "db = Database(db_name, recreate=True)"
   ]
  },
  {
   "cell_type": "markdown",
   "id": "62c15e75",
   "metadata": {},
   "source": [
    "Let's start off with a table for the stories. This should include:\n",
    "\n",
    "- story title;\n",
    "- story text;\n",
    "- story metadata.\n",
    "\n",
    "There may also be optional subheading information.\n",
    "\n",
    "From the page, we will also be able to get the general tale type. We may also be able to get the ATU tale type, either from the page, or from the story record. We can include these in our table definition."
   ]
  },
  {
   "cell_type": "code",
   "execution_count": 22,
   "id": "39c4b11f",
   "metadata": {},
   "outputs": [
    {
     "data": {
      "text/plain": [
       "<Table ashliman_stories (title, subheading, text, metadata, generic_type, generic_info, atu, url)>"
      ]
     },
     "execution_count": 22,
     "metadata": {},
     "output_type": "execute_result"
    }
   ],
   "source": [
    "db[\"ashliman_stories\"].delete_where()\n",
    "db[\"ashliman_stories\"].create({\n",
    "    \"title\": str,\n",
    "    \"subheading\": str,\n",
    "    \"text\": str,\n",
    "    \"metadata\": str,\n",
    "    \"generic_type\": str,\n",
    "    \"generic_info\": str,\n",
    "    \"atu\": str, # This may be null\n",
    "    \"url\": str,\n",
    "})\n",
    "\n",
    "# Create a full text search table to improve search support\n",
    "db[\"ashliman_stories\"].enable_fts([\"text\"], create_triggers=True, tokenize=\"porter\")"
   ]
  },
  {
   "cell_type": "markdown",
   "id": "19dfb766",
   "metadata": {},
   "source": [
    "Let's see if we can add create an example set of records from a single page and add it to the database:"
   ]
  },
  {
   "cell_type": "code",
   "execution_count": 23,
   "id": "03b6a09a",
   "metadata": {},
   "outputs": [],
   "source": [
    "def fetch_and_parse_page(url, exceptions=None):\n",
    "    \"\"\"Fetch and parse Ashliman story pages.\"\"\"\n",
    "    \n",
    "    page_response = session.get(url)\n",
    "    \n",
    "    atu_regex = r\"^.*Aarne-Thompson-Uther type (?P<atu>[\\da-zA-Z]+).*\"\n",
    "    \n",
    "    story_records = []\n",
    "    \n",
    "    atu = ''\n",
    "    generic_type = ''\n",
    "    \n",
    "    # Low hanging fruit: ATU in URL\n",
    "    url_regex = r\"^type(?P<atu>[\\da-zA-Z]+)\\.html\"\n",
    "    _url = url.split('/')[-1]\n",
    "    matches= re.search(url_regex, _url, re.IGNORECASE | re.MULTILINE)\n",
    "    if matches:\n",
    "        atu = matches.group(\"atu\")\n",
    "    # Low hanging fruit - atu in text\n",
    "    generic_info = page_response.html.xpath('//p[@align=\"CENTER\"]')\n",
    "    generic_info = generic_info[0].text.strip() if generic_info else ''\n",
    "    # Check to see if we can find an ATU; if we do, this overrides the page atu\n",
    "    matches = re.search(atu_regex, generic_info, re.IGNORECASE | re.MULTILINE)\n",
    "    if matches:\n",
    "        atu = matches.group(\"atu\")\n",
    "    \n",
    "    # The generic type is the page title\n",
    "    # Get the head information\n",
    "    header = page_response.html.find('center')\n",
    "    if not header:\n",
    "        header = page_response.html.xpath('//h1[@align=\"CENTER\"]')\n",
    "\n",
    "    if header:\n",
    "        header = header[0].full_text\n",
    "        generic_type = header.strip().split('\\n')[0].strip()\n",
    "        \n",
    "        # See if an ATU is defined in the header\n",
    "        matches = re.search(atu_regex, header, re.IGNORECASE | re.MULTILINE)\n",
    "\n",
    "        if matches:\n",
    "            atu = matches.group(\"atu\")\n",
    "\n",
    "    # Now find stories\n",
    "    html = page_response.html.find('body')\n",
    "    if html:\n",
    "        html = html[0].html\n",
    "    else:\n",
    "        html = page_response.html.html\n",
    "        # This pages are old so patch them\n",
    "        html = html.replace(\"<hr>\", \"<hr/>\")\n",
    "        \n",
    "    # Split out the section containing the stories\n",
    "    story_section = \"\\n\\n<hr/>\\n<p>\\n\"\n",
    "    if exceptions and url in exceptions:\n",
    "        html = html.replace(exceptions[url], f\"{story_section}{exceptions[url]}\")\n",
    "    stories_html = html.split(story_section)\n",
    "    ix = 0 if len(stories_html)==1 else -1\n",
    "    stories_html = stories_html[ix]\n",
    "\n",
    "    # Chunk the stories\n",
    "    story_chunks = stories_html.split(\"<hr/><hr/>\")\n",
    "    # Some old pages may not have the non-story boilerplate at the end\n",
    "    story_chunks = story_chunks if len(story_chunks)==1 else story_chunks[:-1]\n",
    "\n",
    "    # Now iterate through all the stories\n",
    "    for story_chunk in story_chunks:\n",
    "        record = {'generic_type': generic_type,\n",
    "                  'generic_info': generic_info,\n",
    "                  'atu':atu,\n",
    "                  'metadata':'',\n",
    "                  'url': url}\n",
    "        \n",
    "        story_chunk_items = story_chunk.split('<hr/>')\n",
    "    \n",
    "    \n",
    "    \n",
    "        # Trap any broken html...\n",
    "        #try:\n",
    "        #    story_html = HTML(html=story_chunk_items[0])\n",
    "        #except:\n",
    "        #    pass\n",
    "        #record['text'] = story_html.full_text.strip()\n",
    "\n",
    "        try:\n",
    "            (_html, story_tree) = repair_HTML(story_chunk_items[0])\n",
    "            record['text'] = markdownify.markdownify(_html, bullets=\"-\").strip()\n",
    "            #record['html'] = _html\n",
    "            story_tree = HTML(html=_html)\n",
    "        except:\n",
    "            record['text'] = ''\n",
    "            \n",
    "        \n",
    "        # If there is no story text, move on\n",
    "        if not record['text']:\n",
    "            continue\n",
    "        \n",
    "        # Get title\n",
    "        title = story_tree.find('h2')\n",
    "        title = title[0].text.strip() if title else generic_type\n",
    "        # If we have not dropped the contents section, and we can identify it, move on...\n",
    "        if title=='Contents':\n",
    "            continue\n",
    "        \n",
    "        record['title'] = title\n",
    "        \n",
    "        # Get optional subheading\n",
    "        subheading = story_tree.find('h3')\n",
    "        subheading = subheading[0].text.strip() if subheading else ''\n",
    "        \n",
    "        record['subheading'] = subheading\n",
    "        \n",
    "        if len(story_chunk_items)==2:\n",
    "            (_html, _) = repair_HTML(story_chunk_items[1])\n",
    "            metadata = markdownify.markdownify(_html, bullets=\"-\").strip()\n",
    "            # Cleaning, added as and when I spot it's necessary\n",
    "            metadata = metadata.replace(\"- Return to the [table of contents](#contents).\", \"\")\n",
    "            record['metadata'] = metadata.strip()\n",
    "            # Check to see if we can find an ATU; if we do, this overrides the page atu\n",
    "            matches = re.search(atu_regex, record['metadata'], re.IGNORECASE | re.MULTILINE)\n",
    "            if matches:\n",
    "                record['atu'] = matches.group(\"atu\")\n",
    "        \n",
    "        # Depending on the layout, we may get what is essentially a null record\n",
    "        if record['text']!='folktexts' and record['text']!=record['title'] \\\n",
    "                and not record['text'].startswith(\"Return to D. L. Ashliman\"):\n",
    "            story_records.append(record)\n",
    "        \n",
    "    return story_records"
   ]
  },
  {
   "cell_type": "markdown",
   "id": "1d765002",
   "metadata": {},
   "source": [
    "Let's try that function out:"
   ]
  },
  {
   "cell_type": "code",
   "execution_count": 24,
   "id": "131d1c82",
   "metadata": {},
   "outputs": [
    {
     "data": {
      "text/plain": [
       "[{'generic_type': \"Old Folks in Aesop's Fables\",\n",
       "  'generic_info': '',\n",
       "  'atu': '',\n",
       "  'metadata': '',\n",
       "  'url': 'https://sites.pitt.edu/~dash/aesopold.html',\n",
       "  'text': \"- Sources:\\n\\t- Fables 1-18: *Aesop's Fables*. Translated by V. S. Vernon Jones. \\n\\tLondon: Heinemann, 1912.\\n\\t- Fables 19-20: *The Fables of Aesop*. Edited by Joseph Jacobs. \\n\\tLondon and New York: Macmillan, 1894.\\n\\t- Fables 21-28: *The Fables of Aesop*. Based on the texts of \\n\\tL'Estrange and Croxall. New York and Boston: \\n\\t\\n\\tBooks, Inc., n.d.\\n- Return to D. L. Ashliman's [**folktexts**](folktexts.html), a library of folktales, folklore, \\nfairy tales, and mythology.\",\n",
       "  'title': \"Old Folks in Aesop's Fables\",\n",
       "  'subheading': ''},\n",
       " {'generic_type': \"Old Folks in Aesop's Fables\",\n",
       "  'generic_info': '',\n",
       "  'atu': '',\n",
       "  'metadata': '',\n",
       "  'url': 'https://sites.pitt.edu/~dash/aesopold.html',\n",
       "  'text': 'The Mischievous Dog\\n-------------------\\n\\n \\nThere was once a dog who used to snap at people and bite them without any \\nprovocation, and who was a great nuisance to \\n\\neveryone who came to his master\\'s house. So his master fastened a bell \\nround his neck to warn people of his presence. \\n\\nThe dog was very proud of the bell, and strutted about tinkling it with \\nimmense satisfaction. But an old dog came up \\n\\nto him and said, \"The fewer airs you give yourself the better, my friend. \\nYou don\\'t think, do you, that your bell was \\n\\ngiven you as a reward of merit? On the contrary, it is a badge of \\ndisgrace.\" \\nMoral: Notoriety is often mistaken for fame.',\n",
       "  'title': 'The Mischievous Dog',\n",
       "  'subheading': ''}]"
      ]
     },
     "execution_count": 24,
     "metadata": {},
     "output_type": "execute_result"
    }
   ],
   "source": [
    "# This is a hack fix - some pages don't have the conventional split string\n",
    "exceptions = {\"https://sites.pitt.edu/~dash/hildebrand.html\": \"I have heard tell\",\n",
    "              \"https://sites.pitt.edu/~dash/bluebelt.html\": \"Once upon a time\",\n",
    "              \"https://sites.pitt.edu/~dash/lowell.html\": \"I had a little daughter\",\n",
    "              \"https://sites.pitt.edu/~dash/changeling.html\": '<h2><a name=\"legends\">The legends </a></h2>'}\n",
    "    \n",
    "example_records = fetch_and_parse_page(links[1], exceptions)\n",
    "example_records[:2]"
   ]
  },
  {
   "cell_type": "markdown",
   "id": "e109ee18",
   "metadata": {},
   "source": [
    "For the metadata, we could have a metadata table, with one or more rows per book depending on the number of metadata list items? Or is the use of lists in metadata inconsistently applied?"
   ]
  },
  {
   "cell_type": "code",
   "execution_count": 25,
   "id": "2626fe74",
   "metadata": {},
   "outputs": [
    {
     "data": {
      "text/markdown": [],
      "text/plain": [
       "<IPython.core.display.Markdown object>"
      ]
     },
     "execution_count": 25,
     "metadata": {},
     "output_type": "execute_result"
    }
   ],
   "source": [
    "Markdown(example_records[1]['metadata'])"
   ]
  },
  {
   "cell_type": "markdown",
   "id": "6730d043",
   "metadata": {},
   "source": [
    "We can add these to the database and have a go at querying them:"
   ]
  },
  {
   "cell_type": "code",
   "execution_count": 26,
   "id": "0bbbece9",
   "metadata": {},
   "outputs": [
    {
     "data": {
      "text/plain": [
       "<Table ashliman_stories (title, subheading, text, metadata, generic_type, generic_info, atu, url)>"
      ]
     },
     "execution_count": 26,
     "metadata": {},
     "output_type": "execute_result"
    }
   ],
   "source": [
    "db[\"ashliman_stories\"].delete_where()\n",
    "db[\"ashliman_stories\"].insert_all(example_records)"
   ]
  },
  {
   "cell_type": "code",
   "execution_count": 27,
   "id": "1788be56",
   "metadata": {},
   "outputs": [
    {
     "data": {
      "text/html": [
       "<div>\n",
       "<style scoped>\n",
       "    .dataframe tbody tr th:only-of-type {\n",
       "        vertical-align: middle;\n",
       "    }\n",
       "\n",
       "    .dataframe tbody tr th {\n",
       "        vertical-align: top;\n",
       "    }\n",
       "\n",
       "    .dataframe thead th {\n",
       "        text-align: right;\n",
       "    }\n",
       "</style>\n",
       "<table border=\"1\" class=\"dataframe\">\n",
       "  <thead>\n",
       "    <tr style=\"text-align: right;\">\n",
       "      <th></th>\n",
       "      <th>title</th>\n",
       "      <th>subheading</th>\n",
       "      <th>text</th>\n",
       "      <th>metadata</th>\n",
       "      <th>generic_type</th>\n",
       "      <th>generic_info</th>\n",
       "      <th>atu</th>\n",
       "      <th>url</th>\n",
       "    </tr>\n",
       "  </thead>\n",
       "  <tbody>\n",
       "    <tr>\n",
       "      <th>0</th>\n",
       "      <td>Old Folks in Aesop's Fables</td>\n",
       "      <td></td>\n",
       "      <td>- Sources:\\n\\t- Fables 1-18: *Aesop's Fables*....</td>\n",
       "      <td></td>\n",
       "      <td>Old Folks in Aesop's Fables</td>\n",
       "      <td></td>\n",
       "      <td></td>\n",
       "      <td>https://sites.pitt.edu/~dash/aesopold.html</td>\n",
       "    </tr>\n",
       "    <tr>\n",
       "      <th>1</th>\n",
       "      <td>The Mischievous Dog</td>\n",
       "      <td></td>\n",
       "      <td>The Mischievous Dog\\n-------------------\\n\\n \\...</td>\n",
       "      <td></td>\n",
       "      <td>Old Folks in Aesop's Fables</td>\n",
       "      <td></td>\n",
       "      <td></td>\n",
       "      <td>https://sites.pitt.edu/~dash/aesopold.html</td>\n",
       "    </tr>\n",
       "    <tr>\n",
       "      <th>2</th>\n",
       "      <td>The Mice in Council</td>\n",
       "      <td></td>\n",
       "      <td>The Mice in Council\\n-------------------\\n\\n \\...</td>\n",
       "      <td></td>\n",
       "      <td>Old Folks in Aesop's Fables</td>\n",
       "      <td></td>\n",
       "      <td></td>\n",
       "      <td>https://sites.pitt.edu/~dash/aesopold.html</td>\n",
       "    </tr>\n",
       "    <tr>\n",
       "      <th>3</th>\n",
       "      <td>The Old Woman and the Doctor</td>\n",
       "      <td></td>\n",
       "      <td>The Old Woman and the Doctor\\n----------------...</td>\n",
       "      <td></td>\n",
       "      <td>Old Folks in Aesop's Fables</td>\n",
       "      <td></td>\n",
       "      <td></td>\n",
       "      <td>https://sites.pitt.edu/~dash/aesopold.html</td>\n",
       "    </tr>\n",
       "    <tr>\n",
       "      <th>4</th>\n",
       "      <td>The Crab and His Mother</td>\n",
       "      <td></td>\n",
       "      <td>The Crab and His Mother\\n---------------------...</td>\n",
       "      <td></td>\n",
       "      <td>Old Folks in Aesop's Fables</td>\n",
       "      <td></td>\n",
       "      <td></td>\n",
       "      <td>https://sites.pitt.edu/~dash/aesopold.html</td>\n",
       "    </tr>\n",
       "    <tr>\n",
       "      <th>5</th>\n",
       "      <td>The Old Lion</td>\n",
       "      <td></td>\n",
       "      <td>The Old Lion\\n------------\\n\\n \\nA lion, enfee...</td>\n",
       "      <td></td>\n",
       "      <td>Old Folks in Aesop's Fables</td>\n",
       "      <td></td>\n",
       "      <td></td>\n",
       "      <td>https://sites.pitt.edu/~dash/aesopold.html</td>\n",
       "    </tr>\n",
       "    <tr>\n",
       "      <th>6</th>\n",
       "      <td>The Peasant and the Apple Tree</td>\n",
       "      <td></td>\n",
       "      <td>The Peasant and the Apple Tree\\n--------------...</td>\n",
       "      <td></td>\n",
       "      <td>Old Folks in Aesop's Fables</td>\n",
       "      <td></td>\n",
       "      <td></td>\n",
       "      <td>https://sites.pitt.edu/~dash/aesopold.html</td>\n",
       "    </tr>\n",
       "    <tr>\n",
       "      <th>7</th>\n",
       "      <td>The Mice and the Weasels</td>\n",
       "      <td></td>\n",
       "      <td>The Mice and the Weasels\\n--------------------...</td>\n",
       "      <td></td>\n",
       "      <td>Old Folks in Aesop's Fables</td>\n",
       "      <td></td>\n",
       "      <td></td>\n",
       "      <td>https://sites.pitt.edu/~dash/aesopold.html</td>\n",
       "    </tr>\n",
       "    <tr>\n",
       "      <th>8</th>\n",
       "      <td>The Ass and the Old Peasant</td>\n",
       "      <td></td>\n",
       "      <td>The Ass and the Old Peasant\\n-----------------...</td>\n",
       "      <td></td>\n",
       "      <td>Old Folks in Aesop's Fables</td>\n",
       "      <td></td>\n",
       "      <td></td>\n",
       "      <td>https://sites.pitt.edu/~dash/aesopold.html</td>\n",
       "    </tr>\n",
       "    <tr>\n",
       "      <th>9</th>\n",
       "      <td>The Old Woman and the Wine Jar</td>\n",
       "      <td></td>\n",
       "      <td>The Old Woman and the Wine Jar\\n--------------...</td>\n",
       "      <td></td>\n",
       "      <td>Old Folks in Aesop's Fables</td>\n",
       "      <td></td>\n",
       "      <td></td>\n",
       "      <td>https://sites.pitt.edu/~dash/aesopold.html</td>\n",
       "    </tr>\n",
       "    <tr>\n",
       "      <th>10</th>\n",
       "      <td>The Oxen and the Butchers</td>\n",
       "      <td></td>\n",
       "      <td>The Oxen and the Butchers\\n-------------------...</td>\n",
       "      <td></td>\n",
       "      <td>Old Folks in Aesop's Fables</td>\n",
       "      <td></td>\n",
       "      <td></td>\n",
       "      <td>https://sites.pitt.edu/~dash/aesopold.html</td>\n",
       "    </tr>\n",
       "    <tr>\n",
       "      <th>11</th>\n",
       "      <td>The Old Hound</td>\n",
       "      <td></td>\n",
       "      <td>The Old Hound\\n-------------\\n\\n \\nA hound who...</td>\n",
       "      <td></td>\n",
       "      <td>Old Folks in Aesop's Fables</td>\n",
       "      <td></td>\n",
       "      <td></td>\n",
       "      <td>https://sites.pitt.edu/~dash/aesopold.html</td>\n",
       "    </tr>\n",
       "  </tbody>\n",
       "</table>\n",
       "</div>"
      ],
      "text/plain": [
       "                             title subheading  \\\n",
       "0      Old Folks in Aesop's Fables              \n",
       "1              The Mischievous Dog              \n",
       "2              The Mice in Council              \n",
       "3     The Old Woman and the Doctor              \n",
       "4          The Crab and His Mother              \n",
       "5                     The Old Lion              \n",
       "6   The Peasant and the Apple Tree              \n",
       "7         The Mice and the Weasels              \n",
       "8      The Ass and the Old Peasant              \n",
       "9   The Old Woman and the Wine Jar              \n",
       "10       The Oxen and the Butchers              \n",
       "11                   The Old Hound              \n",
       "\n",
       "                                                 text metadata  \\\n",
       "0   - Sources:\\n\\t- Fables 1-18: *Aesop's Fables*....            \n",
       "1   The Mischievous Dog\\n-------------------\\n\\n \\...            \n",
       "2   The Mice in Council\\n-------------------\\n\\n \\...            \n",
       "3   The Old Woman and the Doctor\\n----------------...            \n",
       "4   The Crab and His Mother\\n---------------------...            \n",
       "5   The Old Lion\\n------------\\n\\n \\nA lion, enfee...            \n",
       "6   The Peasant and the Apple Tree\\n--------------...            \n",
       "7   The Mice and the Weasels\\n--------------------...            \n",
       "8   The Ass and the Old Peasant\\n-----------------...            \n",
       "9   The Old Woman and the Wine Jar\\n--------------...            \n",
       "10  The Oxen and the Butchers\\n-------------------...            \n",
       "11  The Old Hound\\n-------------\\n\\n \\nA hound who...            \n",
       "\n",
       "                   generic_type generic_info atu  \\\n",
       "0   Old Folks in Aesop's Fables                    \n",
       "1   Old Folks in Aesop's Fables                    \n",
       "2   Old Folks in Aesop's Fables                    \n",
       "3   Old Folks in Aesop's Fables                    \n",
       "4   Old Folks in Aesop's Fables                    \n",
       "5   Old Folks in Aesop's Fables                    \n",
       "6   Old Folks in Aesop's Fables                    \n",
       "7   Old Folks in Aesop's Fables                    \n",
       "8   Old Folks in Aesop's Fables                    \n",
       "9   Old Folks in Aesop's Fables                    \n",
       "10  Old Folks in Aesop's Fables                    \n",
       "11  Old Folks in Aesop's Fables                    \n",
       "\n",
       "                                           url  \n",
       "0   https://sites.pitt.edu/~dash/aesopold.html  \n",
       "1   https://sites.pitt.edu/~dash/aesopold.html  \n",
       "2   https://sites.pitt.edu/~dash/aesopold.html  \n",
       "3   https://sites.pitt.edu/~dash/aesopold.html  \n",
       "4   https://sites.pitt.edu/~dash/aesopold.html  \n",
       "5   https://sites.pitt.edu/~dash/aesopold.html  \n",
       "6   https://sites.pitt.edu/~dash/aesopold.html  \n",
       "7   https://sites.pitt.edu/~dash/aesopold.html  \n",
       "8   https://sites.pitt.edu/~dash/aesopold.html  \n",
       "9   https://sites.pitt.edu/~dash/aesopold.html  \n",
       "10  https://sites.pitt.edu/~dash/aesopold.html  \n",
       "11  https://sites.pitt.edu/~dash/aesopold.html  "
      ]
     },
     "execution_count": 27,
     "metadata": {},
     "output_type": "execute_result"
    }
   ],
   "source": [
    "from pandas import read_sql\n",
    "\n",
    "q = \"SELECT * FROM ashliman_stories LIMIT 12\"\n",
    "\n",
    "read_sql(q, db.conn)"
   ]
  },
  {
   "cell_type": "markdown",
   "id": "8769e9f0",
   "metadata": {},
   "source": [
    "Let's now try to populate the whole database:"
   ]
  },
  {
   "cell_type": "code",
   "execution_count": 28,
   "id": "4026455d",
   "metadata": {},
   "outputs": [
    {
     "data": {
      "application/vnd.jupyter.widget-view+json": {
       "model_id": "d33ff2b0f1f14bda9a77814ae5aeb149",
       "version_major": 2,
       "version_minor": 0
      },
      "text/plain": [
       "  0%|          | 0/212 [00:00<?, ?it/s]"
      ]
     },
     "metadata": {},
     "output_type": "display_data"
    }
   ],
   "source": [
    "# tqdm gives us a progress bar\n",
    "from tqdm.notebook import tqdm\n",
    "\n",
    "# Empty the database\n",
    "db[\"ashliman_stories\"].delete_where()\n",
    "\n",
    "# Iterate through all the pages, adding the stories to the db as we do so\n",
    "broken_parser_pages = []\n",
    "\n",
    "# Also recall that requests-cache should be cacheing pages\n",
    "# so we should only hit the original site once per page\n",
    "# no matter how many times we run this in testing and development\n",
    "for link in tqdm(links):\n",
    "    try:\n",
    "        records = fetch_and_parse_page(link)\n",
    "        db[\"ashliman_stories\"].insert_all(records)\n",
    "    except:\n",
    "        broken_parser_pages.append(link)"
   ]
  },
  {
   "cell_type": "markdown",
   "id": "d6dbada2",
   "metadata": {},
   "source": [
    "Are there any pages that didn't get parsed?"
   ]
  },
  {
   "cell_type": "code",
   "execution_count": 29,
   "id": "27bda818",
   "metadata": {},
   "outputs": [
    {
     "data": {
      "text/plain": [
       "[]"
      ]
     },
     "execution_count": 29,
     "metadata": {},
     "output_type": "execute_result"
    }
   ],
   "source": [
    "broken_parser_pages"
   ]
  },
  {
   "cell_type": "markdown",
   "id": "5fe765ac",
   "metadata": {},
   "source": [
    "How many stories are there?"
   ]
  },
  {
   "cell_type": "code",
   "execution_count": 30,
   "id": "9c6f459b",
   "metadata": {},
   "outputs": [
    {
     "data": {
      "text/html": [
       "<div>\n",
       "<style scoped>\n",
       "    .dataframe tbody tr th:only-of-type {\n",
       "        vertical-align: middle;\n",
       "    }\n",
       "\n",
       "    .dataframe tbody tr th {\n",
       "        vertical-align: top;\n",
       "    }\n",
       "\n",
       "    .dataframe thead th {\n",
       "        text-align: right;\n",
       "    }\n",
       "</style>\n",
       "<table border=\"1\" class=\"dataframe\">\n",
       "  <thead>\n",
       "    <tr style=\"text-align: right;\">\n",
       "      <th></th>\n",
       "      <th>num_stories</th>\n",
       "    </tr>\n",
       "  </thead>\n",
       "  <tbody>\n",
       "    <tr>\n",
       "      <th>0</th>\n",
       "      <td>1122</td>\n",
       "    </tr>\n",
       "  </tbody>\n",
       "</table>\n",
       "</div>"
      ],
      "text/plain": [
       "   num_stories\n",
       "0         1122"
      ]
     },
     "execution_count": 30,
     "metadata": {},
     "output_type": "execute_result"
    }
   ],
   "source": [
    "q = \"SELECT COUNT(*) AS num_stories FROM ashliman_stories\"\n",
    "\n",
    "read_sql(q, db.conn)"
   ]
  },
  {
   "cell_type": "code",
   "execution_count": 31,
   "id": "a7999edc",
   "metadata": {},
   "outputs": [
    {
     "data": {
      "text/html": [
       "<div>\n",
       "<style scoped>\n",
       "    .dataframe tbody tr th:only-of-type {\n",
       "        vertical-align: middle;\n",
       "    }\n",
       "\n",
       "    .dataframe tbody tr th {\n",
       "        vertical-align: top;\n",
       "    }\n",
       "\n",
       "    .dataframe thead th {\n",
       "        text-align: right;\n",
       "    }\n",
       "</style>\n",
       "<table border=\"1\" class=\"dataframe\">\n",
       "  <thead>\n",
       "    <tr style=\"text-align: right;\">\n",
       "      <th></th>\n",
       "      <th>title</th>\n",
       "      <th>subheading</th>\n",
       "      <th>text</th>\n",
       "      <th>metadata</th>\n",
       "      <th>generic_type</th>\n",
       "      <th>generic_info</th>\n",
       "      <th>atu</th>\n",
       "      <th>url</th>\n",
       "    </tr>\n",
       "  </thead>\n",
       "  <tbody>\n",
       "    <tr>\n",
       "      <th>0</th>\n",
       "      <td>Taken by the Good People</td>\n",
       "      <td>Ireland</td>\n",
       "      <td>Taken by the Good People\\n--------------------...</td>\n",
       "      <td>- Source (Internet Archive): \"Folk-Tales from ...</td>\n",
       "      <td>Abducted by Aliens</td>\n",
       "      <td></td>\n",
       "      <td></td>\n",
       "      <td>https://sites.pitt.edu/~dash/abduct.html</td>\n",
       "    </tr>\n",
       "    <tr>\n",
       "      <th>1</th>\n",
       "      <td>Twenty Years with the Good People</td>\n",
       "      <td>Ireland</td>\n",
       "      <td>Twenty Years with the Good People\\n-----------...</td>\n",
       "      <td>- Source: \"Folk-Tales from County Limerick col...</td>\n",
       "      <td>Abducted by Aliens</td>\n",
       "      <td></td>\n",
       "      <td></td>\n",
       "      <td>https://sites.pitt.edu/~dash/abduct.html</td>\n",
       "    </tr>\n",
       "    <tr>\n",
       "      <th>2</th>\n",
       "      <td>Jamie Freel and the Young Lady: A Donegal Tale</td>\n",
       "      <td>Ireland</td>\n",
       "      <td>Jamie Freel and the Young Lady: A Donegal Tale...</td>\n",
       "      <td>- Source (books.google.com): William Butler Ye...</td>\n",
       "      <td>Abducted by Aliens</td>\n",
       "      <td></td>\n",
       "      <td></td>\n",
       "      <td>https://sites.pitt.edu/~dash/abduct.html</td>\n",
       "    </tr>\n",
       "    <tr>\n",
       "      <th>3</th>\n",
       "      <td>Kidnappers</td>\n",
       "      <td>Ireland</td>\n",
       "      <td>Kidnappers\\n----------\\n\\n\\n### Ireland\\n\\n\\nA...</td>\n",
       "      <td>- Source (books.google.com): William Butler Ye...</td>\n",
       "      <td>Abducted by Aliens</td>\n",
       "      <td></td>\n",
       "      <td></td>\n",
       "      <td>https://sites.pitt.edu/~dash/abduct.html</td>\n",
       "    </tr>\n",
       "    <tr>\n",
       "      <th>4</th>\n",
       "      <td>Ethna the Bride</td>\n",
       "      <td>Ireland</td>\n",
       "      <td>Ethna the Bride\\n---------------\\n\\n\\n### Irel...</td>\n",
       "      <td>- Source (books.google.com): Lady [Jane France...</td>\n",
       "      <td>Abducted by Aliens</td>\n",
       "      <td></td>\n",
       "      <td></td>\n",
       "      <td>https://sites.pitt.edu/~dash/abduct.html</td>\n",
       "    </tr>\n",
       "    <tr>\n",
       "      <th>5</th>\n",
       "      <td>Ned the Jockey</td>\n",
       "      <td>Wales</td>\n",
       "      <td>Ned the Jockey\\n--------------\\n\\n\\n### Wales\\...</td>\n",
       "      <td>- Source (books.google.com): Edward Hamer, \"Pa...</td>\n",
       "      <td>Abducted by Aliens</td>\n",
       "      <td></td>\n",
       "      <td></td>\n",
       "      <td>https://sites.pitt.edu/~dash/abduct.html</td>\n",
       "    </tr>\n",
       "    <tr>\n",
       "      <th>6</th>\n",
       "      <td>The Old Man and the Fairies</td>\n",
       "      <td>Wales</td>\n",
       "      <td>The Old Man and the Fairies\\n-----------------...</td>\n",
       "      <td>- Source (books.google.com): P. H. Emerson, *[...</td>\n",
       "      <td>Abducted by Aliens</td>\n",
       "      <td></td>\n",
       "      <td></td>\n",
       "      <td>https://sites.pitt.edu/~dash/abduct.html</td>\n",
       "    </tr>\n",
       "    <tr>\n",
       "      <th>7</th>\n",
       "      <td>A Visit to Fairyland</td>\n",
       "      <td>Wales</td>\n",
       "      <td>A Visit to Fairyland\\n--------------------\\n\\n...</td>\n",
       "      <td>- Source (books.google.com): D. E. Jenkins, *[...</td>\n",
       "      <td>Abducted by Aliens</td>\n",
       "      <td></td>\n",
       "      <td></td>\n",
       "      <td>https://sites.pitt.edu/~dash/abduct.html</td>\n",
       "    </tr>\n",
       "    <tr>\n",
       "      <th>8</th>\n",
       "      <td>Four Years in Faery</td>\n",
       "      <td>Isle of Man</td>\n",
       "      <td>Four Years in Faery\\n-------------------\\n\\n\\n...</td>\n",
       "      <td>- Source (books.google.com): John Rhys, *[Celt...</td>\n",
       "      <td>Abducted by Aliens</td>\n",
       "      <td></td>\n",
       "      <td></td>\n",
       "      <td>https://sites.pitt.edu/~dash/abduct.html</td>\n",
       "    </tr>\n",
       "    <tr>\n",
       "      <th>9</th>\n",
       "      <td>The Lost Wife of Ballaleece</td>\n",
       "      <td>Isle of Man</td>\n",
       "      <td>The Lost Wife of Ballaleece\\n-----------------...</td>\n",
       "      <td>- Source (Internet Archive): Sophia Morrison, ...</td>\n",
       "      <td>Abducted by Aliens</td>\n",
       "      <td></td>\n",
       "      <td></td>\n",
       "      <td>https://sites.pitt.edu/~dash/abduct.html</td>\n",
       "    </tr>\n",
       "  </tbody>\n",
       "</table>\n",
       "</div>"
      ],
      "text/plain": [
       "                                            title   subheading  \\\n",
       "0                        Taken by the Good People      Ireland   \n",
       "1               Twenty Years with the Good People      Ireland   \n",
       "2  Jamie Freel and the Young Lady: A Donegal Tale      Ireland   \n",
       "3                                      Kidnappers      Ireland   \n",
       "4                                 Ethna the Bride      Ireland   \n",
       "5                                  Ned the Jockey        Wales   \n",
       "6                     The Old Man and the Fairies        Wales   \n",
       "7                            A Visit to Fairyland        Wales   \n",
       "8                             Four Years in Faery  Isle of Man   \n",
       "9                     The Lost Wife of Ballaleece  Isle of Man   \n",
       "\n",
       "                                                text  \\\n",
       "0  Taken by the Good People\\n--------------------...   \n",
       "1  Twenty Years with the Good People\\n-----------...   \n",
       "2  Jamie Freel and the Young Lady: A Donegal Tale...   \n",
       "3  Kidnappers\\n----------\\n\\n\\n### Ireland\\n\\n\\nA...   \n",
       "4  Ethna the Bride\\n---------------\\n\\n\\n### Irel...   \n",
       "5  Ned the Jockey\\n--------------\\n\\n\\n### Wales\\...   \n",
       "6  The Old Man and the Fairies\\n-----------------...   \n",
       "7  A Visit to Fairyland\\n--------------------\\n\\n...   \n",
       "8  Four Years in Faery\\n-------------------\\n\\n\\n...   \n",
       "9  The Lost Wife of Ballaleece\\n-----------------...   \n",
       "\n",
       "                                            metadata        generic_type  \\\n",
       "0  - Source (Internet Archive): \"Folk-Tales from ...  Abducted by Aliens   \n",
       "1  - Source: \"Folk-Tales from County Limerick col...  Abducted by Aliens   \n",
       "2  - Source (books.google.com): William Butler Ye...  Abducted by Aliens   \n",
       "3  - Source (books.google.com): William Butler Ye...  Abducted by Aliens   \n",
       "4  - Source (books.google.com): Lady [Jane France...  Abducted by Aliens   \n",
       "5  - Source (books.google.com): Edward Hamer, \"Pa...  Abducted by Aliens   \n",
       "6  - Source (books.google.com): P. H. Emerson, *[...  Abducted by Aliens   \n",
       "7  - Source (books.google.com): D. E. Jenkins, *[...  Abducted by Aliens   \n",
       "8  - Source (books.google.com): John Rhys, *[Celt...  Abducted by Aliens   \n",
       "9  - Source (Internet Archive): Sophia Morrison, ...  Abducted by Aliens   \n",
       "\n",
       "  generic_info atu                                       url  \n",
       "0                   https://sites.pitt.edu/~dash/abduct.html  \n",
       "1                   https://sites.pitt.edu/~dash/abduct.html  \n",
       "2                   https://sites.pitt.edu/~dash/abduct.html  \n",
       "3                   https://sites.pitt.edu/~dash/abduct.html  \n",
       "4                   https://sites.pitt.edu/~dash/abduct.html  \n",
       "5                   https://sites.pitt.edu/~dash/abduct.html  \n",
       "6                   https://sites.pitt.edu/~dash/abduct.html  \n",
       "7                   https://sites.pitt.edu/~dash/abduct.html  \n",
       "8                   https://sites.pitt.edu/~dash/abduct.html  \n",
       "9                   https://sites.pitt.edu/~dash/abduct.html  "
      ]
     },
     "execution_count": 31,
     "metadata": {},
     "output_type": "execute_result"
    }
   ],
   "source": [
    "q = \"SELECT * FROM ashliman_stories LIMIT 10\"\n",
    "\n",
    "read_sql(q, db.conn)"
   ]
  }
 ],
 "metadata": {
  "kernelspec": {
   "display_name": "Python 3",
   "language": "python",
   "name": "python3"
  },
  "language_info": {
   "codemirror_mode": {
    "name": "ipython",
    "version": 3
   },
   "file_extension": ".py",
   "mimetype": "text/x-python",
   "name": "python",
   "nbconvert_exporter": "python",
   "pygments_lexer": "ipython3",
   "version": "3.9.8"
  }
 },
 "nbformat": 4,
 "nbformat_minor": 5
}
