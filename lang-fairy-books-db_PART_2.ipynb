{
 "cells": [
  {
   "cell_type": "markdown",
   "id": "6eda04a9",
   "metadata": {},
   "source": [
    "## Finding Book Index-Like Things In Lang's Fairy Stories...\n",
    "\n",
    "One of the problems associated with *search* as a form of discovery is knowing what to search for. If you have a traditional print book, it contains various navigational clues that let you quickly get a sense of what the book contains, and in what order.\n",
    "\n",
    "A look at the table of contents gives you great big signposts in the form of chapter headings, and the distance from one signpost to the net is given not in leagues or miles, but pages.\n",
    "\n",
    "At the back of the book, the index provides a jewellery box of trinkets, each with its own story, or stories, to tell, at a signposted location inside the book. Skimming the index gives you a summary of the key players and key topics contained inside the book: the indexer is truly of the cunning kind. A large index entry suggests the important role the perosn, or place, or topic so indexed, plays within the book.\n",
    "\n",
    "So for our fairy tales, if we aren't sure *what* to search for in order to discover, can we create an index like thing that will tell us what the key nouns are – the names, places and events – and perhaps other key references, such as to large sums of money mentioned somewhere within the tales?\n",
    "\n",
    "As well as the precious objects worthy of mention, there are other things we can tease out of the text that might make it easier to search for what we want. For example, if we want to find a story that explicitly mentions a large financial reward, it might be useful if we could search for tales mentioning at least 500 gold pieces (or equivalent). But how could we possibly do that, you might ask...\n",
    "\n",
    "In *technicalese*, by extracting entities we can search around, that's how... And I don't necessarily mean \"entities\" of the supernatural kind, the bogles and boggarts and other things that come out at night that we might generically class as _\"ghouls\"_.\n",
    "\n",
    "So what sorts of *entity* might we be able to find in the stories...?!"
   ]
  },
  {
   "cell_type": "markdown",
   "id": "b2847c47",
   "metadata": {},
   "source": [
    "## Connecting to the Database\n",
    "\n",
    "Let's start by connecting to the database of Lang's fairy stories that we created earlier, as well as loading in some magic that let's us talk to it:"
   ]
  },
  {
   "cell_type": "code",
   "execution_count": 1,
   "id": "e1f683cd",
   "metadata": {},
   "outputs": [],
   "source": [
    "from sqlite_utils import Database\n",
    "\n",
    "db_name = \"lang_fairy_tale.db\"\n",
    "db = Database(db_name)\n",
    "\n",
    "# Load in the sql magic\n",
    "%load_ext sql\n",
    "%sql sqlite:///$db_name"
   ]
  },
  {
   "cell_type": "markdown",
   "id": "d9d6ce0b",
   "metadata": {},
   "source": [
    "We can test it works with a simple query:"
   ]
  },
  {
   "cell_type": "code",
   "execution_count": 7,
   "id": "fb813350",
   "metadata": {},
   "outputs": [
    {
     "name": "stdout",
     "output_type": "stream",
     "text": [
      " * sqlite:///lang_fairy_tale.db\n",
      "Done.\n"
     ]
    },
    {
     "data": {
      "text/html": [
       "<table>\n",
       "    <tr>\n",
       "        <th>title</th>\n",
       "    </tr>\n",
       "    <tr>\n",
       "        <td>A Voyage To Lilliput</td>\n",
       "    </tr>\n",
       "    <tr>\n",
       "        <td>Aladdin And The Wonderful Lamp</td>\n",
       "    </tr>\n",
       "    <tr>\n",
       "        <td>Beauty And The Beast</td>\n",
       "    </tr>\n",
       "</table>"
      ],
      "text/plain": [
       "[('A Voyage To Lilliput',),\n",
       " ('Aladdin And The Wonderful Lamp',),\n",
       " ('Beauty And The Beast',)]"
      ]
     },
     "execution_count": 7,
     "metadata": {},
     "output_type": "execute_result"
    }
   ],
   "source": [
    "%%sql\n",
    "SELECT title FROM books LIMIT 3;"
   ]
  },
  {
   "cell_type": "markdown",
   "id": "d6f4245d",
   "metadata": {},
   "source": [
    "## Detecting Entities the `spacy` Way\n",
    "\n",
    "To try to identify \"things\" in the stories, we can invoke the powers of the great God `spacy`, which walks amongst us in the guise of a natural language processing toolkit:"
   ]
  },
  {
   "cell_type": "code",
   "execution_count": 17,
   "id": "32231076",
   "metadata": {},
   "outputs": [],
   "source": [
    "#%pip install --upgrade spacy\n",
    "# Get the spell book from a library shelf\n",
    "import spacy\n",
    "\n",
    "# And summon some magic from it\n",
    "nlp = spacy.load(\"en_core_web_sm\")"
   ]
  },
  {
   "cell_type": "markdown",
   "id": "ab0aa1a3",
   "metadata": {},
   "source": [
    "We also need some text to work with, so load in a dataframe from the database containing our book records:"
   ]
  },
  {
   "cell_type": "code",
   "execution_count": 14,
   "id": "0370b9b5",
   "metadata": {},
   "outputs": [
    {
     "name": "stdout",
     "output_type": "stream",
     "text": [
      " * sqlite:///lang_fairy_tale.db\n",
      "Done.\n"
     ]
    },
    {
     "data": {
      "text/html": [
       "<div>\n",
       "<style scoped>\n",
       "    .dataframe tbody tr th:only-of-type {\n",
       "        vertical-align: middle;\n",
       "    }\n",
       "\n",
       "    .dataframe tbody tr th {\n",
       "        vertical-align: top;\n",
       "    }\n",
       "\n",
       "    .dataframe thead th {\n",
       "        text-align: right;\n",
       "    }\n",
       "</style>\n",
       "<table border=\"1\" class=\"dataframe\">\n",
       "  <thead>\n",
       "    <tr style=\"text-align: right;\">\n",
       "      <th></th>\n",
       "      <th>book</th>\n",
       "      <th>title</th>\n",
       "      <th>text</th>\n",
       "      <th>last_para</th>\n",
       "      <th>first_line</th>\n",
       "      <th>provenance</th>\n",
       "      <th>chapter_order</th>\n",
       "    </tr>\n",
       "  </thead>\n",
       "  <tbody>\n",
       "    <tr>\n",
       "      <th>0</th>\n",
       "      <td>The Blue Fairy Book</td>\n",
       "      <td>The Bronze Ring</td>\n",
       "      <td>Once upon a time in a certain country there li...</td>\n",
       "      <td>[1] Traditions Populaires de l'Asie Mineure. C...</td>\n",
       "      <td>Once upon a time in a certain country there li...</td>\n",
       "      <td>Traditions Populaires de l'Asie Mineure. Carno...</td>\n",
       "      <td>0</td>\n",
       "    </tr>\n",
       "    <tr>\n",
       "      <th>1</th>\n",
       "      <td>The Blue Fairy Book</td>\n",
       "      <td>Prince Hyacinth And The Dear Little Princess</td>\n",
       "      <td>Once upon a time there lived a king who was de...</td>\n",
       "      <td>[1] Le Prince Desir et la Princesse Mignonne. ...</td>\n",
       "      <td>Once upon a time there lived a king who was de...</td>\n",
       "      <td>Le Prince Desir et la Princesse Mignonne. Par ...</td>\n",
       "      <td>1</td>\n",
       "    </tr>\n",
       "    <tr>\n",
       "      <th>2</th>\n",
       "      <td>The Blue Fairy Book</td>\n",
       "      <td>East Of The Sun And West Of The Moon</td>\n",
       "      <td>Once upon a time there was a poor husbandman w...</td>\n",
       "      <td>[1] Asbjornsen and Moe.</td>\n",
       "      <td>Once upon a time there was a poor husbandman w...</td>\n",
       "      <td>Asbjornsen and Moe.</td>\n",
       "      <td>2</td>\n",
       "    </tr>\n",
       "    <tr>\n",
       "      <th>3</th>\n",
       "      <td>The Blue Fairy Book</td>\n",
       "      <td>The Yellow Dwarf</td>\n",
       "      <td>Once upon a time there lived a queen who had b...</td>\n",
       "      <td>[1] Madame d'Aulnoy.</td>\n",
       "      <td>Once upon a time there lived a queen who had b...</td>\n",
       "      <td>Madame d'Aulnoy.</td>\n",
       "      <td>3</td>\n",
       "    </tr>\n",
       "    <tr>\n",
       "      <th>4</th>\n",
       "      <td>The Blue Fairy Book</td>\n",
       "      <td>Little Red Riding Hood</td>\n",
       "      <td>Once upon a time there lived in a certain vill...</td>\n",
       "      <td>And, saying these words, this wicked wolf fell...</td>\n",
       "      <td>Once upon a time there lived in a certain vill...</td>\n",
       "      <td></td>\n",
       "      <td>4</td>\n",
       "    </tr>\n",
       "  </tbody>\n",
       "</table>\n",
       "</div>"
      ],
      "text/plain": [
       "                  book                                         title  \\\n",
       "0  The Blue Fairy Book                               The Bronze Ring   \n",
       "1  The Blue Fairy Book  Prince Hyacinth And The Dear Little Princess   \n",
       "2  The Blue Fairy Book          East Of The Sun And West Of The Moon   \n",
       "3  The Blue Fairy Book                              The Yellow Dwarf   \n",
       "4  The Blue Fairy Book                        Little Red Riding Hood   \n",
       "\n",
       "                                                text  \\\n",
       "0  Once upon a time in a certain country there li...   \n",
       "1  Once upon a time there lived a king who was de...   \n",
       "2  Once upon a time there was a poor husbandman w...   \n",
       "3  Once upon a time there lived a queen who had b...   \n",
       "4  Once upon a time there lived in a certain vill...   \n",
       "\n",
       "                                           last_para  \\\n",
       "0  [1] Traditions Populaires de l'Asie Mineure. C...   \n",
       "1  [1] Le Prince Desir et la Princesse Mignonne. ...   \n",
       "2                            [1] Asbjornsen and Moe.   \n",
       "3                               [1] Madame d'Aulnoy.   \n",
       "4  And, saying these words, this wicked wolf fell...   \n",
       "\n",
       "                                          first_line  \\\n",
       "0  Once upon a time in a certain country there li...   \n",
       "1  Once upon a time there lived a king who was de...   \n",
       "2  Once upon a time there was a poor husbandman w...   \n",
       "3  Once upon a time there lived a queen who had b...   \n",
       "4  Once upon a time there lived in a certain vill...   \n",
       "\n",
       "                                          provenance  chapter_order  \n",
       "0  Traditions Populaires de l'Asie Mineure. Carno...              0  \n",
       "1  Le Prince Desir et la Princesse Mignonne. Par ...              1  \n",
       "2                                Asbjornsen and Moe.              2  \n",
       "3                                   Madame d'Aulnoy.              3  \n",
       "4                                                                 4  "
      ]
     },
     "execution_count": 14,
     "metadata": {},
     "output_type": "execute_result"
    }
   ],
   "source": [
    "response = %sql SELECT * FROM books;\n",
    "\n",
    "df = response.DataFrame()\n",
    "df.head()"
   ]
  },
  {
   "cell_type": "markdown",
   "id": "8b6a2223",
   "metadata": {},
   "source": [
    "Now let's have a go at extracting some entities (this may take some time!).\n",
    "\n",
    "```{note}\n",
    "The invocation is a little cryptic, but what it boils down to is that we define a `get_entities` invocation that uses an entity divining `nlp` spell from the `spacy` spell book, and then we use some *pandas* magic to call a genie with that spell on the book `text` from every row in the dataframe.\n",
    "```"
   ]
  },
  {
   "cell_type": "code",
   "execution_count": 18,
   "id": "ba7388d4",
   "metadata": {},
   "outputs": [
    {
     "data": {
      "text/html": [
       "<div>\n",
       "<style scoped>\n",
       "    .dataframe tbody tr th:only-of-type {\n",
       "        vertical-align: middle;\n",
       "    }\n",
       "\n",
       "    .dataframe tbody tr th {\n",
       "        vertical-align: top;\n",
       "    }\n",
       "\n",
       "    .dataframe thead th {\n",
       "        text-align: right;\n",
       "    }\n",
       "</style>\n",
       "<table border=\"1\" class=\"dataframe\">\n",
       "  <thead>\n",
       "    <tr style=\"text-align: right;\">\n",
       "      <th></th>\n",
       "      <th>book</th>\n",
       "      <th>title</th>\n",
       "      <th>text</th>\n",
       "      <th>last_para</th>\n",
       "      <th>first_line</th>\n",
       "      <th>provenance</th>\n",
       "      <th>chapter_order</th>\n",
       "      <th>entities</th>\n",
       "    </tr>\n",
       "  </thead>\n",
       "  <tbody>\n",
       "    <tr>\n",
       "      <th>0</th>\n",
       "      <td>The Blue Fairy Book</td>\n",
       "      <td>The Bronze Ring</td>\n",
       "      <td>Once upon a time in a certain country there li...</td>\n",
       "      <td>[1] Traditions Populaires de l'Asie Mineure. C...</td>\n",
       "      <td>Once upon a time in a certain country there li...</td>\n",
       "      <td>Traditions Populaires de l'Asie Mineure. Carno...</td>\n",
       "      <td>0</td>\n",
       "      <td>{DATE :: mid-day, CARDINAL :: three, GPE :: Ma...</td>\n",
       "    </tr>\n",
       "    <tr>\n",
       "      <th>1</th>\n",
       "      <td>The Blue Fairy Book</td>\n",
       "      <td>Prince Hyacinth And The Dear Little Princess</td>\n",
       "      <td>Once upon a time there lived a king who was de...</td>\n",
       "      <td>[1] Le Prince Desir et la Princesse Mignonne. ...</td>\n",
       "      <td>Once upon a time there lived a king who was de...</td>\n",
       "      <td>Le Prince Desir et la Princesse Mignonne. Par ...</td>\n",
       "      <td>1</td>\n",
       "      <td>{NORP :: Greek, NORP :: Roman, LAW :: the Dear...</td>\n",
       "    </tr>\n",
       "    <tr>\n",
       "      <th>2</th>\n",
       "      <td>The Blue Fairy Book</td>\n",
       "      <td>East Of The Sun And West Of The Moon</td>\n",
       "      <td>Once upon a time there was a poor husbandman w...</td>\n",
       "      <td>[1] Asbjornsen and Moe.</td>\n",
       "      <td>Once upon a time there was a poor husbandman w...</td>\n",
       "      <td>Asbjornsen and Moe.</td>\n",
       "      <td>2</td>\n",
       "      <td>{FAC :: the White Bear, DATE :: day, DATE :: a...</td>\n",
       "    </tr>\n",
       "    <tr>\n",
       "      <th>3</th>\n",
       "      <td>The Blue Fairy Book</td>\n",
       "      <td>The Yellow Dwarf</td>\n",
       "      <td>Once upon a time there lived a queen who had b...</td>\n",
       "      <td>[1] Madame d'Aulnoy.</td>\n",
       "      <td>Once upon a time there lived a queen who had b...</td>\n",
       "      <td>Madame d'Aulnoy.</td>\n",
       "      <td>3</td>\n",
       "      <td>{CARDINAL :: seven, CARDINAL :: six, CARDINAL ...</td>\n",
       "    </tr>\n",
       "    <tr>\n",
       "      <th>4</th>\n",
       "      <td>The Blue Fairy Book</td>\n",
       "      <td>Little Red Riding Hood</td>\n",
       "      <td>Once upon a time there lived in a certain vill...</td>\n",
       "      <td>And, saying these words, this wicked wolf fell...</td>\n",
       "      <td>Once upon a time there lived in a certain vill...</td>\n",
       "      <td></td>\n",
       "      <td>4</td>\n",
       "      <td>{ORG :: Grandmamma, PERSON :: Gaffer Wolf, PER...</td>\n",
       "    </tr>\n",
       "    <tr>\n",
       "      <th>5</th>\n",
       "      <td>The Blue Fairy Book</td>\n",
       "      <td>The Sleeping Beauty In The Wood</td>\n",
       "      <td>There were formerly a king and a queen, who we...</td>\n",
       "      <td>No one dared to tell him, when the Ogress, all...</td>\n",
       "      <td>There were formerly a king and a queen, who we...</td>\n",
       "      <td></td>\n",
       "      <td>5</td>\n",
       "      <td>{CARDINAL :: seven, CARDINAL :: three, WORK_OF...</td>\n",
       "    </tr>\n",
       "    <tr>\n",
       "      <th>6</th>\n",
       "      <td>The Blue Fairy Book</td>\n",
       "      <td>Cinderella, Or The Little Glass Slipper</td>\n",
       "      <td>Once there was a gentleman who married, for hi...</td>\n",
       "      <td>[1] Charles Perrault.</td>\n",
       "      <td>Once there was a gentleman who married, for hi...</td>\n",
       "      <td>Charles Perrault.</td>\n",
       "      <td>6</td>\n",
       "      <td>{CARDINAL :: six, CARDINAL :: three, CARDINAL ...</td>\n",
       "    </tr>\n",
       "    <tr>\n",
       "      <th>7</th>\n",
       "      <td>The Blue Fairy Book</td>\n",
       "      <td>Aladdin And The Wonderful Lamp</td>\n",
       "      <td>There once lived a poor tailor, who had a son ...</td>\n",
       "      <td>[1] Arabian Nights.</td>\n",
       "      <td>There once lived a poor tailor, who had a son ...</td>\n",
       "      <td>Arabian Nights.</td>\n",
       "      <td>7</td>\n",
       "      <td>{CARDINAL :: forty, CARDINAL :: six, PERSON ::...</td>\n",
       "    </tr>\n",
       "    <tr>\n",
       "      <th>8</th>\n",
       "      <td>The Blue Fairy Book</td>\n",
       "      <td>The Tale Of A Youth Who Set Out To Learn What ...</td>\n",
       "      <td>A father had two sons, of whom the eldest was ...</td>\n",
       "      <td>[1] Grimm.</td>\n",
       "      <td>A father had two sons, of whom the eldest was ...</td>\n",
       "      <td>Grimm.</td>\n",
       "      <td>8</td>\n",
       "      <td>{CARDINAL :: seven, CARDINAL :: six, CARDINAL ...</td>\n",
       "    </tr>\n",
       "    <tr>\n",
       "      <th>9</th>\n",
       "      <td>The Blue Fairy Book</td>\n",
       "      <td>Rumpelstiltzkin</td>\n",
       "      <td>There was once upon a time a poor miller who h...</td>\n",
       "      <td>[1] Grimm.</td>\n",
       "      <td>There was once upon a time a poor miller who h...</td>\n",
       "      <td>Grimm.</td>\n",
       "      <td>9</td>\n",
       "      <td>{TIME :: early dawn, PERSON :: Rumpelstiltzkin...</td>\n",
       "    </tr>\n",
       "  </tbody>\n",
       "</table>\n",
       "</div>"
      ],
      "text/plain": [
       "                  book                                              title  \\\n",
       "0  The Blue Fairy Book                                    The Bronze Ring   \n",
       "1  The Blue Fairy Book       Prince Hyacinth And The Dear Little Princess   \n",
       "2  The Blue Fairy Book               East Of The Sun And West Of The Moon   \n",
       "3  The Blue Fairy Book                                   The Yellow Dwarf   \n",
       "4  The Blue Fairy Book                             Little Red Riding Hood   \n",
       "5  The Blue Fairy Book                    The Sleeping Beauty In The Wood   \n",
       "6  The Blue Fairy Book            Cinderella, Or The Little Glass Slipper   \n",
       "7  The Blue Fairy Book                     Aladdin And The Wonderful Lamp   \n",
       "8  The Blue Fairy Book  The Tale Of A Youth Who Set Out To Learn What ...   \n",
       "9  The Blue Fairy Book                                    Rumpelstiltzkin   \n",
       "\n",
       "                                                text  \\\n",
       "0  Once upon a time in a certain country there li...   \n",
       "1  Once upon a time there lived a king who was de...   \n",
       "2  Once upon a time there was a poor husbandman w...   \n",
       "3  Once upon a time there lived a queen who had b...   \n",
       "4  Once upon a time there lived in a certain vill...   \n",
       "5  There were formerly a king and a queen, who we...   \n",
       "6  Once there was a gentleman who married, for hi...   \n",
       "7  There once lived a poor tailor, who had a son ...   \n",
       "8  A father had two sons, of whom the eldest was ...   \n",
       "9  There was once upon a time a poor miller who h...   \n",
       "\n",
       "                                           last_para  \\\n",
       "0  [1] Traditions Populaires de l'Asie Mineure. C...   \n",
       "1  [1] Le Prince Desir et la Princesse Mignonne. ...   \n",
       "2                            [1] Asbjornsen and Moe.   \n",
       "3                               [1] Madame d'Aulnoy.   \n",
       "4  And, saying these words, this wicked wolf fell...   \n",
       "5  No one dared to tell him, when the Ogress, all...   \n",
       "6                              [1] Charles Perrault.   \n",
       "7                                [1] Arabian Nights.   \n",
       "8                                         [1] Grimm.   \n",
       "9                                         [1] Grimm.   \n",
       "\n",
       "                                          first_line  \\\n",
       "0  Once upon a time in a certain country there li...   \n",
       "1  Once upon a time there lived a king who was de...   \n",
       "2  Once upon a time there was a poor husbandman w...   \n",
       "3  Once upon a time there lived a queen who had b...   \n",
       "4  Once upon a time there lived in a certain vill...   \n",
       "5  There were formerly a king and a queen, who we...   \n",
       "6  Once there was a gentleman who married, for hi...   \n",
       "7  There once lived a poor tailor, who had a son ...   \n",
       "8  A father had two sons, of whom the eldest was ...   \n",
       "9  There was once upon a time a poor miller who h...   \n",
       "\n",
       "                                          provenance  chapter_order  \\\n",
       "0  Traditions Populaires de l'Asie Mineure. Carno...              0   \n",
       "1  Le Prince Desir et la Princesse Mignonne. Par ...              1   \n",
       "2                                Asbjornsen and Moe.              2   \n",
       "3                                   Madame d'Aulnoy.              3   \n",
       "4                                                                 4   \n",
       "5                                                                 5   \n",
       "6                                  Charles Perrault.              6   \n",
       "7                                    Arabian Nights.              7   \n",
       "8                                             Grimm.              8   \n",
       "9                                             Grimm.              9   \n",
       "\n",
       "                                            entities  \n",
       "0  {DATE :: mid-day, CARDINAL :: three, GPE :: Ma...  \n",
       "1  {NORP :: Greek, NORP :: Roman, LAW :: the Dear...  \n",
       "2  {FAC :: the White Bear, DATE :: day, DATE :: a...  \n",
       "3  {CARDINAL :: seven, CARDINAL :: six, CARDINAL ...  \n",
       "4  {ORG :: Grandmamma, PERSON :: Gaffer Wolf, PER...  \n",
       "5  {CARDINAL :: seven, CARDINAL :: three, WORK_OF...  \n",
       "6  {CARDINAL :: six, CARDINAL :: three, CARDINAL ...  \n",
       "7  {CARDINAL :: forty, CARDINAL :: six, PERSON ::...  \n",
       "8  {CARDINAL :: seven, CARDINAL :: six, CARDINAL ...  \n",
       "9  {TIME :: early dawn, PERSON :: Rumpelstiltzkin...  "
      ]
     },
     "execution_count": 18,
     "metadata": {},
     "output_type": "execute_result"
    }
   ],
   "source": [
    "# Extract a set of entities, rather than a list...\n",
    "get_entities = lambda desc: {f\"{entity.label_} :: {entity.text}\" for entity in nlp(desc).ents}\n",
    "\n",
    "# Apply the entity extraction routine to the text column element in each row\n",
    "# The full run takes some time....\n",
    "df['entities'] = df[\"text\"].apply(get_entities)\n",
    "\n",
    "df.head(10)"
   ]
  },
  {
   "cell_type": "markdown",
   "id": "b0f50544",
   "metadata": {},
   "source": [
    "```{danger}\n",
    "We should probably just do this once and add an appropriate table of entities to the database...\n",
    "```\n",
    "\n",
    "We can use some more *pandas* magic to explode these entity lists out into a long format dataframe:"
   ]
  },
  {
   "cell_type": "code",
   "execution_count": 23,
   "id": "3865c4d5",
   "metadata": {},
   "outputs": [
    {
     "data": {
      "text/html": [
       "<div>\n",
       "<style scoped>\n",
       "    .dataframe tbody tr th:only-of-type {\n",
       "        vertical-align: middle;\n",
       "    }\n",
       "\n",
       "    .dataframe tbody tr th {\n",
       "        vertical-align: top;\n",
       "    }\n",
       "\n",
       "    .dataframe thead th {\n",
       "        text-align: right;\n",
       "    }\n",
       "</style>\n",
       "<table border=\"1\" class=\"dataframe\">\n",
       "  <thead>\n",
       "    <tr style=\"text-align: right;\">\n",
       "      <th></th>\n",
       "      <th>book</th>\n",
       "      <th>title</th>\n",
       "      <th>text</th>\n",
       "      <th>last_para</th>\n",
       "      <th>first_line</th>\n",
       "      <th>provenance</th>\n",
       "      <th>chapter_order</th>\n",
       "      <th>entity</th>\n",
       "      <th>entity_typ</th>\n",
       "      <th>entity_value</th>\n",
       "    </tr>\n",
       "  </thead>\n",
       "  <tbody>\n",
       "    <tr>\n",
       "      <th>0</th>\n",
       "      <td>The Blue Fairy Book</td>\n",
       "      <td>The Bronze Ring</td>\n",
       "      <td>Once upon a time in a certain country there li...</td>\n",
       "      <td>[1] Traditions Populaires de l'Asie Mineure. C...</td>\n",
       "      <td>Once upon a time in a certain country there li...</td>\n",
       "      <td>Traditions Populaires de l'Asie Mineure. Carno...</td>\n",
       "      <td>0</td>\n",
       "      <td>DATE :: mid-day</td>\n",
       "      <td>DATE</td>\n",
       "      <td>mid-day</td>\n",
       "    </tr>\n",
       "    <tr>\n",
       "      <th>0</th>\n",
       "      <td>The Blue Fairy Book</td>\n",
       "      <td>The Bronze Ring</td>\n",
       "      <td>Once upon a time in a certain country there li...</td>\n",
       "      <td>[1] Traditions Populaires de l'Asie Mineure. C...</td>\n",
       "      <td>Once upon a time in a certain country there li...</td>\n",
       "      <td>Traditions Populaires de l'Asie Mineure. Carno...</td>\n",
       "      <td>0</td>\n",
       "      <td>CARDINAL :: three</td>\n",
       "      <td>CARDINAL</td>\n",
       "      <td>three</td>\n",
       "    </tr>\n",
       "    <tr>\n",
       "      <th>0</th>\n",
       "      <td>The Blue Fairy Book</td>\n",
       "      <td>The Bronze Ring</td>\n",
       "      <td>Once upon a time in a certain country there li...</td>\n",
       "      <td>[1] Traditions Populaires de l'Asie Mineure. C...</td>\n",
       "      <td>Once upon a time in a certain country there li...</td>\n",
       "      <td>Traditions Populaires de l'Asie Mineure. Carno...</td>\n",
       "      <td>0</td>\n",
       "      <td>GPE :: Maisonneuve</td>\n",
       "      <td>GPE</td>\n",
       "      <td>Maisonneuve</td>\n",
       "    </tr>\n",
       "    <tr>\n",
       "      <th>0</th>\n",
       "      <td>The Blue Fairy Book</td>\n",
       "      <td>The Bronze Ring</td>\n",
       "      <td>Once upon a time in a certain country there li...</td>\n",
       "      <td>[1] Traditions Populaires de l'Asie Mineure. C...</td>\n",
       "      <td>Once upon a time in a certain country there li...</td>\n",
       "      <td>Traditions Populaires de l'Asie Mineure. Carno...</td>\n",
       "      <td>0</td>\n",
       "      <td>GPE :: Albania</td>\n",
       "      <td>GPE</td>\n",
       "      <td>Albania</td>\n",
       "    </tr>\n",
       "    <tr>\n",
       "      <th>0</th>\n",
       "      <td>The Blue Fairy Book</td>\n",
       "      <td>The Bronze Ring</td>\n",
       "      <td>Once upon a time in a certain country there li...</td>\n",
       "      <td>[1] Traditions Populaires de l'Asie Mineure. C...</td>\n",
       "      <td>Once upon a time in a certain country there li...</td>\n",
       "      <td>Traditions Populaires de l'Asie Mineure. Carno...</td>\n",
       "      <td>0</td>\n",
       "      <td>CARDINAL :: one</td>\n",
       "      <td>CARDINAL</td>\n",
       "      <td>one</td>\n",
       "    </tr>\n",
       "  </tbody>\n",
       "</table>\n",
       "</div>"
      ],
      "text/plain": [
       "                  book            title  \\\n",
       "0  The Blue Fairy Book  The Bronze Ring   \n",
       "0  The Blue Fairy Book  The Bronze Ring   \n",
       "0  The Blue Fairy Book  The Bronze Ring   \n",
       "0  The Blue Fairy Book  The Bronze Ring   \n",
       "0  The Blue Fairy Book  The Bronze Ring   \n",
       "\n",
       "                                                text  \\\n",
       "0  Once upon a time in a certain country there li...   \n",
       "0  Once upon a time in a certain country there li...   \n",
       "0  Once upon a time in a certain country there li...   \n",
       "0  Once upon a time in a certain country there li...   \n",
       "0  Once upon a time in a certain country there li...   \n",
       "\n",
       "                                           last_para  \\\n",
       "0  [1] Traditions Populaires de l'Asie Mineure. C...   \n",
       "0  [1] Traditions Populaires de l'Asie Mineure. C...   \n",
       "0  [1] Traditions Populaires de l'Asie Mineure. C...   \n",
       "0  [1] Traditions Populaires de l'Asie Mineure. C...   \n",
       "0  [1] Traditions Populaires de l'Asie Mineure. C...   \n",
       "\n",
       "                                          first_line  \\\n",
       "0  Once upon a time in a certain country there li...   \n",
       "0  Once upon a time in a certain country there li...   \n",
       "0  Once upon a time in a certain country there li...   \n",
       "0  Once upon a time in a certain country there li...   \n",
       "0  Once upon a time in a certain country there li...   \n",
       "\n",
       "                                          provenance  chapter_order  \\\n",
       "0  Traditions Populaires de l'Asie Mineure. Carno...              0   \n",
       "0  Traditions Populaires de l'Asie Mineure. Carno...              0   \n",
       "0  Traditions Populaires de l'Asie Mineure. Carno...              0   \n",
       "0  Traditions Populaires de l'Asie Mineure. Carno...              0   \n",
       "0  Traditions Populaires de l'Asie Mineure. Carno...              0   \n",
       "\n",
       "               entity entity_typ entity_value  \n",
       "0     DATE :: mid-day       DATE      mid-day  \n",
       "0   CARDINAL :: three   CARDINAL        three  \n",
       "0  GPE :: Maisonneuve        GPE  Maisonneuve  \n",
       "0      GPE :: Albania        GPE      Albania  \n",
       "0     CARDINAL :: one   CARDINAL          one  "
      ]
     },
     "execution_count": 23,
     "metadata": {},
     "output_type": "execute_result"
    }
   ],
   "source": [
    "from pandas import Series\n",
    "\n",
    "# Explode the entities one per row...\n",
    "df_long = df.explode('entities')\n",
    "df_long.rename(columns={\"entities\":\"entity\"}, inplace=True)\n",
    "\n",
    "# And then separate out entity type and value\n",
    "df_long[[\"entity_typ\", \"entity_value\"]] = df_long[\"entity\"].str.split(\" :: \").apply(Series)\n",
    "df_long.head()"
   ]
  },
  {
   "cell_type": "markdown",
   "id": "5db0f38c",
   "metadata": {},
   "source": [
    "The data frame object can often be quite helpful. If we ask it nicely, it will tell us what different entity types it contains, and how many rows are associated with each one:"
   ]
  },
  {
   "cell_type": "code",
   "execution_count": 24,
   "id": "b1e49430",
   "metadata": {},
   "outputs": [
    {
     "data": {
      "text/plain": [
       "DATE           3108\n",
       "CARDINAL       2536\n",
       "TIME           1928\n",
       "ORG            1564\n",
       "PERSON         1499\n",
       "ORDINAL         879\n",
       "GPE             564\n",
       "WORK_OF_ART     358\n",
       "NORP            343\n",
       "QUANTITY        209\n",
       "LOC             165\n",
       "PRODUCT         144\n",
       "FAC             126\n",
       "MONEY            41\n",
       "LAW              34\n",
       "EVENT            28\n",
       "LANGUAGE         12\n",
       "Name: entity_typ, dtype: int64"
      ]
     },
     "execution_count": 24,
     "metadata": {},
     "output_type": "execute_result"
    }
   ],
   "source": [
    "df_long[\"entity_typ\"].value_counts()"
   ]
  },
  {
   "cell_type": "markdown",
   "id": "22888116",
   "metadata": {},
   "source": [
    "###  How Much?!\n",
    "\n",
    "What sort of money has been identified in the stories?"
   ]
  },
  {
   "cell_type": "code",
   "execution_count": 46,
   "id": "fe1b4973",
   "metadata": {},
   "outputs": [
    {
     "data": {
      "text/plain": [
       "a penny                     6\n",
       "a hundred dollars           5\n",
       "a few pence                 4\n",
       "three hundred dollars       4\n",
       "two hundred dollars         3\n",
       "the hundred dollars         2\n",
       "ten dollars                 2\n",
       "the thousand dollars        1\n",
       "only a few hundred yards    1\n",
       "the hundred marks           1\n",
       "Name: entity_value, dtype: int64"
      ]
     },
     "execution_count": 46,
     "metadata": {},
     "output_type": "execute_result"
    }
   ],
   "source": [
    "money_filter = df_long[\"entity_typ\"]==\"MONEY\"\n",
    "\n",
    "df_long[money_filter][\"entity_value\"].value_counts().head(10)"
   ]
  },
  {
   "cell_type": "markdown",
   "id": "b7c461b4",
   "metadata": {},
   "source": [
    "Dollars? Really??? What about gold coins?!\n",
    "\n",
    "The magic works using a *classifier*, a special type of gossip that has read everything there is to read about everything, and recognises from text we provide what sorts of things various things are likely to be in a text, based on how they appear in the text and what other words appear around them.\n",
    "\n",
    "So I wonder: do I need to train a new classifier that is a bit more specialised in terms of its familiarity with the sorts of thing you find in fairy tales?! Or was the original text really like that (are there really lots of mentions of \"dollar\" amounts?!) Or has the text been got at someway, perhaps in editing translation on its way to the website I downloaded my source texts from?\n",
    "\n",
    "```{note}\n",
    "Maybe I should do my own digitisation project to extract the text from copies of the original books on the Internet Archive?\n",
    "```\n",
    "\n",
    "Having identified various fragments of text as currency related, can we actually convert those phrases into something evening more abstract, such as a numerical amounts and recognisable currencies or units?\n",
    "\n",
    "The `quantulum3` spell book is useful to us here... so let's create an invocation of our own around it:"
   ]
  },
  {
   "cell_type": "code",
   "execution_count": 79,
   "id": "eb478b30",
   "metadata": {},
   "outputs": [],
   "source": [
    "#%pip install quantulum3\n",
    "from quantulum3.parser import parse as qp\n",
    "\n",
    "def quantity_conversions(quantities):\n",
    "    \"\"\"Attempt to identify quanities and units.\"\"\"\n",
    "    # We'll keep track of which monetary amounts we can convert\n",
    "    conversions = []\n",
    "    # and those we can't\n",
    "    not_converted = []\n",
    "\n",
    "    # Let's try with just a few monetary amounts\n",
    "    for q in quantities:\n",
    "        try:\n",
    "            conversions.append((q, qp(q)))\n",
    "        except:\n",
    "            not_converted.append(q)\n",
    "\n",
    "    # How did we do?\n",
    "    return conversions, not_converted"
   ]
  },
  {
   "cell_type": "markdown",
   "id": "e0a2d5c1",
   "metadata": {},
   "source": [
    "And now let's see if we can identify some monetary amounts and currencies, or units:"
   ]
  },
  {
   "cell_type": "code",
   "execution_count": 80,
   "id": "8ab70c58",
   "metadata": {},
   "outputs": [
    {
     "data": {
      "text/plain": [
       "([('a penny',\n",
       "   [Quantity(1, \"Unit(name=\"penny\", entity=Entity(\"currency\"), uri=Penny)\")]),\n",
       "  ('a hundred dollars',\n",
       "   [Quantity(100, \"Unit(name=\"dollar\", entity=Entity(\"currency\"), uri=Dollar)\")]),\n",
       "  ('three hundred dollars',\n",
       "   [Quantity(300, \"Unit(name=\"dollar\", entity=Entity(\"currency\"), uri=Dollar)\")]),\n",
       "  ('two hundred dollars',\n",
       "   [Quantity(200, \"Unit(name=\"dollar\", entity=Entity(\"currency\"), uri=Dollar)\")]),\n",
       "  ('the hundred dollars', []),\n",
       "  ('ten dollars',\n",
       "   [Quantity(10, \"Unit(name=\"dollar\", entity=Entity(\"currency\"), uri=Dollar)\")]),\n",
       "  ('the thousand dollars', []),\n",
       "  ('the hundred marks', [])],\n",
       " ['a few pence', 'only a few hundred yards'])"
      ]
     },
     "execution_count": 80,
     "metadata": {},
     "output_type": "execute_result"
    }
   ],
   "source": [
    "money = df_long[money_filter][\"entity_value\"].value_counts().index.tolist()\n",
    "\n",
    "quantity_conversions(money[:10])"
   ]
  },
  {
   "cell_type": "markdown",
   "id": "fb9f9a27",
   "metadata": {},
   "source": [
    "If we can start to glue these various pieces together, it's not hard to imagine labeling each story with monetary amounts, which means we can then start to search for stories that mention sums of a certain magnitude (for example, _\"more than a thousand dollars\"_).\n",
    "\n",
    "Various currency conversion package also exist, which means we could start to imagine searching across currencies, *if* we can identify appropriate currency conversion rates. For example, _\"give me all stories mentioning an amount of at least 1000 gold coins, **or equivalent**\"_."
   ]
  },
  {
   "cell_type": "markdown",
   "id": "aaf16f80",
   "metadata": {},
   "source": [
    "### How Far Have We Still To Go?\n",
    "\n",
    "As with as monetary amounts, did our classifier genie spot any other quantities in the texts?"
   ]
  },
  {
   "cell_type": "code",
   "execution_count": 29,
   "id": "845e1026",
   "metadata": {},
   "outputs": [
    {
     "data": {
      "text/plain": [
       "one foot           15\n",
       "a mile             12\n",
       "a few miles         7\n",
       "twenty miles        6\n",
       "a hundred miles     5\n",
       "three miles         5\n",
       "seven miles         3\n",
       "a few yards         3\n",
       "a few feet          3\n",
       "several miles       3\n",
       "Name: entity_value, dtype: int64"
      ]
     },
     "execution_count": 29,
     "metadata": {},
     "output_type": "execute_result"
    }
   ],
   "source": [
    "quantity_filter = df_long[\"entity_typ\"]==\"QUANTITY\"\n",
    "\n",
    "df_long[quantity_filter][\"entity_value\"].value_counts().head(10)"
   ]
  },
  {
   "cell_type": "markdown",
   "id": "9712cdbd",
   "metadata": {},
   "source": [
    "We can also attempt to parse these values using the `quantulum3` incantation:"
   ]
  },
  {
   "cell_type": "code",
   "execution_count": 81,
   "id": "328594ac",
   "metadata": {},
   "outputs": [
    {
     "data": {
      "text/plain": [
       "([('one foot',\n",
       "   [Quantity(1, \"Unit(name=\"foot\", entity=Entity(\"length\"), uri=Foot_(unit))\")]),\n",
       "  ('a mile',\n",
       "   [Quantity(1, \"Unit(name=\"mile\", entity=Entity(\"length\"), uri=Mile)\")]),\n",
       "  ('twenty miles',\n",
       "   [Quantity(20, \"Unit(name=\"mile\", entity=Entity(\"length\"), uri=Mile)\")]),\n",
       "  ('a hundred miles',\n",
       "   [Quantity(100, \"Unit(name=\"mile\", entity=Entity(\"length\"), uri=Mile)\")]),\n",
       "  ('three miles',\n",
       "   [Quantity(3, \"Unit(name=\"mile\", entity=Entity(\"length\"), uri=Mile)\")]),\n",
       "  ('seven miles',\n",
       "   [Quantity(7, \"Unit(name=\"mile\", entity=Entity(\"length\"), uri=Mile)\")]),\n",
       "  ('several miles', [])],\n",
       " ['a few miles', 'a few yards', 'a few feet'])"
      ]
     },
     "execution_count": 81,
     "metadata": {},
     "output_type": "execute_result"
    }
   ],
   "source": [
    "# Get a list of quantities extracted from out texts\n",
    "quantities = df_long[quantity_filter][\"entity_value\"].value_counts().index.tolist()\n",
    "\n",
    "quantity_conversions(quantities[:10])"
   ]
  },
  {
   "cell_type": "markdown",
   "id": "9d435461",
   "metadata": {},
   "source": [
    "### How Many Did You Say?\n",
    "\n",
    "We can also identify cardinal values, which is to say, numbers:"
   ]
  },
  {
   "cell_type": "code",
   "execution_count": 52,
   "id": "ca3d1e4b",
   "metadata": {},
   "outputs": [
    {
     "data": {
      "text/plain": [
       "['one',\n",
       " 'two',\n",
       " 'three',\n",
       " 'half',\n",
       " 'One',\n",
       " 'four',\n",
       " 'six',\n",
       " 'twelve',\n",
       " 'seven',\n",
       " 'thousand']"
      ]
     },
     "execution_count": 52,
     "metadata": {},
     "output_type": "execute_result"
    }
   ],
   "source": [
    "cardinal_filter = df_long[\"entity_typ\"]==\"CARDINAL\"\n",
    "\n",
    "cardinals = df_long[cardinal_filter][\"entity_value\"].value_counts().index.tolist()\n",
    "cardinals[:10]"
   ]
  },
  {
   "cell_type": "markdown",
   "id": "bb5111e6",
   "metadata": {},
   "source": [
    "Again, can we cast these to numerics by the power of `quantulum3`?"
   ]
  },
  {
   "cell_type": "code",
   "execution_count": 83,
   "id": "4a2fbe20",
   "metadata": {},
   "outputs": [
    {
     "data": {
      "text/plain": [
       "([('one', []),\n",
       "  ('two',\n",
       "   [Quantity(2, \"Unit(name=\"dimensionless\", entity=Entity(\"dimensionless\"), uri=Dimensionless_quantity)\")]),\n",
       "  ('three',\n",
       "   [Quantity(3, \"Unit(name=\"dimensionless\", entity=Entity(\"dimensionless\"), uri=Dimensionless_quantity)\")]),\n",
       "  ('half',\n",
       "   [Quantity(0, \"Unit(name=\"dimensionless\", entity=Entity(\"dimensionless\"), uri=Dimensionless_quantity)\")]),\n",
       "  ('One', []),\n",
       "  ('four',\n",
       "   [Quantity(4, \"Unit(name=\"dimensionless\", entity=Entity(\"dimensionless\"), uri=Dimensionless_quantity)\")]),\n",
       "  ('six',\n",
       "   [Quantity(6, \"Unit(name=\"dimensionless\", entity=Entity(\"dimensionless\"), uri=Dimensionless_quantity)\")]),\n",
       "  ('twelve',\n",
       "   [Quantity(12, \"Unit(name=\"dimensionless\", entity=Entity(\"dimensionless\"), uri=Dimensionless_quantity)\")]),\n",
       "  ('seven',\n",
       "   [Quantity(7, \"Unit(name=\"dimensionless\", entity=Entity(\"dimensionless\"), uri=Dimensionless_quantity)\")]),\n",
       "  ('thousand', [])],\n",
       " [])"
      ]
     },
     "execution_count": 83,
     "metadata": {},
     "output_type": "execute_result"
    }
   ],
   "source": [
    "quantity_conversions(cardinals[:10])"
   ]
  },
  {
   "cell_type": "markdown",
   "id": "71a8daa1",
   "metadata": {},
   "source": [
    "### Who's There?\n",
    "\n",
    "As well as quantities, what people or sorts of people have been identified?"
   ]
  },
  {
   "cell_type": "code",
   "execution_count": 55,
   "id": "76d780e5",
   "metadata": {},
   "outputs": [
    {
     "data": {
      "text/plain": [
       "Fairy       31\n",
       "Majesty     29\n",
       "Prince      29\n",
       "Queen       27\n",
       "bush        12\n",
       "wolf        11\n",
       "Madam       11\n",
       "Campbell    11\n",
       "Lang        11\n",
       "Jack        10\n",
       "Name: entity_value, dtype: int64"
      ]
     },
     "execution_count": 55,
     "metadata": {},
     "output_type": "execute_result"
    }
   ],
   "source": [
    "df_long[df_long[\"entity_typ\"]==\"PERSON\"][\"entity_value\"].value_counts().head(10)"
   ]
  },
  {
   "cell_type": "markdown",
   "id": "046a3285",
   "metadata": {},
   "source": [
    "### Where's There?\n",
    "\n",
    "How about geo-political entities (GPEs)?"
   ]
  },
  {
   "cell_type": "code",
   "execution_count": 56,
   "id": "c80a44e2",
   "metadata": {},
   "outputs": [
    {
     "data": {
      "text/plain": [
       "thou                11\n",
       "Paris               10\n",
       "France               9\n",
       "Japan                8\n",
       "Greece               7\n",
       "Denmark              6\n",
       "Ireland              6\n",
       "Contes Armeniens     5\n",
       "Gedichte             5\n",
       "Finland              5\n",
       "Name: entity_value, dtype: int64"
      ]
     },
     "execution_count": 56,
     "metadata": {},
     "output_type": "execute_result"
    }
   ],
   "source": [
    "df_long[df_long[\"entity_typ\"]==\"GPE\"][\"entity_value\"].value_counts().head(10)"
   ]
  },
  {
   "cell_type": "markdown",
   "id": "26c6bea2",
   "metadata": {},
   "source": [
    "### When's There?\n",
    "\n",
    "When did things happen?"
   ]
  },
  {
   "cell_type": "code",
   "execution_count": 57,
   "id": "d9af47f7",
   "metadata": {},
   "outputs": [
    {
     "data": {
      "text/plain": [
       "one day         188\n",
       "One day         154\n",
       "the day          86\n",
       "three days       79\n",
       "next day         62\n",
       "the next day     61\n",
       "a few days       50\n",
       "all day          44\n",
       "many years       41\n",
       "that day         40\n",
       "Name: entity_value, dtype: int64"
      ]
     },
     "execution_count": 57,
     "metadata": {},
     "output_type": "execute_result"
    }
   ],
   "source": [
    "df_long[df_long[\"entity_typ\"]==\"DATE\"][\"entity_value\"].value_counts().head(10)"
   ]
  },
  {
   "cell_type": "markdown",
   "id": "ea08b95e",
   "metadata": {},
   "source": [
    "And how about time considerations?"
   ]
  },
  {
   "cell_type": "code",
   "execution_count": 58,
   "id": "b8491284",
   "metadata": {},
   "outputs": [
    {
     "data": {
      "text/plain": [
       "night            117\n",
       "evening          115\n",
       "a few minutes     77\n",
       "morning           69\n",
       "next morning      63\n",
       "one morning       58\n",
       "Next morning      53\n",
       "the night         47\n",
       "midnight          44\n",
       "one night         40\n",
       "Name: entity_value, dtype: int64"
      ]
     },
     "execution_count": 58,
     "metadata": {},
     "output_type": "execute_result"
    }
   ],
   "source": [
    "df_long[df_long[\"entity_typ\"]==\"TIME\"][\"entity_value\"].value_counts().head(10)"
   ]
  },
  {
   "cell_type": "markdown",
   "id": "73aa37fe",
   "metadata": {},
   "source": [
    "### Organisationally Speaking...\n",
    "\n",
    "Were organisations or organisational types recognised?"
   ]
  },
  {
   "cell_type": "code",
   "execution_count": 59,
   "id": "18ad8e91",
   "metadata": {},
   "outputs": [
    {
     "data": {
      "text/plain": [
       "King        102\n",
       "Princess     71\n",
       "Court        48\n",
       "Prince       42\n",
       "Grimm        28\n",
       "King's       23\n",
       "Quick        18\n",
       "eagle        12\n",
       "Majesty      11\n",
       "I.           10\n",
       "Name: entity_value, dtype: int64"
      ]
     },
     "execution_count": 59,
     "metadata": {},
     "output_type": "execute_result"
    }
   ],
   "source": [
    "df_long[df_long[\"entity_typ\"]==\"ORG\"][\"entity_value\"].value_counts().head(10)"
   ]
  },
  {
   "cell_type": "markdown",
   "id": "836f52ad",
   "metadata": {},
   "source": [
    "What's a `NORP`? (Ah... *Nationalities Or Religious or Political groups.)*"
   ]
  },
  {
   "cell_type": "code",
   "execution_count": 60,
   "id": "370cc6de",
   "metadata": {},
   "outputs": [
    {
     "data": {
      "text/plain": [
       "German        24\n",
       "Danish        18\n",
       "French        14\n",
       "Russian       11\n",
       "Indian        10\n",
       "Christian      9\n",
       "Italian        8\n",
       "Portuguese     7\n",
       "Spanish        7\n",
       "Chinese        6\n",
       "Name: entity_value, dtype: int64"
      ]
     },
     "execution_count": 60,
     "metadata": {},
     "output_type": "execute_result"
    }
   ],
   "source": [
    "df_long[df_long[\"entity_typ\"]==\"NORP\"][\"entity_value\"].value_counts().head(10)"
   ]
  }
 ],
 "metadata": {
  "kernelspec": {
   "display_name": "Python 3",
   "language": "python",
   "name": "python3"
  },
  "language_info": {
   "codemirror_mode": {
    "name": "ipython",
    "version": 3
   },
   "file_extension": ".py",
   "mimetype": "text/x-python",
   "name": "python",
   "nbconvert_exporter": "python",
   "pygments_lexer": "ipython3",
   "version": "3.9.8"
  }
 },
 "nbformat": 4,
 "nbformat_minor": 5
}
