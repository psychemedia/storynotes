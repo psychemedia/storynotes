{
 "cells": [
  {
   "cell_type": "markdown",
   "id": "a5730fd1",
   "metadata": {},
   "source": [
    "(how-to-read-book)=\n",
    "# How To Read This Book (Do Not Be Afraid)\n",
    "\n",
    "This book takes no prisoners: it will expose you to various arcane spells (otherwise known as computer programming code) that invoke untold magical powers (which is to say, get the computer to do stuff...).\n",
    "\n",
    "In part, the content may *look* quite technical; and in places, it *is* quite technical; but *DON'T PANIC*: it is still intended to be read *as a story*, even if you skip over the bits where the arcane squiggles, runes and glyphs make your head go fuzzy, and your eyes go blurry, and you just want to run away, terrified."
   ]
  },
  {
   "cell_type": "markdown",
   "id": "c3c2dde8",
   "metadata": {},
   "source": [
    "If you skim through the book, you will notice several very striking stylistic elements.\n",
    "\n",
    "In the first case, there is straightforward text, such as this.\n",
    "\n",
    "There are also some bits of text broken out into stylised boxes, such as the text below:"
   ]
  },
  {
   "cell_type": "markdown",
   "id": "5bef7b0c",
   "metadata": {},
   "source": [
    "```{note}\n",
    "Content appearing in stylised boxes might represent \"an aside\", or perhaps a note or a warning about the preceding, or following, content.\n",
    "```"
   ]
  },
  {
   "cell_type": "markdown",
   "id": "f6b71a7c",
   "metadata": {},
   "source": [
    "As well as \"pure text\", the document includes *programming code*. DO NOT BE AFRAID...\n",
    "\n",
    "As you may well be versed in story traditions, think of programming code as a set of magical incantations that can be used to command a genie, demon, spirit or fairy godmother (the computer) to perform some sort of task on your behalf."
   ]
  },
  {
   "cell_type": "code",
   "execution_count": 1,
   "id": "b1aa894c",
   "metadata": {},
   "outputs": [
    {
     "name": "stdout",
     "output_type": "stream",
     "text": [
      "Once upon a time...\n"
     ]
    }
   ],
   "source": [
    "# Areas like this contain programming code\n",
    "# Some lines start with a # and are known as \"comments\"\n",
    "\n",
    "# They are not instructions to the computer...\n",
    "\n",
    "# ...they are an aside to you the reader, you the listener,\n",
    "# to help explain a plot point, or characteristic of the\n",
    "# evil king that need to better understand his actions\n",
    "\n",
    "# Then, there is the code\n",
    "# The actual incantation that instructs the demon computer\n",
    "# to do something...\n",
    "# The programming language I will be using is one called Python\n",
    "\n",
    "print(\"Once upon a time...\")\n",
    "\n",
    "# This magical statement, when invoked or \"executed\", DOES SOMETHING\n",
    "# So read on....\n",
    "# The above code has been executed,\n",
    "# and the outcome will be displayed below...\n",
    "\n",
    "# So what do you see there?"
   ]
  },
  {
   "cell_type": "markdown",
   "id": "0d2962c6",
   "metadata": {},
   "source": [
    "*Did you see what just happened?*\n",
    "\n",
    "When you ask it, the computer *will* do what you told it. But be careful how you present your spell, because if you don't phrase your instructions in *exactly* the right, that's exatly what the computer will do...\n",
    "\n",
    "In many stories, the words used to represent a spell may look like a made up nonsense that make no sense to you, the teller, let alone the audience. It can be the same with programming code. If the code in this book makes no sense to you, the reader of this text, don't worry. You should still come away with a sense of the sorts of things we can ask a computer to do, as well the sorts of things it will do in response to our commands.\n",
    "\n",
    "But just as a wish may have unforeseen consequences if you don't phrase it *exactly* right, so too might code take you to places you hadn't intended to go if you are careless with it.\n",
    "\n",
    "Even amidst the mumbo jumbo gobbledeygook of a made up spell, a listener may spot certain recognisable elements in a charm, such as the name of the person who will fall in love with a supplicant who has gone to ask the cunning woman who lives at the edge of the forest for help. It's the same with code: amidst the cryptic commands, you will often be able to recognise certain words or elements in there, and from that make some sort of sense about what is being manipulated, and possibly how. The address of a web page, for example, which is to say, a \"URL\". Or a search term that forms part of a query: _\"wazza wayza oono wayza 'the golden palace'\"_.\n",
    "\n",
    "So there will be code. And there will be incantations. Nothing is hidden. All the tools and databases and collections of books, all the ways of searching them, are constructed from the code contained within these pages."
   ]
  },
  {
   "cell_type": "markdown",
   "id": "c0b09ed9",
   "metadata": {},
   "source": [
    "## Stories Not Theatre\n",
    "\n",
    "At this point you may be wondering *why* there is such a focus on code to work with story data sources. Why should I put you through all this pain rather than just making a website that makes that lets you search through various story collections using a simple web based search form. And why is there a reliance on making cryptic search queries rather than just letting you enter words in a search box.\n",
    "\n",
    "That's because user interfaces are hard to produce, hard to maintain, hard to get right, and often limiting in what they allow the user to do. They also need hosting somewhere (which costs money, and time to set up). And securing against attack (because people are forever trying to take over other peoples' computers so they can use them to attack yet other people, or hijack them to mine for that cryptic treasure known as bitcoin.\n",
    "\n",
    "As far as user interfaces go, the designer always has to make certain decisions about what they think the user is likely to want to do. Someone else then typically makes various decisions about how to support that behaviour, decisions that lead to a particular user interface and system architecture. And then someone else — the programmer, the developer — has to find a way to implement the outcome of those decisions in code. And someone else has to make it look pretty and easy to use on the screen.\n",
    "\n",
    "By sticking with code, we are focusing on the bare bones of the story. This is not theatre. We don't have the set designers making the user interface and the teams of people interpreting the story so that it can be told in a theatrical way. We're just trying to get the basic story sorted out, in its rawest of forms."
   ]
  },
  {
   "cell_type": "markdown",
   "id": "d94f183d",
   "metadata": {},
   "source": [
    "## Some Tricks to Help You Recognise Code Tropes and Archetypes\n",
    "\n",
    "When telling a folk tale or a fairy tale from a particular tradition, we rely on tropes and archetypes. In Germanic fairy tales, the evil witch who lives in the forest, the trolls and giants of Scandinavian tales, the dragon-serpents of Eastern and Eastern European fairy tales, and so on.\n",
    "\n",
    "In a story, we invoke archetypes we can rely on to perform certain  certain roles:\n",
    "\n",
    "*Once, there was a king...*\n",
    "\n",
    "Sometimes, we need to take the shortcut further:\n",
    "\n",
    "*Once, there was an __evil__ king...*\n",
    "\n",
    "Sometimes, we situate the king:\n",
    "\n",
    "*Once, __in a land far far away__, there was an evil king...*\n",
    "\n",
    "All these techniques allow us to invoke, and draw on, a folk memory of certain expectations and beliefs about what a particular character is like, how it will behave, and what sorts of things we might imagine it to do, even if we are never explictly told about them.\n",
    "\n",
    "```{note}\n",
    "*In a far off land, was a king, an evil king...*\n",
    "\n",
    "As storyteller, we use such constructions to invoke a character that we can use in the rest of the story. We can be reasonably confident that we don't need to go into a lot of detail, nor a long and complicated back story, to make sure that the audience knows what sort of character the king is.\n",
    "\n",
    "They just know. Through the work of other stories and storytellers, and other tales told many times before. And we can tap directly into that knowledge and just get on with the story.\n",
    "```\n",
    "It's the same with code:"
   ]
  },
  {
   "cell_type": "code",
   "execution_count": 2,
   "id": "2d6fdae4",
   "metadata": {},
   "outputs": [],
   "source": [
    "from IPython.display import YouTubeVideo\n",
    "# You might already have an expectation about what `YouTubeVideo` might let us do,\n",
    "# or what sort of character it is...?"
   ]
  },
  {
   "cell_type": "markdown",
   "id": "2f55afb5",
   "metadata": {},
   "source": [
    "Having invoked the character, we can get it do something:\n",
    "\n",
    "*Every so often, the vizier would pass the evil king a note that caused the king to behave in a particular way.*\n",
    "\n",
    "As with code:"
   ]
  },
  {
   "cell_type": "code",
   "execution_count": 3,
   "id": "4339c50e",
   "metadata": {},
   "outputs": [],
   "source": [
    "# Let's put the message onto a piece of paper\n",
    "video_url = \"https://www.youtube.com/watch?v=KdnGPQaICjk\"\n",
    "# You might perhaps have even recognised a part of the\n",
    "# previous line of the incantation as giving\n",
    "# the web address of a YouTube page"
   ]
  },
  {
   "cell_type": "markdown",
   "id": "b0e682c6",
   "metadata": {},
   "source": [
    "The `video_url` is a label by which we can refer to the web address of a particular YouTube video. The `YouTubeVideo` we \"imported\", which is to say, brought into the story, takes the unique identifier (or \"ID code\") of a Youtube video  — in the above case, `KdnGPQaICjk` — and then returns an embeddable video player that will play that video into the page.\n",
    "\n",
    "To get the ID code, we want the part of the web address that relates to the ID code, which is to sat, the part after the `=` sign. To get it, we can \"split\" the URL on the `=` character into two pieces: the first piece is the text before the `=`, and the second piece, which is also the *last* piece, is the text after the `=`."
   ]
  },
  {
   "cell_type": "code",
   "execution_count": 4,
   "id": "22157c46",
   "metadata": {},
   "outputs": [
    {
     "data": {
      "text/plain": [
       "'Video ID is: KdnGPQaICjk'"
      ]
     },
     "metadata": {},
     "output_type": "display_data"
    },
    {
     "data": {
      "image/jpeg": "[encoded data removed]",
      "text/html": [
       "\n",
       "        <iframe\n",
       "            width=\"400\"\n",
       "            height=\"300\"\n",
       "            src=\"https://www.youtube.com/embed/KdnGPQaICjk\"\n",
       "            frameborder=\"0\"\n",
       "            allowfullscreen\n",
       "            \n",
       "        ></iframe>\n",
       "        "
      ],
      "text/plain": [
       "<IPython.lib.display.YouTubeVideo at 0x1092fea00>"
      ]
     },
     "execution_count": 4,
     "metadata": {},
     "output_type": "execute_result"
    }
   ],
   "source": [
    "# We can extract the ID of the video by splitting\n",
    "# the URL on the \"=\" and taking the last (-1) piece\n",
    "video_id = video_url.split(\"=\")[-1]\n",
    "display(f\"Video ID is: {video_id}\")\n",
    "\n",
    "# Now pass the message to the king for him to read\n",
    "YouTubeVideo(video_id)"
   ]
  },
  {
   "cell_type": "markdown",
   "id": "90ce95b8",
   "metadata": {},
   "source": [
    "### Defining Our Own Shortcuts, Spells and Incantations\n",
    "\n",
    "Sometimes, we need to package up a bit of the story so that we can reuse it. Or we need to teach the audience something they can do for us.\n",
    "\n",
    "```text\n",
    "When the man gets on the horse with the fairy queen, you say:\n",
    "\n",
    "And they rode,\n",
    "and they rode,\n",
    "and they merrily, merrily rode,\n",
    "and they rode for a night and a day.\n",
    "```\n",
    "\n",
    "It's the same with code:"
   ]
  },
  {
   "cell_type": "code",
   "execution_count": 5,
   "id": "33be5847",
   "metadata": {},
   "outputs": [],
   "source": [
    "rhyme = \"\"\"\n",
    "And they rode,\n",
    "and they rode,\n",
    "and they merrily, merrily rode,\n",
    "and they rode for a night and a day.\n",
    "\"\"\"\n",
    "\n",
    "def man_gets_on_horse(action):\n",
    "    \"\"\"Do this when the man gets on the horse.\"\"\"\n",
    "    print(action)"
   ]
  },
  {
   "cell_type": "markdown",
   "id": "027617de",
   "metadata": {},
   "source": [
    "For example:"
   ]
  },
  {
   "cell_type": "code",
   "execution_count": 6,
   "id": "ef5baa3a",
   "metadata": {},
   "outputs": [
    {
     "name": "stdout",
     "output_type": "stream",
     "text": [
      "\n",
      "And they rode,\n",
      "and they rode,\n",
      "and they merrily, merrily rode,\n",
      "and they rode for a night and a day.\n",
      "\n"
     ]
    }
   ],
   "source": [
    "man_gets_on_horse(rhyme)"
   ]
  },
  {
   "cell_type": "markdown",
   "id": "587a0f6b",
   "metadata": {},
   "source": [
    "### Again, and Again, and Again, and Again...\n",
    "\n",
    "Sometimes, we want to do the same thing several times.\n",
    "\n",
    "You may recall the three heads on the well who each made the same request?\n",
    "\n",
    "So does the following piece of code:"
   ]
  },
  {
   "cell_type": "code",
   "execution_count": 7,
   "id": "be390df7",
   "metadata": {},
   "outputs": [
    {
     "name": "stdout",
     "output_type": "stream",
     "text": [
      "And the first_head said:\n",
      "\n",
      "Wash me and comb me,\n",
      "And lay me down softly.\n",
      "And lay me on a bank to dry,\n",
      "That I may look pretty,\n",
      "When somebody passes by.\n",
      "\n",
      "\n",
      "And the second_head said:\n",
      "\n",
      "Wash me and comb me,\n",
      "And lay me down softly.\n",
      "And lay me on a bank to dry,\n",
      "That I may look pretty,\n",
      "When somebody passes by.\n",
      "\n",
      "\n",
      "And the third_head said:\n",
      "\n",
      "Wash me and comb me,\n",
      "And lay me down softly.\n",
      "And lay me on a bank to dry,\n",
      "That I may look pretty,\n",
      "When somebody passes by.\n",
      "\n",
      "\n"
     ]
    }
   ],
   "source": [
    "three_heads_refrain = \"\"\"\n",
    "Wash me and comb me,\n",
    "And lay me down softly.\n",
    "And lay me on a bank to dry,\n",
    "That I may look pretty,\n",
    "When somebody passes by.\"\"\"\n",
    "\n",
    "for head in [\"first_head\", \"second_head\", \"third_head\"]:\n",
    "    print(f\"And the {head} said:\\n{three_heads_refrain}\\n\\n\")"
   ]
  },
  {
   "cell_type": "markdown",
   "id": "d55eb2bf",
   "metadata": {},
   "source": [
    "We can make it easier to repeat the refrain by putting that code into another reusable function:"
   ]
  },
  {
   "cell_type": "code",
   "execution_count": 8,
   "id": "4073a0f2",
   "metadata": {},
   "outputs": [],
   "source": [
    "# A function is like a multi-step spell we've made up\n",
    "# and given a name so that we can invoke it more easily.\n",
    "# The spell can use various different ingredients that\n",
    "# are passed to it when its name is invoked\n",
    "def say_refrain(refrain):\n",
    "    \"\"\"Repeat the refrain.\"\"\"\n",
    "    # The named spell contains one or more instructions\n",
    "    # that are carried out whenever the function's name is invoked.\n",
    "    for head in [\"first_head\", \"second_head\", \"third_head\"]:\n",
    "        print(f\"And the {head} said:\\n{refrain}\\n\\n\")"
   ]
  },
  {
   "cell_type": "markdown",
   "id": "8e7558b0",
   "metadata": {},
   "source": [
    "The `\"\"\"triple quoted text\"\"\"` at the start of the spell is actually a \"note-to-self\" that can remind us what the spell does:"
   ]
  },
  {
   "cell_type": "code",
   "execution_count": 9,
   "id": "1596f41d",
   "metadata": {},
   "outputs": [
    {
     "name": "stdout",
     "output_type": "stream",
     "text": [
      "Help on function say_refrain in module __main__:\n",
      "\n",
      "say_refrain(refrain)\n",
      "    Repeat the refrain.\n",
      "\n"
     ]
    }
   ],
   "source": [
    "help(say_refrain)"
   ]
  },
  {
   "cell_type": "markdown",
   "id": "5b43178f",
   "metadata": {},
   "source": [
    "To invoke the spell at another time, all we have to do is say the following in a code cell:\n",
    "\n",
    "`say_refrain(three_heads_refrain)`"
   ]
  },
  {
   "cell_type": "markdown",
   "id": "e9677310",
   "metadata": {},
   "source": [
    "### Call and Response\n",
    "\n",
    "If you've even been to a storytelling club or story festival, you're probably familiar with the idea of \"cric-crac\", a call and response technique used by the storyteller - who calls out \"cric\" - to keep an audience - who respond with \"crac\" - engaged, particularly during a long story, or between tales.\n",
    "\n",
    "In code, we can use a simple spell component that gives us a basis for simple, and direct, call-response behaviours:"
   ]
  },
  {
   "cell_type": "code",
   "execution_count": 10,
   "id": "0bc49a52",
   "metadata": {},
   "outputs": [
    {
     "data": {
      "text/plain": [
       "'crac'"
      ]
     },
     "execution_count": 10,
     "metadata": {},
     "output_type": "execute_result"
    }
   ],
   "source": [
    "# The curly brackets, {}, defines a \"dictionary\"\n",
    "# which contains one or more \"key:value\" pairs.\n",
    "# Provide the key, and it returns the value\n",
    "cric_crac = {\"cric\": \"crac\"}\n",
    "\n",
    "cric_crac[\"cric\"]"
   ]
  },
  {
   "cell_type": "markdown",
   "id": "549c2d30",
   "metadata": {},
   "source": [
    "### If You Bring Me the Head of a Dragon, You May Marry the Princess... \n",
    "\n",
    "Let's go back to the three heads.\n",
    "\n",
    "You might recall that each of the heads gave a different gift to the good natured heroine.\n",
    "\n",
    "That is, the gift given by each head was *conditional* on which head gave the gift.\n",
    "\n",
    "We can create an incantation that will also perform different actions based on what we are currently doing or talking about.\n",
    "\n",
    "Here's the set-up..."
   ]
  },
  {
   "cell_type": "code",
   "execution_count": 11,
   "id": "79f34f3e",
   "metadata": {},
   "outputs": [],
   "source": [
    "heads_question = 'What shall we give her for treating us so kindly?'\n",
    "\n",
    "heads_response = {\"first_head\": \"She shall be beautiful\",\n",
    "                  \"second_head\": \"She shall have a sweet voice\",\n",
    "                  \"third_head\": \"She shall become queen.\"}"
   ]
  },
  {
   "cell_type": "markdown",
   "id": "0eb045b7",
   "metadata": {},
   "source": [
    "What do you think might happen next?"
   ]
  },
  {
   "cell_type": "code",
   "execution_count": 12,
   "id": "d2116120",
   "metadata": {},
   "outputs": [
    {
     "name": "stdout",
     "output_type": "stream",
     "text": [
      "What shall we give her for treating us so kindly? \n",
      "\n",
      "- She shall be beautiful\n",
      "- She shall have a sweet voice\n",
      "- She shall become queen.\n"
     ]
    }
   ],
   "source": [
    "print(heads_question,\"\\n\")\n",
    "\n",
    "for head in [\"first_head\", \"second_head\", \"third_head\"]:\n",
    "    print(f\"- {heads_response[head]}\")"
   ]
  },
  {
   "cell_type": "markdown",
   "id": "21250dac",
   "metadata": {},
   "source": [
    "In the same story, the three heads also had a different set of decisions available for the spiteful maid."
   ]
  },
  {
   "cell_type": "code",
   "execution_count": 13,
   "id": "eb8af3ed",
   "metadata": {},
   "outputs": [],
   "source": [
    "heads_other_response = {\"first_head\": \"She shall be struck with leprosy\",\n",
    "                        \"second_head\": \"She shall have a harsh voice\",\n",
    "                        \"third_head\": \"She shall become a poor peasant.\"}"
   ]
  },
  {
   "cell_type": "markdown",
   "id": "c713b036",
   "metadata": {},
   "source": [
    "So what happens if we have several characters?"
   ]
  },
  {
   "cell_type": "code",
   "execution_count": 14,
   "id": "4d1cb0bd",
   "metadata": {},
   "outputs": [],
   "source": [
    "# The [] structure lets us create a list of items\n",
    "maids = [\"good maid\", \"blackbird\", \"spiteful maid\",]\n",
    "\n",
    "# Was \"maids\" a sensible name for that list?\n",
    "# Maybe \"characters\" would have been better..."
   ]
  },
  {
   "cell_type": "markdown",
   "id": "0358da0a",
   "metadata": {},
   "source": [
    "How might the three heads behave differently towards them?\n",
    "\n",
    "Let's pick one:"
   ]
  },
  {
   "cell_type": "code",
   "execution_count": 15,
   "id": "c28a1087",
   "metadata": {},
   "outputs": [
    {
     "data": {
      "text/plain": [
       "'spiteful maid'"
      ]
     },
     "execution_count": 15,
     "metadata": {},
     "output_type": "execute_result"
    }
   ],
   "source": [
    "# We can select the n'th item from a list\n",
    "# although you should note the the first item is the [0]'th,\n",
    "# the second item is at index value [1], etc\n",
    "maid = maids[2]\n",
    "\n",
    "# Which one did we pick?\n",
    "maid"
   ]
  },
  {
   "cell_type": "markdown",
   "id": "1d7b900f",
   "metadata": {},
   "source": [
    "We can construct an incantation that behaves differently depending upon some tested condition:"
   ]
  },
  {
   "cell_type": "code",
   "execution_count": 16,
   "id": "cb3f03b1",
   "metadata": {},
   "outputs": [
    {
     "name": "stdout",
     "output_type": "stream",
     "text": [
      "For the spiteful maid, use the following response:\n",
      " {'first_head': 'She shall be struck with leprosy', 'second_head': 'She shall have a harsh voice', 'third_head': 'She shall become a poor peasant.'}\n"
     ]
    }
   ],
   "source": [
    "# We need to select the appropriate set of responses\n",
    "# depending on which maid appears\n",
    "if maid == \"good maid\":\n",
    "    response = heads_response\n",
    "elif maid == \"spiteful maid\":\n",
    "    response = heads_other_response\n",
    "\n",
    "\n",
    "# So what's the outcome here?\n",
    "print(f\"For the {maid}, use the following response:\\n\",\n",
    "      response)"
   ]
  },
  {
   "cell_type": "markdown",
   "id": "fa753e84",
   "metadata": {},
   "source": [
    "### A Long Story is Often Made From Simpler Parts\n",
    "\n",
    "Many longer stories are actually quite formulaic in their structure. They are often split into \"chapters\" or distinct phases, and each separate phase or part might have its own, often repeating, structure.\n",
    "\n",
    "And as with story, so with code.\n",
    "\n",
    "So let's put several of those pieces we've sketched and tried out previously in slightly more elaborate code story incantation:"
   ]
  },
  {
   "cell_type": "code",
   "execution_count": 17,
   "id": "223af877",
   "metadata": {
    "scrolled": false
   },
   "outputs": [
    {
     "name": "stdout",
     "output_type": "stream",
     "text": [
      "(The good maid appears...)\n",
      "\n",
      "And the first_head said:\n",
      "\n",
      "Wash me and comb me,\n",
      "And lay me down softly.\n",
      "And lay me on a bank to dry,\n",
      "That I may look pretty,\n",
      "When somebody passes by.\n",
      "\n",
      "\n",
      "And the second_head said:\n",
      "\n",
      "Wash me and comb me,\n",
      "And lay me down softly.\n",
      "And lay me on a bank to dry,\n",
      "That I may look pretty,\n",
      "When somebody passes by.\n",
      "\n",
      "\n",
      "And the third_head said:\n",
      "\n",
      "Wash me and comb me,\n",
      "And lay me down softly.\n",
      "And lay me on a bank to dry,\n",
      "That I may look pretty,\n",
      "When somebody passes by.\n",
      "\n",
      "\n",
      "Something happened...\n",
      "\n",
      "And the first_head said:\n",
      "-\"what a good maid...\"\n",
      "\n",
      "\n",
      "And the second_head said:\n",
      "-\"what a good maid...\"\n",
      "\n",
      "\n",
      "And the third_head said:\n",
      "-\"what a good maid...\"\n",
      "\n",
      "\n",
      "And the first_head said: She shall be beautiful\n",
      "And the second_head said: She shall have a sweet voice\n",
      "And the third_head said: She shall become queen.\n",
      "\n",
      "\n",
      "(The blackbird appears...)\n",
      "\n",
      "And the first_head said:\n",
      "\n",
      "Wash me and comb me,\n",
      "And lay me down softly.\n",
      "And lay me on a bank to dry,\n",
      "That I may look pretty,\n",
      "When somebody passes by.\n",
      "\n",
      "\n",
      "And the second_head said:\n",
      "\n",
      "Wash me and comb me,\n",
      "And lay me down softly.\n",
      "And lay me on a bank to dry,\n",
      "That I may look pretty,\n",
      "When somebody passes by.\n",
      "\n",
      "\n",
      "And the third_head said:\n",
      "\n",
      "Wash me and comb me,\n",
      "And lay me down softly.\n",
      "And lay me on a bank to dry,\n",
      "That I may look pretty,\n",
      "When somebody passes by.\n",
      "\n",
      "\n",
      "Nothing happened...\n",
      "\n",
      "(The spiteful maid appears...)\n",
      "\n",
      "And the first_head said:\n",
      "\n",
      "Wash me and comb me,\n",
      "And lay me down softly.\n",
      "And lay me on a bank to dry,\n",
      "That I may look pretty,\n",
      "When somebody passes by.\n",
      "\n",
      "\n",
      "And the second_head said:\n",
      "\n",
      "Wash me and comb me,\n",
      "And lay me down softly.\n",
      "And lay me on a bank to dry,\n",
      "That I may look pretty,\n",
      "When somebody passes by.\n",
      "\n",
      "\n",
      "And the third_head said:\n",
      "\n",
      "Wash me and comb me,\n",
      "And lay me down softly.\n",
      "And lay me on a bank to dry,\n",
      "That I may look pretty,\n",
      "When somebody passes by.\n",
      "\n",
      "\n",
      "Something happened...\n",
      "\n",
      "And the first_head said:\n",
      "-\"what a spiteful maid...\"\n",
      "\n",
      "\n",
      "And the second_head said:\n",
      "-\"what a spiteful maid...\"\n",
      "\n",
      "\n",
      "And the third_head said:\n",
      "-\"what a spiteful maid...\"\n",
      "\n",
      "\n",
      "And the first_head said: She shall be struck with leprosy\n",
      "And the second_head said: She shall have a harsh voice\n",
      "And the third_head said: She shall become a poor peasant.\n",
      "\n",
      "\n"
     ]
    }
   ],
   "source": [
    "# Make an ordered list of the heads\n",
    "# that we can call on later\n",
    "heads = [\"first_head\", \"second_head\", \"third_head\"]\n",
    "\n",
    "\n",
    "# Now let's see what happens for each of the\n",
    "# characters in our tale...\n",
    "for maid in maids:\n",
    "    print(f\"(The {maid} appears...)\\n\")\n",
    "    \n",
    "    say_refrain(three_heads_refrain)\n",
    "    \n",
    "    if maid == \"good maid\":\n",
    "        response = heads_response\n",
    "    elif maid == \"spiteful maid\":\n",
    "        response = heads_other_response\n",
    "    else:\n",
    "        print(\"Nothing happened...\\n\")\n",
    "        # do nothing more this time round\n",
    "        # go back to the top if there\n",
    "        # are more characters to consider\n",
    "        continue\n",
    "\n",
    "    print(\"Something happened...\\n\")\n",
    "    \n",
    "    say_refrain(f'-\"what a {maid}...\"')\n",
    "    \n",
    "    for head in heads:\n",
    "        print(f\"And the {head} said: {response[head]}\")\n",
    "        \n",
    "    # The \\n character is an end-of-line character\n",
    "    # but you had perhaps already started to suspect\n",
    "    # that's what it might be for yourself..?\n",
    "    print(\"\\n\")"
   ]
  },
  {
   "cell_type": "markdown",
   "id": "b7699155",
   "metadata": {},
   "source": [
    "And if we were so minded, we could take that chunk of code and put it in its own function, called `minimal_three_heads()`, perhaps.\n",
    "\n",
    "And then, whenever we wanted to tell that tale, we could just call out: _\"By the magic of code, I demand that you tell me the` minimal_three_heads()` story._\n",
    "\n",
    "And it would..."
   ]
  },
  {
   "cell_type": "markdown",
   "id": "d4521806",
   "metadata": {},
   "source": [
    "````{admonition} Running the code for yourself\n",
    ":class: dropdown\n",
    "\n",
    "If you would like to make the wishes and invoke the spells described in this chapter from the book version of the chapter, the easiest way is to click on the __rocket__ (_\"launch menu\"_) icon in the tool bar at the top of the book page and select the `Live Code` option.\n",
    "\n",
    "A status button will appear at the top of the content area of the page and display a series of progress messages as the book tries to summon a genie from a far off land.\n",
    "\n",
    "As soon as the genie has been summoned, you can scroll down to the code cell areas of the book and, as if by magic, they will have been transformed to cells that look a bit like the following:\n",
    "\n",
    "![](images/how-to-run-live-code.png)\n",
    "\n",
    "If you click the run button in a cell, the incantation will be invoked.\n",
    "\n",
    "When the *Live Code* mode is enabled, you can also edit the content of the code cells - so if you want the three heads to say something different, you can put words into their mouths by changing the appropriate part of the spell.\n",
    "\n",
    "The changes you make will not be saved: when you reload the page, the original code will reappear. To access the live code mode again, you will also have to perform the correct ritual again, which is to say: *click the rocket and select the appropriate menu option* again.\n",
    "\n",
    "Note that you need to call the various parts of the charm in the correct order: there's no point trying to cross the stream until you've found the axe to cut down the tree to make the bridge.\n",
    "\n",
    "```{admonition} Running the code using an interactive notebook editor\n",
    ":class: dropdown seealso\n",
    "As well as executing the code in a situated fashion \"inline\" in the book, you can also execute the code inside an interactive editing environment. See the section {ref}`running-code` for a tale about how you might achieve that...\n",
    "```\n",
    "\n",
    "So what are you waiting for..? You *know* you want to give it a go... Click that rocket!\n",
    "\n",
    "````"
   ]
  },
  {
   "cell_type": "markdown",
   "id": "e876d38c",
   "metadata": {},
   "source": [
    "And that's pretty much it for what code can do...\n",
    "\n",
    "But as you have seen, we also have the ability to create *our own* story functions, as well as reusing ones created and shared by other code-storytellers. And this means that we can quite quickly create what seem to be impossibly complex tales, pretty much off the top of our heads, using our own, made up, recipes, and some perhaps not-so-simple bundles of code developed incrementally by hundreds of other story-coders over tens of years.\n",
    "\n",
    "In the pages that follow, the code described is intended to move a story along, to get from here to there, to where the next thing becomes possible. And as a hero may collect various magical gifts whose usefulness only becomes apparent later in a storied quest, so too might we come across things that look at little peculiar, at first, until we realise how we might be able to make use of them later on."
   ]
  }
 ],
 "metadata": {
  "kernelspec": {
   "display_name": "Python 3",
   "language": "python",
   "name": "python3"
  },
  "language_info": {
   "codemirror_mode": {
    "name": "ipython",
    "version": 3
   },
   "file_extension": ".py",
   "mimetype": "text/x-python",
   "name": "python",
   "nbconvert_exporter": "python",
   "pygments_lexer": "ipython3",
   "version": "3.9.8"
  }
 },
 "nbformat": 4,
 "nbformat_minor": 5
}
