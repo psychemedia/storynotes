{
 "cells": [
  {
   "cell_type": "markdown",
   "id": "a5730fd1",
   "metadata": {},
   "source": [
    "# How To Read This Book (Do Not Be Afraid)\n",
    "\n",
    "This book takes no prisoners in that it exposes you to various arcane spells that invoke untold magical powers...\n",
    "\n",
    "In part, it may *look* quite technical, and in places it *is* quite technical, but *DON'T PANIC*: it is still intended to be read *as a story*, even if you skip over the bits where the arcane runes and squiggles make your head go fuzzy, and your eyes go blurry, and you just want to run away, terrified."
   ]
  },
  {
   "cell_type": "markdown",
   "id": "c3c2dde8",
   "metadata": {},
   "source": [
    "If you skim through the book, you will notice several very striking stylistic elements.\n",
    "\n",
    "In the first case, there is straightforward text, such as this."
   ]
  },
  {
   "cell_type": "markdown",
   "id": "5bef7b0c",
   "metadata": {},
   "source": [
    "```{note}\n",
    "Text might also appear in stylised boxes, perhaps as an aside, or perhaps as note or warning. \n",
    "```"
   ]
  },
  {
   "cell_type": "markdown",
   "id": "f6b71a7c",
   "metadata": {},
   "source": [
    "As well as \"pure text\", the document includes *programming code*. As you may well be versed in story traditions, you can think of programming code as magical incantations that a wizard or witch might invoke to order a summoned demon or spirit to perform some sort of task."
   ]
  },
  {
   "cell_type": "code",
   "execution_count": 1,
   "id": "b1aa894c",
   "metadata": {},
   "outputs": [
    {
     "name": "stdout",
     "output_type": "stream",
     "text": [
      "Once upon a time...\n"
     ]
    }
   ],
   "source": [
    "# Areas like this contain programming code\n",
    "# Some lines start with a # and are known as \"comments\"\n",
    "\n",
    "# They are not instructions to the computer...\n",
    "\n",
    "# ...they are an aside to you the reader, you the listener,\n",
    "# to help explain a plot point, or characteristic of the\n",
    "# evil king that need to better understand his actions\n",
    "\n",
    "# Then, there is the code\n",
    "# The actual incantation that instructs the demon computer\n",
    "# to do something...\n",
    "\n",
    "print(\"Once upon a time...\")\n",
    "\n",
    "# And then, read on..., there is the result of that invocation\n",
    "# (Look down...)"
   ]
  },
  {
   "cell_type": "markdown",
   "id": "0d2962c6",
   "metadata": {},
   "source": [
    "*Did you see what just happened?*\n",
    "\n",
    "The computer is the demon, or the powers that are summoned and controlled by the magician. The code is the spell, or the incantation, uttered by the magician.\n",
    "\n",
    "Just like the words of a spell as used in a story may make no sense to you, the teller, or you, the audience, the programming code may make no sense to you, the reader of this text.\n",
    "\n",
    "But just as there may be recognisable elements in a charm, such as the name of the person who will fall in love with a supplicant who has gone to ask the cunning woman who lives at the edge of the forest for help, and who has spoken who knows what garbled language to make it so, you may also recognise certain words or elements in bits of programming code.\n",
    "\n",
    "The URL, or web location, of an web page, for example. Or a search term that forms part of a magical query.\n",
    "\n",
    "So there will be code. There will be incantations. Nothing is hidden. All that this book does, and is, and all that is revealed within it, was generated through the telling, or execution, of the code within it and the rendering of any outputs the code produced."
   ]
  },
  {
   "cell_type": "markdown",
   "id": "c0b09ed9",
   "metadata": {},
   "source": [
    "## Stories Not Theatre\n",
    "\n",
    "At this point you may be wondering *why* there is such a focus on code to work with story data sources, rather than just making a website that makes those resources easy to access.\n",
    "\n",
    "That's because user interfaces are hard to produce, hard to maintain, hard to get right right, and often limiting in what they allow the user to do. The designer makes certain decisions about what they think the user is likely to want to do, and someone then makes various decisions about how to support that behaviour, decisions that lead to a particular user interface.\n",
    "\n",
    "By sticking with code, we are focusing on the bare bones of the story. This is not theatre. The production of a theatre play is a user interface onto a story. We're working with the story. Stick with it..."
   ]
  },
  {
   "cell_type": "markdown",
   "id": "d94f183d",
   "metadata": {},
   "source": [
    "## Some Tricks to Help You Recognise Code Tropes and Archetypes\n",
    "\n",
    "When telling a folk tale or a fairy tale from a particular tradition, we rely on tropes and archetypes. In Germanic fairy tales, the evil witch who lives in the forest, the trolls and giants of Scandinavian tales, the dragon-serpents of Eastern and Eastern European fairy tales, and so on.\n",
    "\n",
    "In a story, we invoke archetypes we can rely on to perform certain  certain roles:\n",
    "\n",
    "*Once, there was a king...*\n",
    "\n",
    "Sometimes, we need to take the shortcut further:\n",
    "\n",
    "*Once, there was an __evil__ king...*\n",
    "\n",
    "Sometimes, we situate the king:\n",
    "\n",
    "*Once, __in a land far far away__, there was an evil king...*\n",
    "\n",
    "It's the same with code:"
   ]
  },
  {
   "cell_type": "code",
   "execution_count": 2,
   "id": "2d6fdae4",
   "metadata": {},
   "outputs": [],
   "source": [
    "# In a far off land, was a king, an evil king\n",
    "from IPython.display import YouTubeVideo"
   ]
  },
  {
   "cell_type": "markdown",
   "id": "2f55afb5",
   "metadata": {},
   "source": [
    "Having invoked the character, we can get it do something:\n",
    "\n",
    "*Every so often, the vizier would pass the evil king a note that caused the king to behave in a particular way.*\n",
    "\n",
    "As with code:"
   ]
  },
  {
   "cell_type": "code",
   "execution_count": 3,
   "id": "22157c46",
   "metadata": {},
   "outputs": [
    {
     "data": {
      "text/html": [
       "\n",
       "        <iframe\n",
       "            width=\"400\"\n",
       "            height=\"300\"\n",
       "            src=\"https://www.youtube.com/embed/https://www.youtube.com/watch?v=KdnGPQaICjk\"\n",
       "            frameborder=\"0\"\n",
       "            allowfullscreen\n",
       "            \n",
       "        ></iframe>\n",
       "        "
      ],
      "text/plain": [
       "<IPython.lib.display.YouTubeVideo at 0x109cd2c70>"
      ]
     },
     "execution_count": 3,
     "metadata": {},
     "output_type": "execute_result"
    }
   ],
   "source": [
    "# We put the message onto a piece of paper\n",
    "video_url = \"https://www.youtube.com/watch?v=KdnGPQaICjk\"\n",
    "# You might perhaps have even recognised a part of the\n",
    "# previous line of the incantation as giving\n",
    "# the web address of a YouTube page\n",
    "\n",
    "# And pass the message to the king for him to read\n",
    "YouTubeVideo(video_url)"
   ]
  },
  {
   "cell_type": "markdown",
   "id": "90ce95b8",
   "metadata": {},
   "source": [
    "### Defining Our Own Shortcuts, Spells and Incantations\n",
    "\n",
    "Sometimes, we need to package up a bit of the story so that we can reuse it. Or we need to teach the audience something they can do for us.\n",
    "\n",
    "```text\n",
    "When the man gets on the horse with the fairy queen, you say:\n",
    "\n",
    "And they rode,\n",
    "and they rode,\n",
    "and they merrily, merrily rode,\n",
    "and they rode for a night and a day.\n",
    "```\n",
    "\n",
    "It's the same with code:"
   ]
  },
  {
   "cell_type": "code",
   "execution_count": 4,
   "id": "33be5847",
   "metadata": {},
   "outputs": [],
   "source": [
    "rhyme = \"\"\"\n",
    "And they rode,\n",
    "and they rode,\n",
    "and they merrily, merrily rode,\n",
    "and they rode for a night and a day.\n",
    "\"\"\"\n",
    "\n",
    "def man_gets_on_horse(action):\n",
    "    \"\"\"Do this when the man gets on the horse.\"\"\"\n",
    "    print(action)"
   ]
  },
  {
   "cell_type": "markdown",
   "id": "027617de",
   "metadata": {},
   "source": [
    "For example:"
   ]
  },
  {
   "cell_type": "code",
   "execution_count": 5,
   "id": "ef5baa3a",
   "metadata": {},
   "outputs": [
    {
     "name": "stdout",
     "output_type": "stream",
     "text": [
      "\n",
      "And they rode,\n",
      "and they rode,\n",
      "and they merrily, merrily rode,\n",
      "and they rode for a night and a day.\n",
      "\n"
     ]
    }
   ],
   "source": [
    "man_gets_on_horse(rhyme)"
   ]
  },
  {
   "cell_type": "markdown",
   "id": "587a0f6b",
   "metadata": {},
   "source": [
    "### Again, and Again, and Again, and Again...\n",
    "\n",
    "Sometimes, we want to do the same thing several times.\n",
    "\n",
    "You may recall the three heads on the well who each made the same request?\n",
    "\n",
    "So does the following piece of code:"
   ]
  },
  {
   "cell_type": "code",
   "execution_count": 6,
   "id": "be390df7",
   "metadata": {},
   "outputs": [
    {
     "name": "stdout",
     "output_type": "stream",
     "text": [
      "And the first_head said:\n",
      "\n",
      "Wash me and comb me,\n",
      "And lay me down softly.\n",
      "And lay me on a bank to dry,\n",
      "That I may look pretty,\n",
      "When somebody passes by.\n",
      "\n",
      "\n",
      "And the second_head said:\n",
      "\n",
      "Wash me and comb me,\n",
      "And lay me down softly.\n",
      "And lay me on a bank to dry,\n",
      "That I may look pretty,\n",
      "When somebody passes by.\n",
      "\n",
      "\n",
      "And the third_head said:\n",
      "\n",
      "Wash me and comb me,\n",
      "And lay me down softly.\n",
      "And lay me on a bank to dry,\n",
      "That I may look pretty,\n",
      "When somebody passes by.\n",
      "\n",
      "\n"
     ]
    }
   ],
   "source": [
    "three_heads_refrain = \"\"\"\n",
    "Wash me and comb me,\n",
    "And lay me down softly.\n",
    "And lay me on a bank to dry,\n",
    "That I may look pretty,\n",
    "When somebody passes by.\"\"\"\n",
    "\n",
    "for head in [\"first_head\", \"second_head\", \"third_head\"]:\n",
    "    print(f\"And the {head} said:\\n{three_heads_refrain}\\n\\n\")"
   ]
  },
  {
   "cell_type": "markdown",
   "id": "d55eb2bf",
   "metadata": {},
   "source": [
    "We can make it easier to repeat the refrain by putting that code into another reusable function:"
   ]
  },
  {
   "cell_type": "code",
   "execution_count": 7,
   "id": "4073a0f2",
   "metadata": {},
   "outputs": [],
   "source": [
    "# A function is like a multi-step spell we've made up\n",
    "# and given a name so that we can invoke it more easily.\n",
    "# The spell can use various different ingredients that\n",
    "# are passed to it when its name is invoked\n",
    "def say_refrain(refrain):\n",
    "    \"\"\"Repeat the refrain.\"\"\"\n",
    "    # The named spell contains one or more instructions\n",
    "    # that are carried out whenever the function's name is invoked.\n",
    "    for head in [\"first_head\", \"second_head\", \"third_head\"]:\n",
    "        print(f\"And the {head} said:\\n{refrain}\\n\\n\")"
   ]
  },
  {
   "cell_type": "markdown",
   "id": "c1310794",
   "metadata": {},
   "source": [
    "The `\"\"\"triple quoted text\"\"\"` at the start of the spell is actually a \"note-to-self\" that can remind us what the spell does:"
   ]
  },
  {
   "cell_type": "code",
   "execution_count": 8,
   "id": "3de692c7",
   "metadata": {},
   "outputs": [
    {
     "name": "stdout",
     "output_type": "stream",
     "text": [
      "Help on function say_refrain in module __main__:\n",
      "\n",
      "say_refrain(refrain)\n",
      "    Repeat the refrain.\n",
      "\n"
     ]
    }
   ],
   "source": [
    "help(say_refrain)"
   ]
  },
  {
   "cell_type": "markdown",
   "id": "5b43178f",
   "metadata": {},
   "source": [
    "To invoke the spell at another time, all we have to do is say the following in a code cell:\n",
    "\n",
    "`say_refrain(three_heads_refrain)`"
   ]
  },
  {
   "cell_type": "markdown",
   "id": "46634d29",
   "metadata": {},
   "source": [
    "### Call and Response\n",
    "\n",
    "If you've even been to a storytelling club or story festival, you're probably familiar with the idea of \"cric-crac\", a call and response technique used by the storyteller - who calls out \"cric\" - to keep an audience - who respond with \"crac\" - engaged, particularly during a long story, or between tales.\n",
    "\n",
    "In code, we can use a simple spell component that gives us a basis for simple, and direct, call-response behaviours:"
   ]
  },
  {
   "cell_type": "code",
   "execution_count": 9,
   "id": "3f06dae0",
   "metadata": {},
   "outputs": [
    {
     "data": {
      "text/plain": [
       "'crac'"
      ]
     },
     "execution_count": 9,
     "metadata": {},
     "output_type": "execute_result"
    }
   ],
   "source": [
    "# The curly brackets, {}, defines a \"dictionary\"\n",
    "# which contains one or more \"key:value\" pairs.\n",
    "# Provide the key, and it returns the value\n",
    "cric_crac = {\"cric\": \"crac\"}\n",
    "\n",
    "cric_crac[\"cric\"]"
   ]
  },
  {
   "cell_type": "markdown",
   "id": "549c2d30",
   "metadata": {},
   "source": [
    "### If You Bring Me the Head of a Dragon, You May Marry the Princess... \n",
    "\n",
    "Let's go back to the three heads.\n",
    "\n",
    "You might recall that each of the heads gave a different gift to the good natured heroine.\n",
    "\n",
    "That is, the gift given by each head was *conditional* on which head gave the gift.\n",
    "\n",
    "We can create an incantation that will also perform different actions based on what we are currently doing or talking about.\n",
    "\n",
    "Here's the set-up..."
   ]
  },
  {
   "cell_type": "code",
   "execution_count": 10,
   "id": "79f34f3e",
   "metadata": {},
   "outputs": [],
   "source": [
    "heads_question = 'What shall we give her for treating us so kindly?'\n",
    "\n",
    "heads_response = {\"first_head\": \"She shall be beautiful\",\n",
    "                  \"second_head\": \"She shall have a sweet voice\",\n",
    "                  \"third_head\": \"She shall become queen.\"}"
   ]
  },
  {
   "cell_type": "markdown",
   "id": "0eb045b7",
   "metadata": {},
   "source": [
    "What do you think might happen next?"
   ]
  },
  {
   "cell_type": "code",
   "execution_count": 11,
   "id": "d2116120",
   "metadata": {},
   "outputs": [
    {
     "name": "stdout",
     "output_type": "stream",
     "text": [
      "What shall we give her for treating us so kindly? \n",
      "\n",
      "- She shall be beautiful\n",
      "- She shall have a sweet voice\n",
      "- She shall become queen.\n"
     ]
    }
   ],
   "source": [
    "print(heads_question,\"\\n\")\n",
    "\n",
    "for head in [\"first_head\", \"second_head\", \"third_head\"]:\n",
    "    print(f\"- {heads_response[head]}\")"
   ]
  },
  {
   "cell_type": "markdown",
   "id": "21250dac",
   "metadata": {},
   "source": [
    "In the same story, the three heads also had a different set of decisions available for the spiteful maid."
   ]
  },
  {
   "cell_type": "code",
   "execution_count": 12,
   "id": "eb8af3ed",
   "metadata": {},
   "outputs": [],
   "source": [
    "heads_other_response = {\"first_head\": \"She shall be struck with leprosy\",\n",
    "                        \"second_head\": \"She shall have a harsh voice\",\n",
    "                        \"third_head\": \"She shall become a poor peasant.\"}"
   ]
  },
  {
   "cell_type": "markdown",
   "id": "c713b036",
   "metadata": {},
   "source": [
    "So what happens if we have several characters?"
   ]
  },
  {
   "cell_type": "code",
   "execution_count": 13,
   "id": "4d1cb0bd",
   "metadata": {},
   "outputs": [],
   "source": [
    "# The [] structure lets us create a list of items\n",
    "maids = [\"good maid\", \"blackbird\", \"spiteful maid\",]\n",
    "\n",
    "# Was \"maids\" a sensible name for that list?\n",
    "# Maybe \"characters\" would have been better..."
   ]
  },
  {
   "cell_type": "markdown",
   "id": "0358da0a",
   "metadata": {},
   "source": [
    "How might the three heads behave differently towards them?\n",
    "\n",
    "Let's pick one:"
   ]
  },
  {
   "cell_type": "code",
   "execution_count": 14,
   "id": "c28a1087",
   "metadata": {},
   "outputs": [
    {
     "data": {
      "text/plain": [
       "'spiteful maid'"
      ]
     },
     "execution_count": 14,
     "metadata": {},
     "output_type": "execute_result"
    }
   ],
   "source": [
    "# We can select the n'th item from a list\n",
    "# although you should note the the first item is the [0]'th,\n",
    "# the second item is at index value [1], etc\n",
    "maid = maids[2]\n",
    "\n",
    "# Which one did we pick?\n",
    "maid"
   ]
  },
  {
   "cell_type": "markdown",
   "id": "1d7b900f",
   "metadata": {},
   "source": [
    "We can construct an incantation that behaves differently depending upon some tested condition:"
   ]
  },
  {
   "cell_type": "code",
   "execution_count": 15,
   "id": "cb3f03b1",
   "metadata": {},
   "outputs": [
    {
     "name": "stdout",
     "output_type": "stream",
     "text": [
      "For the spiteful maid, use the following response:\n"
     ]
    },
    {
     "data": {
      "text/plain": [
       "{'first_head': 'She shall be struck with leprosy',\n",
       " 'second_head': 'She shall have a harsh voice',\n",
       " 'third_head': 'She shall become a poor peasant.'}"
      ]
     },
     "execution_count": 15,
     "metadata": {},
     "output_type": "execute_result"
    }
   ],
   "source": [
    "# We need to select the appropriate set of responses\n",
    "# depending on which maid appears\n",
    "if maid == \"good maid\":\n",
    "    response = heads_response\n",
    "elif maid == \"spiteful maid\":\n",
    "    response = heads_other_response\n",
    "\n",
    "\n",
    "# So what's the outcome here?\n",
    "print(f\"For the {maid}, use the following response:\")\n",
    "response"
   ]
  },
  {
   "cell_type": "markdown",
   "id": "fa753e84",
   "metadata": {},
   "source": [
    "### A Long Story is Often Made From Simpler Parts\n",
    "\n",
    "Many longer stories are actually quite formulaic in their structure. They are often split into \"chapters\" or distinct phases, and each separate phase or part might have its own, often repeating, structure.\n",
    "\n",
    "And as with story, so with code.\n",
    "\n",
    "So let's put several of those pieces we've sketched and tried out previously in slightly more elaborate code story incantation:"
   ]
  },
  {
   "cell_type": "code",
   "execution_count": 16,
   "id": "223af877",
   "metadata": {
    "scrolled": false
   },
   "outputs": [
    {
     "name": "stdout",
     "output_type": "stream",
     "text": [
      "(The good maid appears...)\n",
      "\n",
      "And the first_head said:\n",
      "\n",
      "Wash me and comb me,\n",
      "And lay me down softly.\n",
      "And lay me on a bank to dry,\n",
      "That I may look pretty,\n",
      "When somebody passes by.\n",
      "\n",
      "\n",
      "And the second_head said:\n",
      "\n",
      "Wash me and comb me,\n",
      "And lay me down softly.\n",
      "And lay me on a bank to dry,\n",
      "That I may look pretty,\n",
      "When somebody passes by.\n",
      "\n",
      "\n",
      "And the third_head said:\n",
      "\n",
      "Wash me and comb me,\n",
      "And lay me down softly.\n",
      "And lay me on a bank to dry,\n",
      "That I may look pretty,\n",
      "When somebody passes by.\n",
      "\n",
      "\n",
      "Something happened...\n",
      "\n",
      "And the first_head said:\n",
      "-\"what a good maid...\"\n",
      "\n",
      "\n",
      "And the second_head said:\n",
      "-\"what a good maid...\"\n",
      "\n",
      "\n",
      "And the third_head said:\n",
      "-\"what a good maid...\"\n",
      "\n",
      "\n",
      "And the first_head said: She shall be beautiful\n",
      "And the second_head said: She shall have a sweet voice\n",
      "And the third_head said: She shall become queen.\n",
      "\n",
      "\n",
      "(The blackbird appears...)\n",
      "\n",
      "And the first_head said:\n",
      "\n",
      "Wash me and comb me,\n",
      "And lay me down softly.\n",
      "And lay me on a bank to dry,\n",
      "That I may look pretty,\n",
      "When somebody passes by.\n",
      "\n",
      "\n",
      "And the second_head said:\n",
      "\n",
      "Wash me and comb me,\n",
      "And lay me down softly.\n",
      "And lay me on a bank to dry,\n",
      "That I may look pretty,\n",
      "When somebody passes by.\n",
      "\n",
      "\n",
      "And the third_head said:\n",
      "\n",
      "Wash me and comb me,\n",
      "And lay me down softly.\n",
      "And lay me on a bank to dry,\n",
      "That I may look pretty,\n",
      "When somebody passes by.\n",
      "\n",
      "\n",
      "Nothing happened...\n",
      "\n",
      "(The spiteful maid appears...)\n",
      "\n",
      "And the first_head said:\n",
      "\n",
      "Wash me and comb me,\n",
      "And lay me down softly.\n",
      "And lay me on a bank to dry,\n",
      "That I may look pretty,\n",
      "When somebody passes by.\n",
      "\n",
      "\n",
      "And the second_head said:\n",
      "\n",
      "Wash me and comb me,\n",
      "And lay me down softly.\n",
      "And lay me on a bank to dry,\n",
      "That I may look pretty,\n",
      "When somebody passes by.\n",
      "\n",
      "\n",
      "And the third_head said:\n",
      "\n",
      "Wash me and comb me,\n",
      "And lay me down softly.\n",
      "And lay me on a bank to dry,\n",
      "That I may look pretty,\n",
      "When somebody passes by.\n",
      "\n",
      "\n",
      "Something happened...\n",
      "\n",
      "And the first_head said:\n",
      "-\"what a spiteful maid...\"\n",
      "\n",
      "\n",
      "And the second_head said:\n",
      "-\"what a spiteful maid...\"\n",
      "\n",
      "\n",
      "And the third_head said:\n",
      "-\"what a spiteful maid...\"\n",
      "\n",
      "\n",
      "And the first_head said: She shall be struck with leprosy\n",
      "And the second_head said: She shall have a harsh voice\n",
      "And the third_head said: She shall become a poor peasant.\n",
      "\n",
      "\n"
     ]
    }
   ],
   "source": [
    "# Make am ordered list of the heads\n",
    "# that we can call on later\n",
    "heads = [\"first_head\", \"second_head\", \"third_head\"]\n",
    "\n",
    "\n",
    "# Now let's see what happens for each of the\n",
    "# characters in our tale...\n",
    "for maid in maids:\n",
    "    print(f\"(The {maid} appears...)\\n\")\n",
    "    \n",
    "    say_refrain(three_heads_refrain)\n",
    "    \n",
    "    if maid == \"good maid\":\n",
    "        response = heads_response\n",
    "    elif maid == \"spiteful maid\":\n",
    "        response = heads_other_response\n",
    "    else:\n",
    "        print(\"Nothing happened...\\n\")\n",
    "        # do nothing more this time round\n",
    "        # go back to the top if there's more to consider\n",
    "        continue\n",
    "\n",
    "    print(\"Something happened...\\n\")\n",
    "    \n",
    "    say_refrain(f'-\"what a {maid}...\"')\n",
    "    \n",
    "    for head in heads:\n",
    "        print(f\"And the {head} said: {response[head]}\")\n",
    "        \n",
    "    # The \\n character is an end-of-line character\n",
    "    # but you had perhaps already started to suspect\n",
    "    # that's what it might be for yourself..?\n",
    "    print(\"\\n\")"
   ]
  },
  {
   "cell_type": "markdown",
   "id": "e876d38c",
   "metadata": {},
   "source": [
    "And that's pretty much it for what code can do...\n",
    "\n",
    "But as you have seen, the ability to create *our own* story functions, as well as reusing ones created and shared by other code-storytellers, means that we can quite quickly create what seem to be impossibly complex tales pretty much off the top of our heads."
   ]
  }
 ],
 "metadata": {
  "kernelspec": {
   "display_name": "Python 3",
   "language": "python",
   "name": "python3"
  },
  "language_info": {
   "codemirror_mode": {
    "name": "ipython",
    "version": 3
   },
   "file_extension": ".py",
   "mimetype": "text/x-python",
   "name": "python",
   "nbconvert_exporter": "python",
   "pygments_lexer": "ipython3",
   "version": "3.9.8"
  }
 },
 "nbformat": 4,
 "nbformat_minor": 5
}
