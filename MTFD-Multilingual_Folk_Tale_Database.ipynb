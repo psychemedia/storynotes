{
 "cells": [
  {
   "cell_type": "markdown",
   "id": "83338f9e",
   "metadata": {},
   "source": [
    "# Multilingual Folk Tale Database (MTFD)\n",
    "\n",
    "The Multilingual Folk Tale Database (MTFD) [http://www.mftd.org/] publishes a wide ranging collection of folk tales across many languages.\n",
    "\n",
    "In this notebook, we will create a simple scraper for grabbing English language folktales from the database into a simple file-based SQLite database.\n",
    "\n",
    "Let's start off by loading in a couple of packages to support the cacheing of the web pages we'll be downloading to populate the database.\n",
    "\n",
    "```{note}\n",
    "\"Cacheing\" the pages means storing a local copy of them. This means we only need to grab the page from the webserver once and then work with a local copy of it if we need to call it again, as for example when developing the scripts used to populate the database.)\n",
    "```"
   ]
  },
  {
   "cell_type": "code",
   "execution_count": 1,
   "id": "7268dbea",
   "metadata": {},
   "outputs": [],
   "source": [
    "import requests_cache\n",
    "from datetime import timedelta\n",
    "\n",
    "# \n",
    "requests_cache.install_cache('web_cache', backend='sqlite',\n",
    "                             expire_after=timedelta(days=100))"
   ]
  },
  {
   "cell_type": "markdown",
   "id": "a521be6c",
   "metadata": {},
   "source": [
    "## MTFD English Stories\n",
    "\n",
    "We can find a listing of English stories contained in the *Multilingual Folk Tale Database* from http://www.mftd.org/index.php?action=browser&class=language&val=English. This is a paged representation, so to scrape the whole database we will have to navigate across multiple results pagess via a *next page* link."
   ]
  },
  {
   "cell_type": "code",
   "execution_count": 2,
   "id": "7da8d4fc",
   "metadata": {},
   "outputs": [],
   "source": [
    "english_story_index_url = \"http://www.mftd.org/index.php?action=browser&class=language&val=English\""
   ]
  },
  {
   "cell_type": "code",
   "execution_count": 3,
   "id": "fd60ca5f",
   "metadata": {},
   "outputs": [],
   "source": [
    "from requests_html import HTMLSession\n",
    " \n",
    "session = HTMLSession()\n",
    "index_response = session.get(english_story_index_url)"
   ]
  },
  {
   "cell_type": "markdown",
   "id": "b1d77838",
   "metadata": {},
   "source": [
    "The index page provides a summary of key information and then links to a story page. The story page includes the story title and original title, (for example, if is a translated work), as well as the story text. All this information is rendered from an XML file, the filepath and name of which is available from the index page. (The HTML page for each story is keyed by the XML file path.)\n",
    "\n",
    "What this means is that we don't need to scrape the story page if we can figure out how to parse the XML documents. Alternatively, we can scrape the actual story page. Or we might attempt a fusion of the two, extracting some data from the HTML page, and some from the XML document, although this comes at the cost of downloading both the XML and HTML files from MTFD, rather than just one of them.\n",
    "\n",
    "Let's start by grabbing the list of XML links from a single index page.\n",
    "\n",
    "The links are all contained in the rows of a single table:\n",
    "\n",
    "![](images/MFTD_index_page_structure.png)\n",
    "\n",
    "If we grab the table, we can then pull the links from it:"
   ]
  },
  {
   "cell_type": "code",
   "execution_count": 4,
   "id": "e6892587",
   "metadata": {},
   "outputs": [
    {
     "data": {
      "text/plain": [
       "['index.php?action=file&cid=xmlfiles/eng/trans-1849.xml',\n",
       " 'index.php?action=file&cid=xmlfiles/eng/trans-7953.xml',\n",
       " 'index.php?action=file&cid=xmlfiles/eng/trans-8007.xml']"
      ]
     },
     "execution_count": 4,
     "metadata": {},
     "output_type": "execute_result"
    }
   ],
   "source": [
    "# Scrape links from table\n",
    "link_elements = index_response.html.find('table')[0].find(\"a\")\n",
    "\n",
    "# Get href link from the link_elements\n",
    "links = [link_element.attrs[\"href\"] for link_element in link_elements]\n",
    "\n",
    "links[:3]"
   ]
  },
  {
   "cell_type": "markdown",
   "id": "9d120c67",
   "metadata": {},
   "source": [
    "We can then tidy this up to get the XML file path. By observation, if we split each link on the `=` character, the filepath is then given as the last part (list index value `-1`):"
   ]
  },
  {
   "cell_type": "code",
   "execution_count": 5,
   "id": "42bac1fe",
   "metadata": {},
   "outputs": [
    {
     "data": {
      "text/plain": [
       "['xmlfiles/eng/trans-1849.xml',\n",
       " 'xmlfiles/eng/trans-7953.xml',\n",
       " 'xmlfiles/eng/trans-8007.xml']"
      ]
     },
     "execution_count": 5,
     "metadata": {},
     "output_type": "execute_result"
    }
   ],
   "source": [
    "links = [link.split(\"=\")[-1] for link in links]\n",
    "links[:3]"
   ]
  },
  {
   "cell_type": "markdown",
   "id": "626d2440",
   "metadata": {},
   "source": [
    "Defining a simple function to extract the links from the page lets us grab the links using a single line of code:"
   ]
  },
  {
   "cell_type": "code",
   "execution_count": 6,
   "id": "d971ed35",
   "metadata": {},
   "outputs": [
    {
     "data": {
      "text/plain": [
       "['xmlfiles/eng/trans-1849.xml',\n",
       " 'xmlfiles/eng/trans-7953.xml',\n",
       " 'xmlfiles/eng/trans-8007.xml']"
      ]
     },
     "execution_count": 6,
     "metadata": {},
     "output_type": "execute_result"
    }
   ],
   "source": [
    "def get_xml_paths(response):\n",
    "    \"\"\"Get XML links from index page.\"\"\"\n",
    "    \n",
    "    # Scrape links from table\n",
    "    link_elements = response.html.find('table')[0].find(\"a\")\n",
    "\n",
    "    # Get href link from the link_elements\n",
    "    links = [link_element.attrs[\"href\"] for link_element in link_elements]\n",
    "\n",
    "    # Tidy links\n",
    "    links = [link.split(\"=\")[-1] for link in links]\n",
    "    \n",
    "    return links\n",
    "\n",
    "get_xml_paths(index_response)[:3]"
   ]
  },
  {
   "cell_type": "markdown",
   "id": "a172df5d",
   "metadata": {},
   "source": [
    "Next, we need to find a way of iterating over all the index pages.\n",
    "\n",
    "At the top of the page is a `next` link. If we search for the anchor containing the text `next`, we can inspect that link:"
   ]
  },
  {
   "cell_type": "code",
   "execution_count": 7,
   "id": "51f9e49e",
   "metadata": {},
   "outputs": [
    {
     "data": {
      "text/plain": [
       "[<Element 'a' onclick=\"document.getElementById('rsstart').value ='100'; document.resubmit.submit();\">]"
      ]
     },
     "execution_count": 7,
     "metadata": {},
     "output_type": "execute_result"
    }
   ],
   "source": [
    "next_link = index_response.html.find(\"a\", containing = \"next\")\n",
    "next_link"
   ]
  },
  {
   "cell_type": "markdown",
   "id": "6c0b0bd9",
   "metadata": {},
   "source": [
    "Clicking the link doesn't actually work for me, but by a bit of guess work, we find that if we add the parameter `&start=` to the URL we can retrieve the next 100 records starting from the supplied start value."
   ]
  },
  {
   "cell_type": "code",
   "execution_count": 8,
   "id": "5b06d7ae",
   "metadata": {},
   "outputs": [
    {
     "data": {
      "text/plain": [
       "(<Result () {'next': '100'}>, 100)"
      ]
     },
     "execution_count": 8,
     "metadata": {},
     "output_type": "execute_result"
    }
   ],
   "source": [
    "from parse import parse\n",
    "\n",
    "next_val = parse(\"document.getElementById('rsstart').value ='{next}'; document.resubmit.submit();\",\n",
    "                 next_link[0].attrs['onclick'])\n",
    "\n",
    "next_val, int(next_val['next'])"
   ]
  },
  {
   "cell_type": "markdown",
   "id": "cba1b43e",
   "metadata": {},
   "source": [
    "We can keep doing this, adding 100 to the `start` value each time, until no `next` link appears on the page.\n",
    "\n",
    "To simplify the creation of the URL, we can create a template for it, into which we can pass the start value:"
   ]
  },
  {
   "cell_type": "code",
   "execution_count": 9,
   "id": "4934f142",
   "metadata": {},
   "outputs": [],
   "source": [
    "url_template = \"http://www.mftd.org/index.php?action=browser&class=language&val=English&start={start}\""
   ]
  },
  {
   "cell_type": "code",
   "execution_count": 10,
   "id": "72ab9392",
   "metadata": {},
   "outputs": [
    {
     "data": {
      "text/plain": [
       "1717"
      ]
     },
     "execution_count": 10,
     "metadata": {},
     "output_type": "execute_result"
    }
   ],
   "source": [
    "# Get the XML links from the first index page\n",
    "response = session.get(english_story_index_url)\n",
    "xml_paths_full = get_xml_paths(response)\n",
    "next_link = response.html.find(\"a\", containing = \"next\")\n",
    "\n",
    "while next_link:\n",
    "    # Find the next page index\n",
    "    next_val = parse(\"document.getElementById('rsstart').value ='{next}'; document.resubmit.submit();\",\n",
    "                 next_link[0].attrs['onclick'])\n",
    "    start = next_val['next']\n",
    "    \n",
    "    # Generate the next page URL\n",
    "    next_url = url_template.format(start=start)\n",
    "    \n",
    "    #Get the next page\n",
    "    response = session.get(next_url)\n",
    "    \n",
    "    # Get the XML links\n",
    "    xml_paths = get_xml_paths(response)\n",
    "    \n",
    "    # Add scraped links to full links list\n",
    "    xml_paths_full.extend(xml_paths)\n",
    "    \n",
    "    # Is there another page?\n",
    "    next_link = response.html.find(\"a\", containing = \"next\")\n",
    "    \n",
    "len(xml_paths_full)"
   ]
  },
  {
   "cell_type": "markdown",
   "id": "444421b4",
   "metadata": {},
   "source": [
    "## Parsing HTML Pages\n",
    "\n",
    "The HTML page for each story is keyed by the XML path. We can use a templated string to generate the HTML page URL:"
   ]
  },
  {
   "cell_type": "code",
   "execution_count": 11,
   "id": "6a76674a",
   "metadata": {},
   "outputs": [
    {
     "data": {
      "text/plain": [
       "'http://www.mftd.org/index.php?action=file&cid=xmlfiles/eng/trans-5362.xml'"
      ]
     },
     "execution_count": 11,
     "metadata": {},
     "output_type": "execute_result"
    }
   ],
   "source": [
    "html_url_template = \"http://www.mftd.org/index.php?action=file&cid={html_path}\"\n",
    "\n",
    "html_url = html_url_template.format(html_path=xml_paths_full[685])\n",
    "html_url"
   ]
  },
  {
   "cell_type": "markdown",
   "id": "e1da209a",
   "metadata": {},
   "source": [
    "And grab the page:"
   ]
  },
  {
   "cell_type": "code",
   "execution_count": 12,
   "id": "e2ee0b82",
   "metadata": {},
   "outputs": [],
   "source": [
    "html_response = session.get(html_url)"
   ]
  },
  {
   "cell_type": "markdown",
   "id": "7ca93a0b",
   "metadata": {},
   "source": [
    "Each story page has a some metadata at the top of the page, the story text, and some additional metadata in a sidebar. \n",
    "\n",
    "![](images/MFTD_story_page.png)\n",
    "\n",
    "The text is contained within a single HTML element, which is convenient. But the metadata at the top of the page and in the sidebar is very variable across story pages."
   ]
  },
  {
   "cell_type": "markdown",
   "id": "b182065f",
   "metadata": {},
   "source": [
    "To start with, let's parse the HTML using *BeautifulSoup* so that we can more easily work with it:"
   ]
  },
  {
   "cell_type": "code",
   "execution_count": 13,
   "id": "d66887d2",
   "metadata": {},
   "outputs": [],
   "source": [
    "# For some reason, requests-html can't reliably find the element\n",
    "# So parse the HTML using BeautifulSoup\n",
    "from bs4 import BeautifulSoup\n",
    "\n",
    "soup = BeautifulSoup(html_response.text, 'lxml')"
   ]
  },
  {
   "cell_type": "markdown",
   "id": "d1c8f76e",
   "metadata": {},
   "source": [
    "We can easily extract the title from the page header :"
   ]
  },
  {
   "cell_type": "code",
   "execution_count": 14,
   "id": "b830c0de",
   "metadata": {},
   "outputs": [
    {
     "data": {
      "text/plain": [
       "'The Piglet, the Sheep, and the Goat'"
      ]
     },
     "execution_count": 14,
     "metadata": {},
     "output_type": "execute_result"
    }
   ],
   "source": [
    "soup.find('h1').text"
   ]
  },
  {
   "cell_type": "markdown",
   "id": "02615ad3",
   "metadata": {},
   "source": [
    "In the HTML, the text can be found inside a `<text>` element."
   ]
  },
  {
   "cell_type": "code",
   "execution_count": 15,
   "id": "4f7811d8",
   "metadata": {},
   "outputs": [
    {
     "data": {
      "text/plain": [
       "'<text><p>  A YOUNG PIG was shut up in a fold-yard with a Goat and a Sheep.  On one occasion when the shepherd laid hold of him, he grunted and squeaked and resisted violently. The Sheep and the Goat complained of his distressing cries, saying, &amp;quot;He often handles us, and we do not cry out.&amp;quot; To this the Pig replied, &amp;quot;Your handling and mine are very different things. He catches you only for your wool, or your milk, but he lays hold on me for my very life.&amp;quot;</p></text>'"
      ]
     },
     "execution_count": 15,
     "metadata": {},
     "output_type": "execute_result"
    }
   ],
   "source": [
    "text = str(soup.find('text'))\n",
    "text"
   ]
  },
  {
   "cell_type": "markdown",
   "id": "b5fe04f0",
   "metadata": {},
   "source": [
    "Some of the texts have sentence tags (`<s>`); the `<s>` tag in HTML is a *strikethrough*, so let's just process that text to replace the `<s>` tags with `<span>` tags.\n",
    "\n",
    "We can also replace the `<title>` with a heading tag (`<h1>`)."
   ]
  },
  {
   "cell_type": "code",
   "execution_count": 16,
   "id": "a119a266",
   "metadata": {},
   "outputs": [],
   "source": [
    "text = text.replace(\"<s \", \"<span \").replace(\"</s>\", \"</span> \") # Add a space char\n",
    "text = text.replace(\"<title>\", \"<h1> \").replace(\"</title>\", \"</h1>\")"
   ]
  },
  {
   "cell_type": "markdown",
   "id": "775c59a8",
   "metadata": {},
   "source": [
    "We can now can now use the `markdownify` package to convert the story HTML to markdown:"
   ]
  },
  {
   "cell_type": "code",
   "execution_count": 17,
   "id": "b3da6061",
   "metadata": {},
   "outputs": [
    {
     "data": {
      "text/markdown": [
       " A YOUNG PIG was shut up in a fold-yard with a Goat and a Sheep. On one occasion when the shepherd laid hold of him, he grunted and squeaked and resisted violently. The Sheep and the Goat complained of his distressing cries, saying, &quot;He often handles us, and we do not cry out.&quot; To this the Pig replied, &quot;Your handling and mine are very different things. He catches you only for your wool, or your milk, but he lays hold on me for my very life.&quot;\n",
       "\n"
      ],
      "text/plain": [
       "<IPython.core.display.Markdown object>"
      ]
     },
     "execution_count": 17,
     "metadata": {},
     "output_type": "execute_result"
    }
   ],
   "source": [
    "import markdownify\n",
    "from IPython.display import Markdown\n",
    "\n",
    "m = markdownify.markdownify(text, bullets=\"-\")#.strip()\n",
    "Markdown(m)"
   ]
  },
  {
   "cell_type": "markdown",
   "id": "5de620a6",
   "metadata": {},
   "source": [
    "## Creating a Story Database\n",
    "\n",
    "Although we will be losing a lot of metadata information by only saving the story title and text, the available metadata fields are too inconsistent for us to reliably extract information with just a cursory review of a couple of stories. So for now, let's just create a pure story database, along with the XML path, with support for full text search."
   ]
  },
  {
   "cell_type": "code",
   "execution_count": 18,
   "id": "5ade1982",
   "metadata": {},
   "outputs": [
    {
     "data": {
      "text/plain": [
       "<Table english_stories (title, text, path)>"
      ]
     },
     "execution_count": 18,
     "metadata": {},
     "output_type": "execute_result"
    }
   ],
   "source": [
    "from sqlite_utils import Database\n",
    "\n",
    "db_name = \"mtdf_demo.db\"\n",
    "\n",
    "# While developing the script, recreate database each time...\n",
    "db = Database(db_name, recreate=True)\n",
    "\n",
    "db[\"english_stories\"].create({\n",
    "    \"title\": str,\n",
    "    \"text\": str,\n",
    "    \"path\": str\n",
    "})\n",
    "\n",
    "# Create a full text search table to improve search support\n",
    "# Include the path for convenience\n",
    "db[\"english_stories\"].enable_fts([\"title\", \"text\", \"path\"], create_triggers=True, tokenize=\"porter\")"
   ]
  },
  {
   "cell_type": "markdown",
   "id": "c3f64d9b",
   "metadata": {},
   "source": [
    "We can iterate through all the English story XML links and grab the stories into the database.\n",
    "\n",
    "Adding one story at a time to the database is inefficient, but if we want to play nicely with the MTFD server, we should have a short delay between requests anyway.\n",
    "\n",
    "With over 1700 records to grab the following will take some time to run (note that the requests are cached, so if we rerun the routine, we shouldn't be hitting the server again)...\n",
    "\n",
    "So set the following running, and go and get a cup of tea and some cake..."
   ]
  },
  {
   "cell_type": "code",
   "execution_count": 19,
   "id": "4c741cf1",
   "metadata": {},
   "outputs": [
    {
     "data": {
      "application/vnd.jupyter.widget-view+json": {
       "model_id": "55abe80484ad450393419234fa783ee7",
       "version_major": 2,
       "version_minor": 0
      },
      "text/plain": [
       "  0%|          | 0/1717 [00:00<?, ?it/s]"
      ]
     },
     "metadata": {},
     "output_type": "display_data"
    },
    {
     "data": {
      "text/plain": [
       "<Table english_stories (title, text, path)>"
      ]
     },
     "execution_count": 19,
     "metadata": {},
     "output_type": "execute_result"
    }
   ],
   "source": [
    "import time\n",
    "# We'll use a progress bar\n",
    "from tqdm.notebook import tqdm\n",
    "\n",
    "# Empty the db tables\n",
    "db[\"english_stories\"].delete_where()\n",
    "db[\"english_stories_fts\"].delete_where()\n",
    "\n",
    "records = []\n",
    "\n",
    "sleep_time = 0\n",
    "for i, xml_path in enumerate(tqdm(xml_paths_full)):\n",
    "    html_url = html_url_template.format(html_path=xml_path)\n",
    "    html_response = session.get(html_url)\n",
    "\n",
    "    soup = BeautifulSoup(html_response.text, 'lxml')\n",
    "    \n",
    "    record = {\"title\": soup.find('h1').text,\n",
    "              \"path\": xml_path}\n",
    "    \n",
    "    # Get the story text\n",
    "    text = str(soup.find('text'))\n",
    "    # Tidy it\n",
    "    text = text.replace(\"<s \", \"<span \").replace(\"</s>\", \"</span> \") # Add a space char\n",
    "    text = text.replace(\"<title>\", \"<h1> \").replace(\"</title>\", \"</h1>\")\n",
    "    # And convert to markdown\n",
    "    record[\"text\"] = markdownify.markdownify(text, bullets=\"-\")\n",
    "    \n",
    "    # Add to the database - batches of 50\n",
    "    records.append(record)\n",
    "    if len(records)==50:\n",
    "        #print(\"Adding records...\")\n",
    "        db[\"english_stories\"].insert_all(records)\n",
    "        \n",
    "        # Reset the session\n",
    "        records = []\n",
    "        session = HTMLSession()\n",
    "        #time.sleep(5) # Give a backoff...\n",
    "\n",
    "    # And play nice - ideally, we wouldn't do this with cached objects\n",
    "    # Even so, do we get backoff requests or rate limited?\n",
    "    time.sleep(sleep_time)\n",
    "\n",
    "#Final update\n",
    "db[\"english_stories\"].insert_all(records)"
   ]
  },
  {
   "cell_type": "markdown",
   "id": "fcdfad81",
   "metadata": {},
   "source": [
    "## Query the Database\n",
    "\n",
    "We can query the database table using exact search terms or using full text search. Let's start with an simple direct query:"
   ]
  },
  {
   "cell_type": "code",
   "execution_count": 20,
   "id": "4f12e665",
   "metadata": {},
   "outputs": [
    {
     "data": {
      "text/html": [
       "<div>\n",
       "<style scoped>\n",
       "    .dataframe tbody tr th:only-of-type {\n",
       "        vertical-align: middle;\n",
       "    }\n",
       "\n",
       "    .dataframe tbody tr th {\n",
       "        vertical-align: top;\n",
       "    }\n",
       "\n",
       "    .dataframe thead th {\n",
       "        text-align: right;\n",
       "    }\n",
       "</style>\n",
       "<table border=\"1\" class=\"dataframe\">\n",
       "  <thead>\n",
       "    <tr style=\"text-align: right;\">\n",
       "      <th></th>\n",
       "      <th>title</th>\n",
       "      <th>text</th>\n",
       "      <th>path</th>\n",
       "    </tr>\n",
       "  </thead>\n",
       "  <tbody>\n",
       "    <tr>\n",
       "      <th>0</th>\n",
       "      <td>The grave-mound</td>\n",
       "      <td>The grave-mound\\n================\\n\\nA rich f...</td>\n",
       "      <td>xmlfiles/eng/trans-1849.xml</td>\n",
       "    </tr>\n",
       "    <tr>\n",
       "      <th>1</th>\n",
       "      <td>The Sheep, the Stag, and the Wolf</td>\n",
       "      <td>When one rogue would another get\\nFor surety i...</td>\n",
       "      <td>xmlfiles/eng/trans-7953.xml</td>\n",
       "    </tr>\n",
       "    <tr>\n",
       "      <th>2</th>\n",
       "      <td>Demetrius and Menander</td>\n",
       "      <td>If Esop's name at any time\\nI bring into this ...</td>\n",
       "      <td>xmlfiles/eng/trans-8007.xml</td>\n",
       "    </tr>\n",
       "  </tbody>\n",
       "</table>\n",
       "</div>"
      ],
      "text/plain": [
       "                               title  \\\n",
       "0                    The grave-mound   \n",
       "1  The Sheep, the Stag, and the Wolf   \n",
       "2             Demetrius and Menander   \n",
       "\n",
       "                                                text  \\\n",
       "0   The grave-mound\\n================\\n\\nA rich f...   \n",
       "1  When one rogue would another get\\nFor surety i...   \n",
       "2  If Esop's name at any time\\nI bring into this ...   \n",
       "\n",
       "                          path  \n",
       "0  xmlfiles/eng/trans-1849.xml  \n",
       "1  xmlfiles/eng/trans-7953.xml  \n",
       "2  xmlfiles/eng/trans-8007.xml  "
      ]
     },
     "execution_count": 20,
     "metadata": {},
     "output_type": "execute_result"
    }
   ],
   "source": [
    "from pandas import read_sql\n",
    "\n",
    "q = \"SELECT * FROM english_stories LIMIT 3\"\n",
    "\n",
    "read_sql(q, db.conn)"
   ]
  },
  {
   "cell_type": "markdown",
   "id": "7dd6f34f",
   "metadata": {},
   "source": [
    "How many records are there?"
   ]
  },
  {
   "cell_type": "code",
   "execution_count": 21,
   "id": "7995ff33",
   "metadata": {},
   "outputs": [
    {
     "data": {
      "text/html": [
       "<div>\n",
       "<style scoped>\n",
       "    .dataframe tbody tr th:only-of-type {\n",
       "        vertical-align: middle;\n",
       "    }\n",
       "\n",
       "    .dataframe tbody tr th {\n",
       "        vertical-align: top;\n",
       "    }\n",
       "\n",
       "    .dataframe thead th {\n",
       "        text-align: right;\n",
       "    }\n",
       "</style>\n",
       "<table border=\"1\" class=\"dataframe\">\n",
       "  <thead>\n",
       "    <tr style=\"text-align: right;\">\n",
       "      <th></th>\n",
       "      <th>num_records</th>\n",
       "    </tr>\n",
       "  </thead>\n",
       "  <tbody>\n",
       "    <tr>\n",
       "      <th>0</th>\n",
       "      <td>1717</td>\n",
       "    </tr>\n",
       "  </tbody>\n",
       "</table>\n",
       "</div>"
      ],
      "text/plain": [
       "   num_records\n",
       "0         1717"
      ]
     },
     "execution_count": 21,
     "metadata": {},
     "output_type": "execute_result"
    }
   ],
   "source": [
    "q = \"SELECT COUNT(*) AS num_records FROM english_stories\"\n",
    "\n",
    "read_sql(q, db.conn)"
   ]
  },
  {
   "cell_type": "markdown",
   "id": "71c7fe68",
   "metadata": {},
   "source": [
    "We can also run a full text search:"
   ]
  },
  {
   "cell_type": "code",
   "execution_count": 22,
   "id": "5d7bc6f2",
   "metadata": {
    "scrolled": false
   },
   "outputs": [
    {
     "data": {
      "text/html": [
       "<div>\n",
       "<style scoped>\n",
       "    .dataframe tbody tr th:only-of-type {\n",
       "        vertical-align: middle;\n",
       "    }\n",
       "\n",
       "    .dataframe tbody tr th {\n",
       "        vertical-align: top;\n",
       "    }\n",
       "\n",
       "    .dataframe thead th {\n",
       "        text-align: right;\n",
       "    }\n",
       "</style>\n",
       "<table border=\"1\" class=\"dataframe\">\n",
       "  <thead>\n",
       "    <tr style=\"text-align: right;\">\n",
       "      <th></th>\n",
       "      <th>title</th>\n",
       "      <th>text</th>\n",
       "      <th>path</th>\n",
       "    </tr>\n",
       "  </thead>\n",
       "  <tbody>\n",
       "    <tr>\n",
       "      <th>0</th>\n",
       "      <td>The Story Of Little King Loc</td>\n",
       "      <td>Two or three miles from the coast of France, a...</td>\n",
       "      <td>xmlfiles/lang/lang_olive-4.xml</td>\n",
       "    </tr>\n",
       "  </tbody>\n",
       "</table>\n",
       "</div>"
      ],
      "text/plain": [
       "                          title  \\\n",
       "0  The Story Of Little King Loc   \n",
       "\n",
       "                                                text  \\\n",
       "0  Two or three miles from the coast of France, a...   \n",
       "\n",
       "                             path  \n",
       "0  xmlfiles/lang/lang_olive-4.xml  "
      ]
     },
     "execution_count": 22,
     "metadata": {},
     "output_type": "execute_result"
    }
   ],
   "source": [
    "# FTS search\n",
    "q = f\"\"\"\n",
    "SELECT english_stories_fts.* FROM english_stories_fts\n",
    "WHERE english_stories_fts MATCH {db.quote('sea \"white horses\" waves')};\n",
    "\"\"\"\n",
    "\n",
    "read_sql(q, db.conn)#.iloc[0]['text']"
   ]
  },
  {
   "cell_type": "markdown",
   "id": "51765623",
   "metadata": {},
   "source": [
    "## Parsing XML Story Files\n",
    "\n",
    "Stories in the MTFD are represented as XML files. We could parse each XML file into a simple record that we can add to a story database, but of course things aren't that simple. The `text` element of the XML document contains the text, but the structure is fluid. Some documents only contain paragraph tags, others contain chapter headings, yet others are broken down to the sentence level.\n",
    "\n",
    "If we had access to the complete XML schema (that is, a fully specified abstract representation of the elements and attributes that might appear in one of the XML documents) we would have more of a chance of creating a parser for the XML document. Even better if we had access to a stylesheet we could crib from that transformed to the XML to HTML.\n",
    "\n",
    "But we don't. So whilst the following represents some notes relating to how we might go about building out own parser for the XML documents, a complete treatment will not be attempted for now."
   ]
  },
  {
   "cell_type": "code",
   "execution_count": 23,
   "id": "3737fca9",
   "metadata": {},
   "outputs": [
    {
     "data": {
      "text/plain": [
       "'xmlfiles/eng/trans-1849.xml'"
      ]
     },
     "execution_count": 23,
     "metadata": {},
     "output_type": "execute_result"
    }
   ],
   "source": [
    "xml_example_path = xml_paths_full[0]\n",
    "xml_example_path"
   ]
  },
  {
   "cell_type": "markdown",
   "id": "24adec70",
   "metadata": {},
   "source": [
    "The full URL is rooted on `http://www.mftd.org/` which we can generate from a templated string:"
   ]
  },
  {
   "cell_type": "code",
   "execution_count": 24,
   "id": "ff821e20",
   "metadata": {},
   "outputs": [
    {
     "data": {
      "text/plain": [
       "'http://www.mftd.org/xmlfiles/eng/trans-1849.xml'"
      ]
     },
     "execution_count": 24,
     "metadata": {},
     "output_type": "execute_result"
    }
   ],
   "source": [
    "xml_url_template = \"http://www.mftd.org/{xml_path}\"\n",
    "\n",
    "xml_url = xml_url_template.format(xml_path=xml_example_path)\n",
    "xml_url"
   ]
  },
  {
   "cell_type": "markdown",
   "id": "46f06e48",
   "metadata": {},
   "source": [
    "Start off by grabbing the XML file:"
   ]
  },
  {
   "cell_type": "code",
   "execution_count": 25,
   "id": "d593f243",
   "metadata": {},
   "outputs": [],
   "source": [
    "import requests\n",
    "\n",
    "xml_response = requests.get(xml_url)"
   ]
  },
  {
   "cell_type": "markdown",
   "id": "528326ad",
   "metadata": {},
   "source": [
    "We can now parse the XML into an `OrderedDict` data structure using the `xmltodict` package. Since Python 3.6+, simple Python dictionaries have been order preserving, so we lose nothing by converting the `OrderedDict` to a simple `dict` by saving it out to a JSON datastructure then reading it back in as a `dict`:"
   ]
  },
  {
   "cell_type": "code",
   "execution_count": 26,
   "id": "2f46558e",
   "metadata": {},
   "outputs": [],
   "source": [
    "import xmltodict\n",
    "import json\n",
    "\n",
    "xml_dict = json.loads(json.dumps(xmltodict.parse(xml_response.content, process_namespaces=True)[\"TEI\"]))\n",
    "#xml_dict"
   ]
  },
  {
   "cell_type": "markdown",
   "id": "0ac427d2",
   "metadata": {},
   "source": [
    "We can cast this structure to a flat, row-based form using the *pandas* `json_normalize` function, tidying up the column names a little as we do so:"
   ]
  },
  {
   "cell_type": "code",
   "execution_count": 27,
   "id": "cfe4a743",
   "metadata": {},
   "outputs": [
    {
     "data": {
      "text/html": [
       "<div>\n",
       "<style scoped>\n",
       "    .dataframe tbody tr th:only-of-type {\n",
       "        vertical-align: middle;\n",
       "    }\n",
       "\n",
       "    .dataframe tbody tr th {\n",
       "        vertical-align: top;\n",
       "    }\n",
       "\n",
       "    .dataframe thead th {\n",
       "        text-align: right;\n",
       "    }\n",
       "</style>\n",
       "<table border=\"1\" class=\"dataframe\">\n",
       "  <thead>\n",
       "    <tr style=\"text-align: right;\">\n",
       "      <th></th>\n",
       "      <th>teiHeader.fileDesc.titleStmt.title</th>\n",
       "      <th>teiHeader.fileDesc.titleStmt.author</th>\n",
       "      <th>teiHeader.fileDesc.sourceDesc.bibl.@id</th>\n",
       "      <th>teiHeader.fileDesc.sourceDesc.bibl.@type</th>\n",
       "      <th>teiHeader.fileDesc.sourceDesc.bibl.title</th>\n",
       "      <th>teiHeader.fileDesc.sourceDesc.bibl.author</th>\n",
       "      <th>teiHeader.fileDesc.sourceDesc.bibl.booktitle</th>\n",
       "      <th>teiHeader.fileDesc.sourceDesc.bibl.date</th>\n",
       "      <th>teiHeader.fileDesc.notesStmt.note</th>\n",
       "      <th>teiHeader.fileDesc.notesStmt.notes.@n</th>\n",
       "      <th>teiHeader.profileDesc.langUsage.language.@ident</th>\n",
       "      <th>teiHeader.profileDesc.langUsage.language.#text</th>\n",
       "      <th>text.@language</th>\n",
       "      <th>text.title</th>\n",
       "      <th>text.chapter.@id</th>\n",
       "      <th>text.chapter.p</th>\n",
       "    </tr>\n",
       "  </thead>\n",
       "  <tbody>\n",
       "    <tr>\n",
       "      <th>0</th>\n",
       "      <td>The grave-mound</td>\n",
       "      <td>None</td>\n",
       "      <td>trans-1851.xml</td>\n",
       "      <td>orig</td>\n",
       "      <td>Der Grabhügel</td>\n",
       "      <td>Jacob &amp; Wilhelm Grimm</td>\n",
       "      <td>None</td>\n",
       "      <td>1812</td>\n",
       "      <td>[{'@n': 'recid', '#text': '1849'}, {'@n': 'nam...</td>\n",
       "      <td>atu</td>\n",
       "      <td>eng</td>\n",
       "      <td>English</td>\n",
       "      <td></td>\n",
       "      <td>The grave-mound</td>\n",
       "      <td>1</td>\n",
       "      <td>[{'@id': 'p-1', 's': [{'@id': 's-1', '#text': ...</td>\n",
       "    </tr>\n",
       "  </tbody>\n",
       "</table>\n",
       "</div>"
      ],
      "text/plain": [
       "  teiHeader.fileDesc.titleStmt.title teiHeader.fileDesc.titleStmt.author  \\\n",
       "0                    The grave-mound                                None   \n",
       "\n",
       "  teiHeader.fileDesc.sourceDesc.bibl.@id  \\\n",
       "0                         trans-1851.xml   \n",
       "\n",
       "  teiHeader.fileDesc.sourceDesc.bibl.@type  \\\n",
       "0                                     orig   \n",
       "\n",
       "  teiHeader.fileDesc.sourceDesc.bibl.title  \\\n",
       "0                            Der Grabhügel   \n",
       "\n",
       "  teiHeader.fileDesc.sourceDesc.bibl.author  \\\n",
       "0                     Jacob & Wilhelm Grimm   \n",
       "\n",
       "  teiHeader.fileDesc.sourceDesc.bibl.booktitle  \\\n",
       "0                                         None   \n",
       "\n",
       "  teiHeader.fileDesc.sourceDesc.bibl.date  \\\n",
       "0                                    1812   \n",
       "\n",
       "                   teiHeader.fileDesc.notesStmt.note  \\\n",
       "0  [{'@n': 'recid', '#text': '1849'}, {'@n': 'nam...   \n",
       "\n",
       "  teiHeader.fileDesc.notesStmt.notes.@n  \\\n",
       "0                                   atu   \n",
       "\n",
       "  teiHeader.profileDesc.langUsage.language.@ident  \\\n",
       "0                                             eng   \n",
       "\n",
       "  teiHeader.profileDesc.langUsage.language.#text text.@language  \\\n",
       "0                                        English                  \n",
       "\n",
       "        text.title text.chapter.@id  \\\n",
       "0  The grave-mound                1   \n",
       "\n",
       "                                      text.chapter.p  \n",
       "0  [{'@id': 'p-1', 's': [{'@id': 's-1', '#text': ...  "
      ]
     },
     "execution_count": 27,
     "metadata": {},
     "output_type": "execute_result"
    }
   ],
   "source": [
    "from pandas import json_normalize\n",
    "\n",
    "df_xml = json_normalize(xml_dict)\n",
    "df_xml"
   ]
  },
  {
   "cell_type": "code",
   "execution_count": 28,
   "id": "2d752cbe",
   "metadata": {},
   "outputs": [
    {
     "data": {
      "text/html": [
       "<div>\n",
       "<style scoped>\n",
       "    .dataframe tbody tr th:only-of-type {\n",
       "        vertical-align: middle;\n",
       "    }\n",
       "\n",
       "    .dataframe tbody tr th {\n",
       "        vertical-align: top;\n",
       "    }\n",
       "\n",
       "    .dataframe thead th {\n",
       "        text-align: right;\n",
       "    }\n",
       "</style>\n",
       "<table border=\"1\" class=\"dataframe\">\n",
       "  <thead>\n",
       "    <tr style=\"text-align: right;\">\n",
       "      <th></th>\n",
       "      <th>titleStmt_title</th>\n",
       "      <th>titleStmt_author</th>\n",
       "      <th>bibl_id</th>\n",
       "      <th>bibl_type</th>\n",
       "      <th>bibl_title</th>\n",
       "      <th>bibl_author</th>\n",
       "      <th>bibl_booktitle</th>\n",
       "      <th>bibl_date</th>\n",
       "      <th>notes_n</th>\n",
       "      <th>language_ident</th>\n",
       "      <th>language_text</th>\n",
       "      <th>text_language</th>\n",
       "      <th>text_title</th>\n",
       "      <th>chapter_id</th>\n",
       "      <th>chapter_p</th>\n",
       "    </tr>\n",
       "  </thead>\n",
       "  <tbody>\n",
       "    <tr>\n",
       "      <th>0</th>\n",
       "      <td>The grave-mound</td>\n",
       "      <td>None</td>\n",
       "      <td>trans-1851.xml</td>\n",
       "      <td>orig</td>\n",
       "      <td>Der Grabhügel</td>\n",
       "      <td>Jacob &amp; Wilhelm Grimm</td>\n",
       "      <td>None</td>\n",
       "      <td>1812</td>\n",
       "      <td>atu</td>\n",
       "      <td>eng</td>\n",
       "      <td>English</td>\n",
       "      <td></td>\n",
       "      <td>The grave-mound</td>\n",
       "      <td>1</td>\n",
       "      <td>[{'@id': 'p-1', 's': [{'@id': 's-1', '#text': ...</td>\n",
       "    </tr>\n",
       "  </tbody>\n",
       "</table>\n",
       "</div>"
      ],
      "text/plain": [
       "   titleStmt_title titleStmt_author         bibl_id bibl_type     bibl_title  \\\n",
       "0  The grave-mound             None  trans-1851.xml      orig  Der Grabhügel   \n",
       "\n",
       "             bibl_author bibl_booktitle bibl_date notes_n language_ident  \\\n",
       "0  Jacob & Wilhelm Grimm           None      1812     atu            eng   \n",
       "\n",
       "  language_text text_language       text_title chapter_id  \\\n",
       "0       English                The grave-mound          1   \n",
       "\n",
       "                                           chapter_p  \n",
       "0  [{'@id': 'p-1', 's': [{'@id': 's-1', '#text': ...  "
      ]
     },
     "execution_count": 28,
     "metadata": {},
     "output_type": "execute_result"
    }
   ],
   "source": [
    "# Drop the notes column\n",
    "df_xml.drop(columns=[\"teiHeader.fileDesc.notesStmt.note\"],\n",
    "            inplace=True) # What is extent of teiHeader.fileDesc.notesStmt.note ?\n",
    "\n",
    "# Tidy up column names\n",
    "df_xml.columns = [\"_\".join(c.split(\".\")[-2:]).replace(\"#\", \"\").replace(\"@\", \"\") for c in df_xml.columns]\n",
    "\n",
    "df_xml"
   ]
  }
 ],
 "metadata": {
  "kernelspec": {
   "display_name": "Python 3",
   "language": "python",
   "name": "python3"
  },
  "language_info": {
   "codemirror_mode": {
    "name": "ipython",
    "version": 3
   },
   "file_extension": ".py",
   "mimetype": "text/x-python",
   "name": "python",
   "nbconvert_exporter": "python",
   "pygments_lexer": "ipython3",
   "version": "3.9.8"
  }
 },
 "nbformat": 4,
 "nbformat_minor": 5
}
