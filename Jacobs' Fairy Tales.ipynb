{
 "cells": [
  {
   "cell_type": "markdown",
   "id": "e86d9d2b",
   "metadata": {},
   "source": [
    "# Jacobs' Fairy Tales\n",
    "\n",
    "This recipe shows how to scrape Jacobs' fairy tale collections from source OCR search text documents returned from the Internet Archive.\n",
    "\n",
    "The works include:\n",
    "\n",
    "- [*English Fairy Tales*](https://archive.org/details/englishfairytal00jacogoog/);\n",
    "- [*More English Fairy Tales*](https://archive.org/details/moreenglishfairy00jaco2/);\n",
    "- [*Celtic Fairy Tales*](https://archive.org/details/celticfairytale00conggoog)\n",
    "- [*More Celtic Fairy Tales*](https://archive.org/details/moreenglishfairy00jaco2/)\n",
    "- [*Indian Fairy Tales*](https://archive.org/details/indianfairytales00jaco)\n",
    "- [*European folk and fairy tales*](https://archive.org/details/europeanfolkfair00jaco/)\n",
    "\n",
    "The approach explores how we can \"chunk\" the original text into separate stories, and suggests that a combined human + machine strategy may provide a more realistic approach than trying to create a purely automated approach."
   ]
  },
  {
   "cell_type": "markdown",
   "id": "75836861",
   "metadata": {},
   "source": [
    "```{warning}\n",
    "For each of the works, several different scanned versions of the text may be available. A quick look at the full text document for each version will give a feel for how effective the OCR process was. Ideally, we're looking for full text that was recognised cleanly and is not full of typographical errors.\n",
    "```"
   ]
  },
  {
   "cell_type": "markdown",
   "id": "6a146942",
   "metadata": {},
   "source": [
    "## Tidying the Text\n",
    "\n",
    "Cursory inspection of the texts suggests certain common form of error, particularly in the parsing of quotation marks. The following rules provide various ways of correcting certain errors:"
   ]
  },
  {
   "cell_type": "code",
   "execution_count": 20,
   "id": "88f2b60e",
   "metadata": {},
   "outputs": [
    {
     "name": "stdout",
     "output_type": "stream",
     "text": [
      "Original: --'' Text -- replaced by --\" Text --\n",
      "Original: --*' Text-- replaced by --\" Text--\n",
      "Original: --'* Text-- replaced by --\" Text--\n",
      "Original: --text ''-- replaced by --text \"--\n",
      "Original: --text *'-- replaced by --text \"--\n",
      "Original: --text ''-- replaced by --text \"--\n",
      "Original: --*Text-- replaced by --\"Text--\n",
      "Original: --text*-- replaced by --text\"--\n",
      "Original: --text * text2-- replaced by --text\"text2--\n",
      "Original: --\n",
      "\" Text-- replaced by --\n",
      "\"Text--\n"
     ]
    }
   ],
   "source": [
    "import re\n",
    "\n",
    "tests = [\"'' Text \", \"*' Text\", \"'* Text\",\n",
    "         \"text ''\", \"text *'\", \"text ''\",\n",
    "         \"*Text\", \"text*\", \"text * text2\",\n",
    "         '\\n\" Text']\n",
    "\n",
    "def quote_fix(txt):\n",
    "    \"\"\"Various broken quotation mark fixes.\"\"\"\n",
    "    # Replace any two consecutive ' and * characters\n",
    "    # Note that is give a false positive for a long list of * chars\n",
    "    txt_fix = re.sub(\"[\\*']{2}\",'\"', txt)\n",
    "    # Replace a * followed by an anlphachar assuming it to be a \"\n",
    "    txt_fix = re.sub(\"\\*([a-zA-Z])\", r'\"\\1', txt_fix)\n",
    "    txt_fix = re.sub(\"([a-zA-Z])\\*\", r'\\1\"', txt_fix)\n",
    "    txt_fix = re.sub(\"([a-zA-Z]) \\* ([a-zA-z])\", r'\\1\"\\2', txt_fix)\n",
    "    # If we get a quote at a start of a line followed by a space,\n",
    "    # remove the space character\n",
    "    txt_fix = re.sub('\\n[\"\\'] ','\\n\"', txt_fix)\n",
    "    \n",
    "    return txt_fix\n",
    "\n",
    "for test in tests:\n",
    "    test_fix = quote_fix(test)\n",
    "    print(f\"Original: --{test}-- replaced by --{test_fix}--\")"
   ]
  },
  {
   "cell_type": "code",
   "execution_count": null,
   "id": "6ca52212",
   "metadata": {},
   "outputs": [],
   "source": []
  }
 ],
 "metadata": {
  "kernelspec": {
   "display_name": "Python 3",
   "language": "python",
   "name": "python3"
  },
  "language_info": {
   "codemirror_mode": {
    "name": "ipython",
    "version": 3
   },
   "file_extension": ".py",
   "mimetype": "text/x-python",
   "name": "python",
   "nbconvert_exporter": "python",
   "pygments_lexer": "ipython3",
   "version": "3.9.8"
  }
 },
 "nbformat": 4,
 "nbformat_minor": 5
}
